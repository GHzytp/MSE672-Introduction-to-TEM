{
 "cells": [
  {
   "cell_type": "markdown",
   "metadata": {
    "hideCode": false,
    "hidePrompt": false
   },
   "source": [
    "<font size = \"5\"> **Chapter 1: [Introduction](CH1_00-Introduction.ipynb)** </font>\n",
    "\n",
    "\n",
    "<hr style=\"height:1px;border-top:4px solid #FF8200\" />\n",
    "\n",
    "# Open DM3 Images, Spectra, Spectrum-Images and  Image-Stacks with pyNSID \n",
    "\n",
    "part of \n",
    "\n",
    "<font size = \"5\"> **[MSE672:  Introduction to Transmission Electron Microscopy](_MSE672_Intro_TEM.ipynb)**</font>\n",
    "\n",
    "by Gerd Duscher, Fall 2021\n",
    "\n",
    "Microscopy Facilities<br>\n",
    "Joint Institute of Advanced Materials<br>\n",
    "Materials Science & Engineering<br>\n",
    "The University of Tennessee, Knoxville\n",
    "\n",
    "Background and methods to analysis and quantification of data acquired with transmission electron microscopes.\n",
    "\n",
    "---\n",
    "Reading a dm file and translating the data in a **[pyNSID](https://pycroscopy.github.io/pyNSID/)** style hf5py file to be compatible with  the **[pycroscopy](https://pycroscopy.github.io/pycroscopy/)** package.\n",
    "\n",
    "Because, many other packages and programs for TEM data manipulation are based on the ``hdf5`` file-formats it is relatively easy to convert back and forward between them.\n",
    "\n"
   ]
  },
  {
   "cell_type": "markdown",
   "metadata": {
    "hideCode": false,
    "hidePrompt": false
   },
   "source": [
    "## First, we load the necessary packages\n",
    "Please visit the  section for [pyTEMlib](CH1-Prerequesites.ipynb#TEM-Library) of the [Prerequesites](CH1-Prerequesites.ipynb) section for information of necessary packages."
   ]
  },
  {
   "cell_type": "code",
   "execution_count": 1,
   "metadata": {
    "hideCode": false,
    "hidePrompt": false
   },
   "outputs": [
    {
     "name": "stdout",
     "output_type": "stream",
     "text": [
      "Populating the interactive namespace from numpy and matplotlib\n",
      "windows\n",
      "pyTEM version:  0.2020.04.2\n"
     ]
    }
   ],
   "source": [
    "# import matplotlib and numpy\n",
    "#                       use \"inline\" instead of \"notebook\" for non-interactive plots\n",
    "%pylab --no-import-all notebook\n",
    "%gui qt\n",
    "\n",
    "# import TEMlib from pyTEM\n",
    "import pyTEMlib\n",
    "import file_tools_nsid  as ft     # File input/ output library\n",
    "\n",
    "# import packages for pyUSID, not really needed her, but important for low level access to data.\n",
    "#import pyNSID as nsid\n",
    "#import h5py\n",
    "\n",
    "# For archiving reasons it is a good idea to print the version numbers out at this point\n",
    "print('pyTEM version: ',pyTEMlib.__version__)\n",
    "__notebook__='CH1-Reading_File'\n",
    "__notebook_version__='2020_06_08'\n"
   ]
  },
  {
   "cell_type": "markdown",
   "metadata": {
    "hideCode": false,
    "hidePrompt": false
   },
   "source": [
    "## Open a file \n",
    "\n",
    "This function opens a hfd5 file in the pyUSID style which enables you to keep track of your data anlysis.\n",
    "\n",
    "Please see the **[Installation](CH1-Prerequisites.ipynb#TEM-Library)** notebook for installation.\n",
    "\n",
    "We want to consolidate files into one dataset that belongs together.  For example a spectrum image dataset consists of: \n",
    "* Survey image, \n",
    "* EELS spectra \n",
    "* Z-contrast image acquired simulatonioulsy with the spectra.\n",
    "\n",
    "\n",
    "So load the top dataset first in the above example the survey image.\n",
    "\n",
    "Please note that the plotting routine of ``matplotlib`` was introduced in **[Matplotlib and Numpy for Micrographs](CH1-Data_Representation.ipynb)** notebook.\n",
    "\n",
    "**Use the file p1-3hr.dm3 from TEM_data directory for a practice run**"
   ]
  },
  {
   "cell_type": "code",
   "execution_count": 2,
   "metadata": {
    "hideCode": false,
    "hidePrompt": false,
    "scrolled": false
   },
   "outputs": [
    {
     "name": "stdout",
     "output_type": "stream",
     "text": [
      "parent\n",
      "Found  EELS_spectrum  in dm3 file\n",
      "Cannot overwrite file. Using:  01-EELS Acquire_STO-30.hf5\n"
     ]
    },
    {
     "ename": "NameError",
     "evalue": "name 'validate_dimensions' is not defined",
     "output_type": "error",
     "traceback": [
      "\u001b[1;31m---------------------------------------------------------------------------\u001b[0m",
      "\u001b[1;31mNameError\u001b[0m                                 Traceback (most recent call last)",
      "\u001b[1;32m<ipython-input-2-8c84faf742e0>\u001b[0m in \u001b[0;36m<module>\u001b[1;34m\u001b[0m\n\u001b[0;32m      6\u001b[0m \u001b[1;33m\u001b[0m\u001b[0m\n\u001b[0;32m      7\u001b[0m \u001b[1;31m# Load file\u001b[0m\u001b[1;33m\u001b[0m\u001b[1;33m\u001b[0m\u001b[1;33m\u001b[0m\u001b[0m\n\u001b[1;32m----> 8\u001b[1;33m \u001b[0mh5_file\u001b[0m \u001b[1;33m=\u001b[0m \u001b[0mft\u001b[0m\u001b[1;33m.\u001b[0m\u001b[0mh5_open_file\u001b[0m\u001b[1;33m(\u001b[0m\u001b[1;33m)\u001b[0m\u001b[1;31m#os.path.join(current_directory,filename))\u001b[0m\u001b[1;33m\u001b[0m\u001b[1;33m\u001b[0m\u001b[0m\n\u001b[0m\u001b[0;32m      9\u001b[0m \u001b[0mcurrent_channel\u001b[0m \u001b[1;33m=\u001b[0m \u001b[0mh5_file\u001b[0m\u001b[1;33m[\u001b[0m\u001b[1;34m'Measurement_000/Channel_000'\u001b[0m\u001b[1;33m]\u001b[0m\u001b[1;33m\u001b[0m\u001b[1;33m\u001b[0m\u001b[0m\n\u001b[0;32m     10\u001b[0m \u001b[0mcurrent_dataset\u001b[0m \u001b[1;33m=\u001b[0m \u001b[0mcurrent_channel\u001b[0m\u001b[1;33m[\u001b[0m\u001b[1;34m'nDim_Data'\u001b[0m\u001b[1;33m]\u001b[0m\u001b[1;33m\u001b[0m\u001b[1;33m\u001b[0m\u001b[0m\n",
      "\u001b[1;32m~\\Documents\\GitHub\\Analysis-of-Transmission-Electron-Microscope-Data\\file_tools_nsid.py\u001b[0m in \u001b[0;36mh5_open_file\u001b[1;34m(filename, current_channel)\u001b[0m\n\u001b[0;32m    392\u001b[0m         \u001b[0mcurrent_channel\u001b[0m\u001b[1;33m[\u001b[0m\u001b[1;34m'title'\u001b[0m\u001b[1;33m]\u001b[0m \u001b[1;33m=\u001b[0m \u001b[0mbasename\u001b[0m\u001b[1;33m\u001b[0m\u001b[1;33m\u001b[0m\u001b[0m\n\u001b[0;32m    393\u001b[0m \u001b[1;33m\u001b[0m\u001b[0m\n\u001b[1;32m--> 394\u001b[1;33m         \u001b[0mdset\u001b[0m \u001b[1;33m=\u001b[0m \u001b[0mmake_h5_dataset\u001b[0m\u001b[1;33m(\u001b[0m\u001b[0mcurrent_channel\u001b[0m\u001b[1;33m,\u001b[0m \u001b[0mtags\u001b[0m\u001b[1;33m)\u001b[0m\u001b[1;33m\u001b[0m\u001b[1;33m\u001b[0m\u001b[0m\n\u001b[0m\u001b[0;32m    395\u001b[0m         \u001b[0mdset\u001b[0m\u001b[1;33m.\u001b[0m\u001b[0mattrs\u001b[0m\u001b[1;33m[\u001b[0m\u001b[1;34m'title'\u001b[0m\u001b[1;33m]\u001b[0m \u001b[1;33m=\u001b[0m \u001b[0mbasename\u001b[0m\u001b[1;33m\u001b[0m\u001b[1;33m\u001b[0m\u001b[0m\n\u001b[0;32m    396\u001b[0m \u001b[1;33m\u001b[0m\u001b[0m\n",
      "\u001b[1;32m~\\Documents\\GitHub\\Analysis-of-Transmission-Electron-Microscope-Data\\file_tools_nsid.py\u001b[0m in \u001b[0;36mmake_h5_dataset\u001b[1;34m(current_channel, tags)\u001b[0m\n\u001b[0;32m    904\u001b[0m     \u001b[0mcurrent_channel\u001b[0m\u001b[1;33m[\u001b[0m\u001b[1;34m'data_type'\u001b[0m\u001b[1;33m]\u001b[0m \u001b[1;33m=\u001b[0m \u001b[0mdata_type\u001b[0m\u001b[1;33m\u001b[0m\u001b[1;33m\u001b[0m\u001b[0m\n\u001b[0;32m    905\u001b[0m \u001b[1;33m\u001b[0m\u001b[0m\n\u001b[1;32m--> 906\u001b[1;33m     \u001b[0mdset\u001b[0m \u001b[1;33m=\u001b[0m \u001b[0mnsid\u001b[0m\u001b[1;33m.\u001b[0m\u001b[0mwrite_main_dataset\u001b[0m\u001b[1;33m(\u001b[0m\u001b[0mcurrent_channel\u001b[0m\u001b[1;33m,\u001b[0m \u001b[0mmain_data\u001b[0m\u001b[1;33m,\u001b[0m \u001b[0mmain_data_name\u001b[0m\u001b[1;33m,\u001b[0m \u001b[0mquantity\u001b[0m\u001b[1;33m,\u001b[0m \u001b[0munits\u001b[0m\u001b[1;33m,\u001b[0m \u001b[0mtags_dimension\u001b[0m\u001b[1;33m,\u001b[0m \u001b[1;33m{\u001b[0m\u001b[1;34m'data_type'\u001b[0m\u001b[1;33m:\u001b[0m \u001b[0mdata_type\u001b[0m\u001b[1;33m}\u001b[0m\u001b[1;33m)\u001b[0m\u001b[1;33m\u001b[0m\u001b[1;33m\u001b[0m\u001b[0m\n\u001b[0m\u001b[0;32m    907\u001b[0m \u001b[1;33m\u001b[0m\u001b[0m\n\u001b[0;32m    908\u001b[0m     \u001b[0moriginal_group\u001b[0m \u001b[1;33m=\u001b[0m \u001b[0mcurrent_channel\u001b[0m\u001b[1;33m.\u001b[0m\u001b[0mcreate_group\u001b[0m\u001b[1;33m(\u001b[0m\u001b[1;34m'original_metadata'\u001b[0m\u001b[1;33m)\u001b[0m\u001b[1;33m\u001b[0m\u001b[1;33m\u001b[0m\u001b[0m\n",
      "\u001b[1;32m~\\Documents\\GitHub\\Analysis-of-Transmission-Electron-Microscope-Data\\pyNSID.py\u001b[0m in \u001b[0;36mwrite_main_dataset\u001b[1;34m(h5_parent_group, main_data, main_data_name, quantity, units, dim_dict, main_dset_attrs, h5_pos_inds, h5_pos_vals, h5_spec_inds, h5_spec_vals, aux_spec_prefix, aux_pos_prefix, verbose, slow_to_fast, **kwargs)\u001b[0m\n\u001b[0;32m    225\u001b[0m \u001b[1;33m\u001b[0m\u001b[0m\n\u001b[0;32m    226\u001b[0m \u001b[1;33m\u001b[0m\u001b[0m\n\u001b[1;32m--> 227\u001b[1;33m     \u001b[1;32mif\u001b[0m \u001b[1;32mFalse\u001b[0m \u001b[1;32min\u001b[0m \u001b[0mvalidate_dimensions\u001b[0m\u001b[1;33m(\u001b[0m\u001b[0mmain_shape\u001b[0m\u001b[1;33m,\u001b[0m\u001b[0mdim_dict\u001b[0m\u001b[1;33m,\u001b[0m \u001b[0mh5_parent_group\u001b[0m\u001b[1;33m)\u001b[0m\u001b[1;33m:\u001b[0m\u001b[1;33m\u001b[0m\u001b[1;33m\u001b[0m\u001b[0m\n\u001b[0m\u001b[0;32m    228\u001b[0m         \u001b[0mprint\u001b[0m\u001b[1;33m(\u001b[0m\u001b[1;34m'dimensions incorrect'\u001b[0m\u001b[1;33m)\u001b[0m\u001b[1;33m\u001b[0m\u001b[1;33m\u001b[0m\u001b[0m\n\u001b[0;32m    229\u001b[0m \u001b[1;33m\u001b[0m\u001b[0m\n",
      "\u001b[1;31mNameError\u001b[0m: name 'validate_dimensions' is not defined"
     ]
    }
   ],
   "source": [
    "# We might run this code cell several times and so we first try to close the file if open.\n",
    "try:\n",
    "    h5_file.close()\n",
    "except:\n",
    "    pass\n",
    "\n",
    "# Load file\n",
    "h5_file = ft.h5_open_file()#os.path.join(current_directory,filename))\n",
    "current_channel = h5_file['Measurement_000/Channel_000']\n",
    "current_dataset = current_channel['nDim_Data']\n",
    "\n",
    "ft.h5_plot(current_dataset)"
   ]
  },
  {
   "cell_type": "markdown",
   "metadata": {},
   "source": [
    "## Data Structure\n",
    "\n",
    "The data themself reside in a ``hdf5 dataset`` which we name ``current_dataset``."
   ]
  },
  {
   "cell_type": "code",
   "execution_count": null,
   "metadata": {},
   "outputs": [],
   "source": [
    "print(f'size of current dataset is {current_dataset.shape}')"
   ]
  },
  {
   "cell_type": "markdown",
   "metadata": {},
   "source": [
    "The current_dataset has additional information stored as attributs which can be accessed through the ``attrs`` function."
   ]
  },
  {
   "cell_type": "code",
   "execution_count": null,
   "metadata": {},
   "outputs": [],
   "source": [
    "print(current_dataset.attrs.keys())"
   ]
  },
  {
   "cell_type": "markdown",
   "metadata": {},
   "source": [
    "The current_channel (like a directory in a file system) contains several groups.\n",
    "\n",
    "Below I show how to access one of those groups."
   ]
  },
  {
   "cell_type": "code",
   "execution_count": null,
   "metadata": {},
   "outputs": [],
   "source": [
    "print(current_channel.keys())\n",
    "\n",
    "print(current_channel['data_type'][()])"
   ]
  },
  {
   "cell_type": "markdown",
   "metadata": {},
   "source": [
    "An important group in ``current_channel`` is the ``original_metadata`` group, where all the original metadata of your file reside in the ``attributes``. This is usually a long list for ``dm3`` files."
   ]
  },
  {
   "cell_type": "code",
   "execution_count": null,
   "metadata": {},
   "outputs": [],
   "source": [
    "for key,value in current_channel['original_metadata'].attrs.items():\n",
    "    print(key, value)"
   ]
  },
  {
   "cell_type": "code",
   "execution_count": null,
   "metadata": {},
   "outputs": [],
   "source": [
    "print(current_channel.keys())"
   ]
  },
  {
   "cell_type": "markdown",
   "metadata": {},
   "source": [
    "## Adding Data\n",
    "\n",
    "To add another dataset that belongs to this measurement we will use the **h5_add_channel** from  **filetools** in the  pyTEMlib package.\n",
    "\n",
    "Here is how we add a channel there.\n",
    "\n",
    "We can also add a new measurement group (add_measurement in pyTEMlib) for similar datasets.\n",
    "\n",
    "This is equivalent to making a new directory in a file structure on your computer."
   ]
  },
  {
   "cell_type": "code",
   "execution_count": null,
   "metadata": {},
   "outputs": [],
   "source": [
    "import pyUSID as usid\n",
    "\n",
    "def h5_add_channel(current_channel):\n",
    "    measurement_group = h5_file[current_channel.name.split('/')[1]]\n",
    "    name = usid.io.hdf_utils.assign_group_index(measurement_group,'Channel')\n",
    "    \n",
    "    additional_channel = measurement_group.create_group(name)\n",
    "\n",
    "def h5_add_measurement(h5_file):\n",
    "    new_measurement_group = usid.io.hdf_utils.create_indexed_group(h5_file,'Measurement')\n",
    "ft.h5_add_measurement(h5_file)    \n",
    "ft.h5_tree(h5_file)  #wraps usid.hdf_utils.print_tree(h5_file)"
   ]
  },
  {
   "cell_type": "markdown",
   "metadata": {},
   "source": [
    "We use above functions to add the content of a (random) data-file to the current file.\n",
    "\n",
    "This is important if you for example want to add a Z-contrast or survey-image to an spectrum image.\n",
    "\n",
    "Therefore these functions enable you to collect the data from different files that belong together.\n"
   ]
  },
  {
   "cell_type": "code",
   "execution_count": null,
   "metadata": {},
   "outputs": [],
   "source": [
    "new_channel = ft.h5_add_data(current_channel)\n",
    "\n",
    "ft.h5_tree(h5_file)  #wraps usid.hdf_utils.print_tree(h5_file)"
   ]
  },
  {
   "cell_type": "markdown",
   "metadata": {},
   "source": [
    "## Adding additional information\n",
    "\n",
    "Similarly we can add a whole new measurement group or a structure group.\n",
    "\n",
    "This function will be contained in the KinsCat package of pyTEMlib.\n",
    "\n",
    "If you loaded the example image, with graphite and ZnO both are viewed in the [1,1,1] zone axis.\n"
   ]
  },
  {
   "cell_type": "code",
   "execution_count": null,
   "metadata": {},
   "outputs": [],
   "source": [
    "import pyTEMlib.KinsCat as ks         # Kinematic sCattering Library\n",
    "                             # with Atomic form factors from Kirklands book\n",
    "\n",
    "def h5_add_crystal_structure(h5_file, crystal_tags):\n",
    "    structure_group = usid.io.hdf_utils.create_indexed_group(h5_file,'Structure')\n",
    "    \n",
    "    structure_group['unit_cell'] = crystal_tags['unit_cell']\n",
    "    structure_group['relative_positions'] = crystal_tags['base']\n",
    "    structure_group['title'] = str(crystal_tags['crystal_name'])\n",
    "    structure_group['_'+crystal_tags['crystal_name']] = str(crystal_tags['crystal_name'])\n",
    "    structure_group['elements'] = np.array(crystal_tags['elements'],dtype='S')\n",
    "    if 'zone_axis' in structure_group:\n",
    "        structure_group['zone_axis'] = np.array(crystal_tags['zone_axis'], dtype=float)\n",
    "    else:\n",
    "        structure_group['zone_axis'] = np.array([1.,1.,1.], dtype=float)\n",
    "        \n",
    "    h5_file.flush()\n",
    "    return structure_group\n",
    "                                                                                 \n",
    "crystal_tags = ks.structure_by_name('Graphite')\n",
    "h5_add_crystal_structure(h5_file, crystal_tags)\n",
    "                                                                                \n",
    "crystal_tags = ks.structure_by_name('ZnO')\n",
    "ft.h5_add_crystal_structure(h5_file, crystal_tags)\n",
    "\n",
    "usid.hdf_utils.print_tree(h5_file)\n"
   ]
  },
  {
   "cell_type": "markdown",
   "metadata": {},
   "source": [
    "## Keeping Track of Analysis and Results\n",
    "A notebook is notorious for getting confusing, especially if one uses different notebooks for different task, but store them in the same file.\n",
    "\n",
    "If you like a result of your calculation, log it.\n",
    "|\n",
    "The function will write your calculation to the pyUSID style file and attaches a time stamp.\n",
    "\n",
    "The two functions below are part of  file_tools of pyTEMlib."
   ]
  },
  {
   "cell_type": "code",
   "execution_count": null,
   "metadata": {},
   "outputs": [],
   "source": [
    "info_dictionary = {}\n",
    "info_dictionary['analysis'] = 'Nothing'\n",
    "info_dictionary['name'] = 'Nothing'\n",
    "\n",
    "log_group = ft.log_results(current_dataset, info_dictionary)\n",
    "\n",
    "usid.hdf_utils.print_tree(h5_file)\n"
   ]
  },
  {
   "cell_type": "markdown",
   "metadata": {},
   "source": [
    "## An example for a log\n",
    "We log the Fourier Transform of the image we loaded\n",
    "\n",
    "First we perform the calculation"
   ]
  },
  {
   "cell_type": "code",
   "execution_count": null,
   "metadata": {},
   "outputs": [],
   "source": [
    "## Access the data of the loaded image\n",
    "data = current_dataset\n",
    "\n",
    "## The data log goes in the dictionary out_tags\n",
    "out_tags = {}\n",
    "## data tag contains the newly calculated result\n",
    "out_tags['data'] = np.fft.fftshift(np.fft.fft2(data))\n",
    "\n",
    "## meta data (can be anything, but good practice is to be compatible with pyUSID data set)\n",
    "out_tags['analysis']= 'Fourier_Transform'\n",
    "\n",
    "out_tags['spatial_origin_x'] = data.shape[0]/2\n",
    "out_tags['spatial_origin_y'] = data.shape[1]/2\n",
    "\n",
    "for dim in current_dataset.dims:\n",
    "    if dim.label == 'x': scale_x = dim[0][1]-dim[0][0]\n",
    "    if dim.label == 'y': scale_y = dim[0][1]-dim[0][0]     \n",
    "        \n",
    "out_tags['spatial_scale_x'] = 1.0/scale_x/data.shape[0]\n",
    "out_tags['spatial_scale_y'] = 1.0/scale_y/data.shape[1]\n",
    "out_tags['spatial_size_x'] = data.shape[0]\n",
    "out_tags['spatial_size_y'] = data.shape[1]\n",
    "out_tags['spatial_units'] = '1/nm'\n",
    "\n",
    "\n",
    "FOV_x = out_tags['spatial_origin_x']* scale_x\n",
    "FOV_y = out_tags['spatial_origin_y']* scale_y\n",
    "out_tags['image_extent'] = [-FOV_x,FOV_x,FOV_y, -FOV_y]\n",
    "fig = plt.figure()\n",
    "plt.imshow(np.log2(1+np.abs(out_tags['data'])),origin='upper', extent = out_tags['image_extent'])\n",
    "plt.xlabel('reciprocal distance ['+ out_tags['spatial_units']+']');\n"
   ]
  },
  {
   "cell_type": "markdown",
   "metadata": {},
   "source": [
    "Now that we like this we log it.\n",
    "\n",
    "Please note that just saving the fourier transform would not be good as we also need the scale and such."
   ]
  },
  {
   "cell_type": "code",
   "execution_count": null,
   "metadata": {
    "scrolled": false
   },
   "outputs": [],
   "source": [
    "import importlib\n",
    "importlib.reload(ft)\n",
    "\n",
    "\n",
    "out_tags['name'] = 'fft'\n",
    "out_tags['units'] = '1/nm'\n",
    "out_tags['data_type'] = 'image'\n",
    "\n",
    "log_group = ft.log_results(current_dataset, out_tags)\n",
    "log_dataset = log_group['nDim_Data']\n",
    "ft.h5_tree(h5_file)\n",
    "fig = plt.figure()\n",
    "plt.title(log_group['analysis'][()])\n",
    "plt.imshow(np.log2(1+np.abs(log_dataset)),origin='upper', extent = log_group['image_extent'][()])\n",
    "plt.xlabel('reciprocal distance ['+ log_group['units'][()]+']');\n"
   ]
  },
  {
   "cell_type": "markdown",
   "metadata": {},
   "source": [
    "Please close the file"
   ]
  },
  {
   "cell_type": "code",
   "execution_count": null,
   "metadata": {
    "hideCode": false,
    "hidePrompt": false
   },
   "outputs": [],
   "source": [
    "print(h5_file.filename)\n",
    "h5_file.close()\n"
   ]
  },
  {
   "cell_type": "markdown",
   "metadata": {},
   "source": [
    "## Open h5_file\n",
    "Open the h5_file that we just created"
   ]
  },
  {
   "cell_type": "code",
   "execution_count": null,
   "metadata": {
    "hideCode": false,
    "hidePrompt": false
   },
   "outputs": [],
   "source": [
    "h5_file = ft.h5_open_file()\n",
    "\n",
    "current_channel = h5_file['Measurement_000/Channel_000']\n",
    "current_dataset = current_channel['nDim_Data']\n",
    "\n",
    "ft.h5_plot(current_dataset)"
   ]
  },
  {
   "cell_type": "code",
   "execution_count": null,
   "metadata": {},
   "outputs": [],
   "source": [
    "plt.figure()\n",
    "plt.imshow(np.array(current_dataset));"
   ]
  },
  {
   "cell_type": "markdown",
   "metadata": {
    "hideCode": false,
    "hidePrompt": false
   },
   "source": [
    "### Short check if we got the data right\n",
    "we print the tree and we plot the data"
   ]
  },
  {
   "cell_type": "code",
   "execution_count": null,
   "metadata": {
    "hideCode": false,
    "hidePrompt": false,
    "scrolled": false
   },
   "outputs": [],
   "source": [
    "# See if a tree has been created within the hdf5 file:\n",
    "ft.h5_tree(h5_file)\n",
    "image_tags = dict(h5_file['Measurement_000/Channel_000'].attrs)\n",
    "for key in image_tags:\n",
    "    if 'original' not in key:\n",
    "        #print(key,': ',image_tags[key])\n",
    "        pass\n",
    "current_channel = h5_file['Measurement_000/Channel_000']\n",
    "\n"
   ]
  },
  {
   "cell_type": "markdown",
   "metadata": {
    "hideCode": false,
    "hidePrompt": false
   },
   "source": [
    "### Add more data to this set\n",
    "\n",
    "Often more than one data set belong together.\n",
    "For instance a spectrum image has a survey image and a Z-contrast image recorded with the survey image.\n",
    "\n",
    "Here we jsut load another image for example *p1-3-hr3b.dm3*"
   ]
  },
  {
   "cell_type": "code",
   "execution_count": null,
   "metadata": {
    "hideCode": false,
    "hidePrompt": false,
    "scrolled": true
   },
   "outputs": [],
   "source": [
    "current_channel = ft.h5_add_data(current_channel)\n",
    "    \n",
    "measurement_group = current_channel.parent\n",
    "    \n",
    "for key in list(measurement_group.keys()):\n",
    "    if 'title' in measurement_group[key].keys(): \n",
    "        print(key,': ',measurement_group[key]['title'][()])\n",
    "    else:\n",
    "        print(key,': ')   "
   ]
  },
  {
   "cell_type": "markdown",
   "metadata": {
    "hideCode": false,
    "hidePrompt": false
   },
   "source": [
    "Let's see what you selected\n"
   ]
  },
  {
   "cell_type": "code",
   "execution_count": null,
   "metadata": {
    "hideCode": false,
    "hidePrompt": false,
    "scrolled": false
   },
   "outputs": [],
   "source": [
    "current_dataset = current_channel['nDim_Data']\n",
    "\n",
    "ft.h5_plot(current_dataset)"
   ]
  },
  {
   "cell_type": "markdown",
   "metadata": {
    "hideCode": false,
    "hidePrompt": false
   },
   "source": [
    "## If we are done, we close the pyUID style file.\n",
    "\n",
    "This is necessary to make the file ready to be opened by another notebook or program."
   ]
  },
  {
   "cell_type": "code",
   "execution_count": null,
   "metadata": {
    "hideCode": false,
    "hidePrompt": false
   },
   "outputs": [],
   "source": [
    "h5_file.close()"
   ]
  },
  {
   "cell_type": "markdown",
   "metadata": {},
   "source": [
    "## Navigation\n",
    "\n",
    "<font size = \"4\"> \n",
    "    \n",
    "**Back: [Matplotlib and Numpy for Micrographs](CH1_03-Data_Representation.ipynb)**<br>\n",
    "**Next: [Diffraction](CH2_00-Diffraction.ipynb)**<br>\n",
    "**Up Chapter 1: [Introduction](CH1_00-Introduction.ipynb)**<br>\n",
    "**List of Content: [Front](_MSE672_Intro_TEM.ipynb)**\n",
    "</font>"
   ]
  },
  {
   "cell_type": "code",
   "execution_count": null,
   "metadata": {},
   "outputs": [],
   "source": []
  }
 ],
 "metadata": {
  "hide_code_all_hidden": false,
  "kernelspec": {
   "display_name": "Python 3",
   "language": "python",
   "name": "python3"
  },
  "language_info": {
   "codemirror_mode": {
    "name": "ipython",
    "version": 3
   },
   "file_extension": ".py",
   "mimetype": "text/x-python",
   "name": "python",
   "nbconvert_exporter": "python",
   "pygments_lexer": "ipython3",
   "version": "3.8.6"
  },
  "toc": {
   "base_numbering": "5",
   "nav_menu": {},
   "number_sections": true,
   "sideBar": true,
   "skip_h1_title": false,
   "title_cell": "Table of Contents",
   "title_sidebar": "Contents",
   "toc_cell": false,
   "toc_position": {},
   "toc_section_display": true,
   "toc_window_display": true
  },
  "varInspector": {
   "cols": {
    "lenName": 16,
    "lenType": 16,
    "lenVar": 40
   },
   "kernels_config": {
    "python": {
     "delete_cmd_postfix": "",
     "delete_cmd_prefix": "del ",
     "library": "var_list.py",
     "varRefreshCmd": "print(var_dic_list())"
    },
    "r": {
     "delete_cmd_postfix": ") ",
     "delete_cmd_prefix": "rm(",
     "library": "var_list.r",
     "varRefreshCmd": "cat(var_dic_list()) "
    }
   },
   "types_to_exclude": [
    "module",
    "function",
    "builtin_function_or_method",
    "instance",
    "_Feature"
   ],
   "window_display": true
  }
 },
 "nbformat": 4,
 "nbformat_minor": 2
}
