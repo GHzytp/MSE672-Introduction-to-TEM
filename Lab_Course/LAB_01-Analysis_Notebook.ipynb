{
 "cells": [
  {
   "cell_type": "markdown",
   "metadata": {},
   "source": [
    "<font size = \"5\"> **Chapter 1: [Introduction](Lab_00-Introduction.ipynb)** </font>\n",
    "\n",
    "\n",
    "<hr style=\"height:1px;border-top:4px solid #FF8200\" />\n",
    "\n",
    "# Analysis of the Images of Lab 1\n",
    "\n",
    "\n",
    "[Download](https://raw.githubusercontent.com/gduscher/MSE672-Introduction-to-TEM/main/Lab_Course/LAB_01-Analysis_Notebook.ipynb)\n",
    " \n",
    "[![Open In Colab](https://colab.research.google.com/assets/colab-badge.svg)](\n",
    "    https://colab.research.google.com/github/gduscher/MSE672-Introduction-to-TEM/blob/main//Lab_Course/LAB_01-Analysis_Notebook.ipynb)\n",
    "    \n",
    "\n",
    "part of \n",
    "\n",
    "<font size = \"5\"> **[MSE672:  Introduction to Transmission Electron Microscopy](../_MSE672_Intro_TEM.ipynb)**</font>\n",
    "\n",
    "\n",
    "by Gerd Duscher, Spring 2021\n",
    "\n",
    "Microscopy Facilities<br>\n",
    "Joint Institute of Advanced Materials<br>\n",
    "Materials Science & Engineering<br>\n",
    "The University of Tennessee, Knoxville\n",
    "\n",
    "Background and methods to analysis and quantification of data acquired with transmission electron microscopes."
   ]
  },
  {
   "cell_type": "markdown",
   "metadata": {},
   "source": [
    "## Introduction\n",
    "\n",
    "The practical Lab has two major parts:\n",
    "- Basic alignment of TEM\n",
    "- Acquisition of images\n",
    "\n",
    "The Homework has three parts:\n",
    "- Image Magnification\n",
    "- Image Rotation\n",
    "- Magnificaiton of Objective Lens\n",
    "\n",
    "First we need to learn how to open a file (in Gatan's *Digital Micrograph* format with extension ``.dm3``\n",
    "\n",
    "Then we will calibrate the image magnification\n",
    "\n",
    "and finally determine the rotation.\n",
    "\n",
    "The magnification of the objective lens is left to be your problem.\n",
    "\n"
   ]
  },
  {
   "cell_type": "markdown",
   "metadata": {},
   "source": [
    "## Load relevant python packages\n",
    "### Check Installed Packages"
   ]
  },
  {
   "cell_type": "code",
   "execution_count": null,
   "metadata": {},
   "outputs": [],
   "source": [
    "import sys\n",
    "from pkg_resources import get_distribution, DistributionNotFound\n",
    "\n",
    "def test_package(package_name):\n",
    "    \"\"\"Test if package exists and returns version or -1\"\"\"\n",
    "    try:\n",
    "        version = get_distribution(package_name).version\n",
    "    except (DistributionNotFound, ImportError) as err:\n",
    "        version = '-1'\n",
    "    return version\n",
    "\n",
    "# Colab setup ------------------\n",
    "if 'google.colab' in sys.modules:\n",
    "    !pip install pyTEMlib -q\n",
    "# pyTEMlib setup ------------------\n",
    "else:\n",
    "    if test_package('pyTEMlib') < '0.2021.2.5':\n",
    "        print('installing pyTEMlib')\n",
    "        !{sys.executable} -m pip install  --upgrade pyTEMlib -q\n",
    "# ------------------------------\n",
    "print('done')"
   ]
  },
  {
   "cell_type": "markdown",
   "metadata": {},
   "source": [
    "## Import numerical and plotting python packages\n",
    "Import the python packages that we will use:\n",
    "\n",
    "Beside the basic numerical (numpy) and plotting (pylab of matplotlib) libraries,\n",
    "\n",
    "and some libraries from the book\n",
    "* file_tools library"
   ]
  },
  {
   "cell_type": "code",
   "execution_count": null,
   "metadata": {},
   "outputs": [],
   "source": [
    "# import matplotlib and numpy\n",
    "#                       use \"inline\" instead of \"notebook\" for non-interactive\n",
    "#                       use widget for jupyterlab needs ipympl to be installed\n",
    "import sys\n",
    "if 'google.colab' in sys.modules:\n",
    "    %pylab --no-import-all inline\n",
    "else:       \n",
    "    %pylab --no-import-all notebook\n",
    "    %gui qt\n",
    "\n",
    "# Import libraries from pyTEMlib\n",
    "import pyTEMlib\n",
    "import pyTEMlib.file_tools as ft     # File input/ output library\n",
    "import pyTEMlib.image_tools as it\n",
    "\n",
    "# For archiving reasons it is a good idea to print the version numbers out at this point\n",
    "print('pyTEM version: ',pyTEMlib.__version__)\n",
    "\n",
    "__notebook__ = '2_Image_Registration'\n",
    "__notebook_version__ = '2021_01_09'"
   ]
  },
  {
   "cell_type": "markdown",
   "metadata": {},
   "source": [
    "## Open an Image\n",
    "Please, load an image. \n",
    "\n",
    "You select here (with the ``use_file_widget`` parameter), whether an **open file dialog** apears in the code cell below the next one or whether you want to get a list of files (Nion has a weird way of dealing with file names)."
   ]
  },
  {
   "cell_type": "code",
   "execution_count": null,
   "metadata": {},
   "outputs": [],
   "source": [
    "## # ------ Input ------- #\n",
    "use_file_widget = False\n",
    "load_example = False\n",
    "# -------------------- #\n",
    "\n",
    "if load_example:\n",
    "    drive_directory = '.'\n",
    "else:\n",
    "    drive_directory = ft.get_last_path()\n",
    "\n",
    "bokeh_plot = False\n",
    "if 'google.colab' in sys.modules:\n",
    "    from google.colab import drive\n",
    "    drive.mount(\"/content/drive\")\n",
    "    if load_example:\n",
    "        drive_directory = '/content/example-data'\n",
    "    else:\n",
    "        drive_directory = 'drive/MyDrive/'\n",
    "    bokeh_plot = True\n",
    "\n",
    "# Open file widget and select file which will be opened in code cell below\n",
    "if use_file_widget:\n",
    "    file_widget = ft.FileWidget(drive_directory)\n",
    "else: \n",
    "    print('File dialog will be activated in next cell')"
   ]
  },
  {
   "cell_type": "markdown",
   "metadata": {},
   "source": [
    "### Plot Image \n",
    "Either we load the selected file in the widget above above or a file dialog window appears.\n",
    "\n",
    "This is the point the notebook can be repeated with a new file. Either select a file above again (without running the code cell above) or open a file dialog here\n",
    "\n",
    "Note that the **open file dialog** might not apear in the foreground!"
   ]
  },
  {
   "cell_type": "code",
   "execution_count": null,
   "metadata": {
    "scrolled": false
   },
   "outputs": [],
   "source": [
    "try: \n",
    "    main_dataset.h5_dataset.file.close()\n",
    "except:\n",
    "    pass\n",
    "\n",
    "if use_file_widget:\n",
    "    main_dataset = ft.open_file(str(file_widget.file_name))\n",
    "else:\n",
    "    main_dataset = ft.open_file()\n",
    "current_channel = main_dataset.h5_dataset.parent.parent\n",
    "\n",
    "if main_dataset.data_type.name != 'IMAGE':\n",
    "    print(f\"Please load an image for this notebook, this is an {main_dataset.data_type}\")\n",
    "    \n",
    "dataset_choice = ft.ChooseDataset(current_channel, show_dialog=False)                                          \n",
    "print('Available Datasets')\n",
    "for dset  in dataset_choice.dataset_list:\n",
    "    print(dset.title.split('/')[-1])\n",
    "    \n",
    "main_dataset.plot()  # note this needs a view reference for interaction"
   ]
  },
  {
   "cell_type": "markdown",
   "metadata": {},
   "source": [
    "## Magnification Calibration\n",
    "In the age of computer images we better speak of Image scale calbration.\n",
    "\n",
    "We need to know how wide and high is a single pixel in the image.\n",
    "\n",
    "Here we assume a spuare pixel and only one dimesnion is necessary\n",
    "\n",
    "In the pixel below click on the beginning and the end of a feature of known size.\n"
   ]
  },
  {
   "cell_type": "code",
   "execution_count": null,
   "metadata": {
    "scrolled": false
   },
   "outputs": [],
   "source": [
    "fig, ax = plt.subplots(figsize=(6,6))\n",
    "ax.imshow(main_dataset.T,  origin='upper')\n",
    "start_point = [-1,-1]\n",
    "end_point = [-1,-1]\n",
    "\n",
    "def onclick(event):\n",
    "    global start_point, end_point\n",
    "\n",
    "    if start_point[0]<0:\n",
    "        end_point = [event.xdata, event.ydata]\n",
    "    else:\n",
    "        end_point = start_point.copy()\n",
    "    start_point = [event.xdata, event.ydata]\n",
    "        \n",
    "    ax.clear()\n",
    "    ax.imshow(main_dataset.T)\n",
    "    #plt.scatter(atoms[:,0], atoms[:,1])\n",
    "    plt.scatter(start_point[0], start_point[1], color='orange')\n",
    "    plt.scatter(end_point[0], end_point[1], color='blue')\n",
    "    plt.plot([start_point[0], end_point[0]], [start_point[1], end_point[1]], color='blue')\n",
    "    plt.text(start_point[0], start_point[1], f'{np.linalg.norm(np.array(start_point)-np.array(end_point)):.1f} pixel', \n",
    "             bbox=dict(facecolor='red', alpha=0.5),\n",
    "             verticalalignment='bottom')\n",
    "    \n",
    "cid = fig.canvas.mpl_connect('button_press_event', onclick)\n"
   ]
  },
  {
   "cell_type": "markdown",
   "metadata": {},
   "source": [
    "After you selected a feature, you now can calculate the size of a pixel. \n",
    "The plotting routine needs the ``field of view`` (FOV) which is set by the *extent* - parameter."
   ]
  },
  {
   "cell_type": "code",
   "execution_count": null,
   "metadata": {},
   "outputs": [],
   "source": [
    "# ---- INPUT -------\n",
    "length_of_feature = 500 #(in nm)\n",
    "# ------------------------------\n",
    "length_of_selection = np.linalg.norm(np.array(start_point)-np.array(end_point))\n",
    "pixel_size = length_of_feature/length_of_selection\n",
    "print(f'The image scale is {pixel_size:.5f} nm per pixel')\n",
    "\n",
    "extent=[0,main_dataset.shape[0]*pixel_size, main_dataset.shape[1]*pixel_size,0]\n",
    "plt.figure()\n",
    "plt.imshow(main_dataset.T, extent=extent)\n",
    "plt.xlabel('distance (nm)')"
   ]
  },
  {
   "cell_type": "markdown",
   "metadata": {},
   "source": [
    "## Rotation Calibration\n",
    "\n",
    "For the rotation calibration we do more or less the same thing but now we determine the angle of the feature with respect to the x-axis.\n",
    "\n",
    "For that we use the ``arctan2`` (arcus tangens) function of numpy.\n",
    "\n",
    "Please note that numpy operates on radians and we have to convert these angles with the ``degrees`` of numpy."
   ]
  },
  {
   "cell_type": "code",
   "execution_count": null,
   "metadata": {
    "scrolled": true
   },
   "outputs": [],
   "source": [
    "extent=[0,main_dataset.shape[0]*pixel_size, main_dataset.shape[1]*pixel_size,0]\n",
    "fig = plt.figure()\n",
    "plt.imshow(main_dataset.T, extent=extent)\n",
    "plt.xlabel('distance (nm)')\n",
    "\n",
    "\n",
    "start_point = [-1,-1]\n",
    "end_point = [-1,-1]\n",
    "\n",
    "def onclick(event):\n",
    "    global start_point, end_point\n",
    "\n",
    "    if start_point[0]<0:\n",
    "        end_point = [event.xdata, event.ydata]\n",
    "    else:\n",
    "        end_point = start_point.copy()\n",
    "    start_point = [event.xdata, event.ydata]\n",
    "        \n",
    "    plt.gca().clear()\n",
    "    plt.gca().imshow(main_dataset.T, extent=extent)\n",
    "    #plt.scatter(atoms[:,0], atoms[:,1])\n",
    "    plt.scatter(start_point[0], start_point[1], color='orange')\n",
    "    plt.scatter(end_point[0], end_point[1], color='blue')\n",
    "    plt.plot([start_point[0], end_point[0]], [start_point[1], end_point[1]], color='blue')\n",
    "    plt.text(end_point[0], end_point[1], f'{np.linalg.norm(np.array(start_point)-np.array(end_point)):.1f} nm', \n",
    "             bbox=dict(facecolor='red', alpha=0.5),\n",
    "             verticalalignment='bottom')\n",
    "    plt.text(start_point[0], start_point[1], f'{np.degrees(np.arctan2(start_point[1]- end_point[1], start_point[0]-end_point[0]))%180:.1f} degrees', \n",
    "             bbox=dict(facecolor='red', alpha=0.5),\n",
    "             verticalalignment='bottom')\n",
    "cid = fig.canvas.mpl_connect('button_press_event', onclick)"
   ]
  },
  {
   "cell_type": "markdown",
   "metadata": {},
   "source": [
    "Print the angle of the feature along a line"
   ]
  },
  {
   "cell_type": "code",
   "execution_count": null,
   "metadata": {},
   "outputs": [],
   "source": [
    "angle = np.degrees(np.arctan2(start_point[1]- end_point[1], start_point[0]-end_point[0]))%180\n",
    "    \n",
    "print(f'Selected feature in {main_dataset.title} has angle of {angle:.1f} degrees')\n",
    "\n",
    "print('Image Name,    Angle (degree)')\n",
    "print(f'{main_dataset.title},  {angle:.1f}')"
   ]
  },
  {
   "cell_type": "markdown",
   "metadata": {},
   "source": [
    "## Calibration Curves\n",
    "For a calibration we need to compare the pixel_size and angle parameters of at least two different images.\n",
    "\n",
    "Plot the magnification value over the pixel_size and angle.\n"
   ]
  },
  {
   "cell_type": "code",
   "execution_count": null,
   "metadata": {},
   "outputs": [],
   "source": []
  }
 ],
 "metadata": {
  "kernelspec": {
   "display_name": "Python 3",
   "language": "python",
   "name": "python3"
  },
  "language_info": {
   "codemirror_mode": {
    "name": "ipython",
    "version": 3
   },
   "file_extension": ".py",
   "mimetype": "text/x-python",
   "name": "python",
   "nbconvert_exporter": "python",
   "pygments_lexer": "ipython3",
   "version": "3.8.8"
  },
  "toc": {
   "base_numbering": 1,
   "nav_menu": {},
   "number_sections": true,
   "sideBar": true,
   "skip_h1_title": false,
   "title_cell": "Table of Contents",
   "title_sidebar": "Contents",
   "toc_cell": false,
   "toc_position": {},
   "toc_section_display": true,
   "toc_window_display": false
  }
 },
 "nbformat": 4,
 "nbformat_minor": 4
}
