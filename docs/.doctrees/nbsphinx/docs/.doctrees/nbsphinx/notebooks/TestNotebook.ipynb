{
 "cells": [
  {
   "cell_type": "markdown",
   "metadata": {
    "id": "0rmnHFFLAbuK"
   },
   "source": [
    "<font size = \"5\"> **[MSE672: Introduction to TEM](https://gduscher.github.io/MSE672-Introduction-to-TEM/)** </font>\n",
    "\n",
    "<hr style=\"height:1px;border-top:4px solid #FF8200\" />\n",
    "\n",
    "by \n",
    "\n",
    "Gerd Duscher\n",
    "\n",
    "Materials Science & Engineering<br>\n",
    "Joint Institute of Advanced Materials<br>\n",
    "The University of Tennessee, Knoxville\n",
    "\n",
    "# Test Notebook\n",
    "\n",
    "[Download](https://raw.githubusercontent.com/gduscher/MSE672-Introduction-to-TEM//main/notebooks/TestNotebook.ipynb\")\n",
    " \n",
    "[![Open In Colab](https://colab.research.google.com/assets/colab-badge.svg)](\n",
    "    https://colab.research.google.com/github/gduscher/MSE672-Introduction-to-TEM/blob/main/notebooks/TestNotebook.ipynb)\n"
   ]
  },
  {
   "cell_type": "markdown",
   "metadata": {
    "id": "zDbWs5s0AC1l"
   },
   "source": [
    "First we need to load the libraries we want to use. All of those are installed in Google colab and annaconda."
   ]
  },
  {
   "cell_type": "code",
   "execution_count": 1,
   "metadata": {
    "execution": {
     "iopub.execute_input": "2021-01-21T21:47:28.397010Z",
     "iopub.status.busy": "2021-01-21T21:47:28.395002Z",
     "iopub.status.idle": "2021-01-21T21:47:29.240614Z",
     "shell.execute_reply": "2021-01-21T21:47:29.241611Z"
    },
    "executionInfo": {
     "elapsed": 1026,
     "status": "ok",
     "timestamp": 1609169925831,
     "user": {
      "displayName": "Gerd D",
      "photoUrl": "",
      "userId": "02112921857027034506"
     },
     "user_tz": 300
    },
    "id": "hldG1pG3ABo4"
   },
   "outputs": [],
   "source": [
    "import numpy as np\n",
    "import matplotlib.pylab as plt"
   ]
  },
  {
   "cell_type": "markdown",
   "metadata": {
    "id": "L8BZWYPBAOCK"
   },
   "source": [
    "Now we run the next code cell to plot a graph."
   ]
  },
  {
   "cell_type": "code",
   "execution_count": 2,
   "metadata": {
    "colab": {
     "base_uri": "https://localhost:8080/",
     "height": 267
    },
    "execution": {
     "iopub.execute_input": "2021-01-21T21:47:29.297613Z",
     "iopub.status.busy": "2021-01-21T21:47:29.281614Z",
     "iopub.status.idle": "2021-01-21T21:47:29.560955Z",
     "shell.execute_reply": "2021-01-21T21:47:29.560955Z"
    },
    "executionInfo": {
     "elapsed": 845,
     "status": "ok",
     "timestamp": 1609169942112,
     "user": {
      "displayName": "Gerd D",
      "photoUrl": "",
      "userId": "02112921857027034506"
     },
     "user_tz": 300
    },
    "id": "BJMl8k_9AGnh",
    "outputId": "3eec6ace-946a-47bc-f992-240f3e6226b2",
    "pycharm": {
     "name": "#%%\n"
    }
   },
   "outputs": [
    {
     "data": {
      "image/png": "[encoded data removed]",
      "text/plain": [
       "<Figure size 432x288 with 1 Axes>"
      ]
     },
     "metadata": {
      "needs_background": "light"
     },
     "output_type": "display_data"
    }
   ],
   "source": [
    "# Generate plotting values\n",
    "t = np.linspace(0, 2*np.pi, 200)\n",
    "x = 16 * np.sin(t)**3\n",
    "y = 13 * np.cos(t) - 5 * np.cos(2*t) - 2 * np.cos(3*t) - np.cos(4*t)\n",
    "\n",
    "plt.figure()\n",
    "plt.plot(x,y, color='red', linewidth=2)\n",
    "plt.text(0,0, 'MSE 672',ha='center')\n",
    "plt.gca().set_aspect('equal')"
   ]
  },
  {
   "cell_type": "markdown",
   "metadata": {
    "pycharm": {
     "name": "#%% md\n"
    }
   },
   "source": [
    "Who would have thought that the formula of love is based on trignometry?"
   ]
  },
  {
   "cell_type": "code",
   "execution_count": null,
   "metadata": {
    "pycharm": {
     "name": "#%%\n"
    }
   },
   "outputs": [],
   "source": []
  }
 ],
 "metadata": {
  "colab": {
   "authorship_tag": "ABX9TyOpYLxoqxNx8/BAxCcPdAJq",
   "collapsed_sections": [],
   "name": "TestNotebook.ipynb",
   "provenance": []
  },
  "kernelspec": {
   "display_name": "Python 3",
   "language": "python",
   "name": "python3"
  },
  "language_info": {
   "codemirror_mode": {
    "name": "ipython",
    "version": 3
   },
   "file_extension": ".py",
   "mimetype": "text/x-python",
   "name": "python",
   "nbconvert_exporter": "python",
   "pygments_lexer": "ipython3",
   "version": "3.8.6"
  },
  "toc": {
   "base_numbering": 1,
   "nav_menu": {},
   "number_sections": true,
   "sideBar": true,
   "skip_h1_title": false,
   "title_cell": "Table of Contents",
   "title_sidebar": "Contents",
   "toc_cell": false,
   "toc_position": {},
   "toc_section_display": true,
   "toc_window_display": false
  }
 },
 "nbformat": 4,
 "nbformat_minor": 1
}
