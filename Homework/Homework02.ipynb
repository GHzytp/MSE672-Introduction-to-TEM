{
 "cells": [
  {
   "cell_type": "markdown",
   "metadata": {},
   "source": [
    "<font size = \"5\"> **Chapter 1: [Introduction](CH1_00-Introduction.ipynb)** </font>\n",
    "\n",
    "\n",
    "<hr style=\"height:1px;border-top:4px solid #FF8200\" />\n",
    "\n",
    "# Homework 2\n",
    "\n",
    "<font size = \"5\"> Reading Microscopy Data</font>\n",
    "\n",
    "[Download](https://raw.githubusercontent.com/gduscher/MSE672-Introduction-to-TEM//main/Homework/Homework02.ipynb)\n",
    "\n",
    "part of \n",
    "\n",
    "<font size = \"5\"> **[MSE672:  Introduction to Transmission Electron Microscopy](../_MSE672_Intro_TEM.ipynb)**</font>\n",
    "\n",
    "by Gerd Duscher, Spring 2022\n",
    "<br>\n",
    "Microscopy Facilities<br>\n",
    "Institute of Advanced Materials & Manufacturing<br>\n",
    "Materials Science & Engineering<br>\n",
    "The University of Tennessee, Knoxville\n",
    "\n",
    "Background and methods to analysis and quantification of data acquired with transmission electron microscopes.\n"
   ]
  },
  {
   "cell_type": "markdown",
   "metadata": {},
   "source": [
    "## Load Packages\n",
    "\n",
    "First we need to load the libraries we want to use. \n",
    "Here we use:\n",
    "- numpy: numerical library\n",
    "- matplotlib: graphic library\n",
    "- pyTEMlib: TEM microsocpy library\n",
    "\n",
    "All of those packages except pyTEMlib are provided by annaconda.\n",
    "### Check Installed Packages"
   ]
  },
  {
   "cell_type": "code",
   "execution_count": null,
   "metadata": {},
   "outputs": [],
   "source": [
    "from pkg_resources import get_distribution, DistributionNotFound\n",
    "\n",
    "def test_package(package_name):\n",
    "    \"\"\"Test if package exists and returns version or -1\"\"\"\n",
    "    try:\n",
    "        version = get_distribution(package_name).version\n",
    "    except (DistributionNotFound, ImportError):\n",
    "        version = '-1'\n",
    "    return version\n",
    "\n",
    "if test_package('pyTEMlib') < '0.2022.2.0':\n",
    "    print('installing pyTEMlib')\n",
    "    !{sys.executable} -m pip install  --upgrade pyTEMlib -q\n",
    "# ------------------------------\n",
    "print('done')"
   ]
  },
  {
   "cell_type": "markdown",
   "metadata": {},
   "source": [
    "### Load the plotting and pyTEMlib packages"
   ]
  },
  {
   "cell_type": "code",
   "execution_count": 12,
   "metadata": {},
   "outputs": [
    {
     "name": "stdout",
     "output_type": "stream",
     "text": [
      "Populating the interactive namespace from numpy and matplotlib\n",
      "pyTEM version:  0.2022.1.1\n"
     ]
    }
   ],
   "source": [
    "%pylab  notebook\n",
    "%gui qt\n",
    "import pyTEMlib\n",
    "import pyTEMlib.file_tools  as ft     # File input/ output library\n",
    "\n",
    "\n",
    "# For archiving reasons it is a good idea to print the version numbers out at this point\n",
    "print('pyTEM version: ',pyTEMlib.__version__)\n",
    "__notebook__='CH1_04-Reading_File'\n",
    "__notebook_version__='2021_12_14'"
   ]
  },
  {
   "cell_type": "markdown",
   "metadata": {},
   "source": [
    "## Open a file \n",
    "\n",
    "This function opens a hfd5 file in the pyNSID style which enables you to keep track of your data analysis.\n",
    "\n",
    "Please see the **[Installation](CH1_02-Prerequisites.ipynb#TEM-Library)** notebook for installation.\n",
    "\n",
    "\n",
    "Please note that the plotting routine of ``matplotlib`` was introduced in **[Matplotlib and Numpy for Micrographs](CH1_03-Data_Representation.ipynb)** notebook.\n",
    "\n",
    "In the first lab we used a sample with a carbon grid of a periodicity of 500 nm\n",
    "\n",
    "Download your images from the google drive at https://drive.google.com/drive/folders/1TId7PiGUbip8m8JgX2FL5PaNjld1idzt?usp=sharing\n",
    "\n",
    "> You must log into Google with your UTK account to be able to read these data.\n",
    ">\n",
    "\n",
    "Go to the folder of you data and select one"
   ]
  },
  {
   "cell_type": "code",
   "execution_count": null,
   "metadata": {},
   "outputs": [],
   "source": [
    "main_dataset = ft.open_file()\n",
    "\n",
    "view = main_dataset.plot()"
   ]
  },
  {
   "cell_type": "markdown",
   "metadata": {},
   "source": [
    "## Determination of Magnification  \n",
    "\n",
    "We plot the image in pixels and there will be a line to select the length of a feature.\n",
    "\n",
    "Any Mouseclick will extend the line from the last click"
   ]
  },
  {
   "cell_type": "code",
   "execution_count": null,
   "metadata": {},
   "outputs": [],
   "source": [
    "fig = plt.figure()\n",
    "\n",
    "plt.imshow(main_dataset.T)\n",
    "plt.title(main_dataset.title)\n",
    "ax = plt.gca()\n",
    "start_x = 0\n",
    "\n",
    "fixed_line = False\n",
    "line = plt.plot([0, 100],[0,200], color = 'orange')\n",
    "\n",
    "\n",
    "def on_click(event):\n",
    "   \n",
    "    if event.inaxes:\n",
    "        (start_x, end_x), (start_y, end_y) = line[0].get_data()\n",
    "        start_x = end_x\n",
    "        start_y = end_y\n",
    "        end_x = event.xdata\n",
    "        end_y = event.ydata\n",
    "\n",
    "        line[0].set_data([start_x, end_x],[start_y, end_y])\n",
    "\n",
    "        plt.draw()\n",
    "# mouse_reference = plt.connect('motion_notify_event', on_move)\n",
    "fig.canvas.mpl_connect('button_press_event', on_click)"
   ]
  },
  {
   "cell_type": "markdown",
   "metadata": {},
   "source": [
    "## Length and Angle of Line "
   ]
  },
  {
   "cell_type": "code",
   "execution_count": null,
   "metadata": {},
   "outputs": [],
   "source": [
    "line_coordinates = np.array(line[0].get_data()).T\n",
    "vector = line_coordinates[0]-line_coordinates[1]\n",
    "print(f' The line is {np.linalg.norm(vector):.2f}pixels long')\n",
    "print(f' The angle is {np.degrees(np.arctan2(vector[1], vector[0]))%180:.2f} degrees')"
   ]
  },
  {
   "cell_type": "markdown",
   "metadata": {},
   "source": [
    "## Second Image"
   ]
  },
  {
   "cell_type": "code",
   "execution_count": null,
   "metadata": {},
   "outputs": [],
   "source": [
    "main_dataset = ft.open_file()\n",
    "\n",
    "view = main_dataset.plot()"
   ]
  },
  {
   "cell_type": "markdown",
   "metadata": {},
   "source": [
    "## Determination of Magnification of Image 2\n",
    "\n",
    "We plot the image in pixels and there will be a line to select the length of a feature.\n",
    "\n",
    "Any Mouseclick will extend the line from the last click"
   ]
  },
  {
   "cell_type": "code",
   "execution_count": null,
   "metadata": {},
   "outputs": [],
   "source": [
    "fig = plt.figure()\n",
    "\n",
    "plt.imshow(main_dataset.T)\n",
    "plt.title(main_dataset.title)\n",
    "ax = plt.gca()\n",
    "start_x = 0\n",
    "\n",
    "fixed_line = False\n",
    "line = plt.plot([0, 100],[0,200], color = 'orange')\n",
    "\n",
    "\n",
    "def on_click(event):\n",
    "   \n",
    "    if event.inaxes:\n",
    "        (start_x, end_x), (start_y, end_y) = line[0].get_data()\n",
    "        start_x = end_x\n",
    "        start_y = end_y\n",
    "        end_x = event.xdata\n",
    "        end_y = event.ydata\n",
    "\n",
    "        line[0].set_data([start_x, end_x],[start_y, end_y])\n",
    "\n",
    "        plt.draw()\n",
    "# mouse_reference = plt.connect('motion_notify_event', on_move)\n",
    "fig.canvas.mpl_connect('button_press_event', on_click)"
   ]
  },
  {
   "cell_type": "markdown",
   "metadata": {},
   "source": [
    "## Length and Angle of Line of Image 2"
   ]
  },
  {
   "cell_type": "code",
   "execution_count": null,
   "metadata": {},
   "outputs": [],
   "source": [
    "line_coordinates = np.array(line[0].get_data()).T\n",
    "vector = line_coordinates[0]-line_coordinates[1]\n",
    "print(f' The line is {np.linalg.norm(vector):.2f}pixels long')\n",
    "print(f' The angle is {np.degrees(np.arctan2(vector[1], vector[0]))%180:.2f} degrees')"
   ]
  },
  {
   "cell_type": "markdown",
   "metadata": {},
   "source": [
    "# Question\n",
    "\n",
    "- What are the pixel sizes in the two images\n",
    "- What is the relative change in magnification with respect to pixel and with respect to indicated Magnification\n",
    "\n",
    "- What is the relative rotation"
   ]
  },
  {
   "cell_type": "code",
   "execution_count": null,
   "metadata": {},
   "outputs": [],
   "source": []
  }
 ],
 "metadata": {
  "kernelspec": {
   "display_name": "Python 3 (ipykernel)",
   "language": "python",
   "name": "python3"
  },
  "language_info": {
   "codemirror_mode": {
    "name": "ipython",
    "version": 3
   },
   "file_extension": ".py",
   "mimetype": "text/x-python",
   "name": "python",
   "nbconvert_exporter": "python",
   "pygments_lexer": "ipython3",
   "version": "3.9.7"
  },
  "toc": {
   "base_numbering": 1,
   "nav_menu": {},
   "number_sections": true,
   "sideBar": true,
   "skip_h1_title": false,
   "title_cell": "Table of Contents",
   "title_sidebar": "Contents",
   "toc_cell": false,
   "toc_position": {},
   "toc_section_display": true,
   "toc_window_display": false
  }
 },
 "nbformat": 4,
 "nbformat_minor": 4
}
