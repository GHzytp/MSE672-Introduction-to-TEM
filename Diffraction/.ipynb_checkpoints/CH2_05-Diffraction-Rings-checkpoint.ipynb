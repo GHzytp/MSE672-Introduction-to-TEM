{
 "cells": [
  {
   "cell_type": "markdown",
   "metadata": {
    "slideshow": {
     "slide_type": "slide"
    }
   },
   "source": [
    "\n",
    "\n",
    "<font size = \"5\"> **Chapter 2: [Diffraction](CH2_00-Diffraction.ipynb)** </font>\n",
    "\n",
    "<hr style=\"height:1px;border-top:4px solid #FF8200\" />\n",
    "\n",
    "# Analyzing Ring Diffraction Pattern\n",
    "[Download](https://raw.githubusercontent.com/gduscher/MSE672-Introduction-to-TEM//main/Diffraction/CH2_03-Basic_Crystallography.ipynb)\n",
    " \n",
    "[![Open In Colab](https://colab.research.google.com/assets/colab-badge.svg)](\n",
    "    https://colab.research.google.com/github/gduscher/MSE672-Introduction-to-TEM/blob/main/Diffraction/CH2_03-Basic_Crystallography.ipynb)\n",
    "\n",
    "\n",
    "\n",
    "part of \n",
    "\n",
    "<font size = \"5\"> **[MSE672:  Introduction to Transmission Electron Microscopy](../_MSE672_Intro_TEM.ipynb)**</font>\n",
    "\n",
    "by Gerd Duscher, Spring 2021\n",
    "\n",
    "Microscopy Facilities<br>\n",
    "Joint Institute of Advanced Materials<br>\n",
    "Materials Science & Engineering<br>\n",
    "The University of Tennessee, Knoxville\n",
    "\n",
    "Background and methods to analysis and quantification of data acquired with transmission electron microscopes."
   ]
  },
  {
   "cell_type": "markdown",
   "metadata": {},
   "source": [
    "## Load relevant python packages\n",
    "### Check Installed Packages"
   ]
  },
  {
   "cell_type": "code",
   "execution_count": null,
   "metadata": {},
   "outputs": [],
   "source": [
    "import sys\n",
    "from pkg_resources import get_distribution, DistributionNotFound\n",
    "\n",
    "def test_package(package_name):\n",
    "    \"\"\"Test if package exists and returns version or -1\"\"\"\n",
    "    try:\n",
    "        version = get_distribution(package_name).version\n",
    "    except (DistributionNotFound, ImportError) as err:\n",
    "        version = '-1'\n",
    "    return version\n",
    "\n",
    "# Colab setup ------------------\n",
    "if 'google.colab' in sys.modules:\n",
    "    !pip install pyTEMlib -q\n",
    "# pyTEMlib setup ------------------\n",
    "else:\n",
    "    if test_package('pyTEMlib') < '0.2021.1.9':\n",
    "        print('installing pyTEMlib')\n",
    "        !{sys.executable} -m pip install  --upgrade pyTEMlib -q\n",
    "# ------------------------------\n",
    "print('done')"
   ]
  },
  {
   "cell_type": "markdown",
   "metadata": {
    "slideshow": {
     "slide_type": "slide"
    }
   },
   "source": [
    "### Load the plotting and figure packages\n",
    "Import the python packages that we will use:\n",
    "\n",
    "Beside the basic numerical (numpy) and plotting (pylab of matplotlib) libraries,\n",
    "* three dimensional plotting\n",
    "and some libraries from the book\n",
    "* kinematic scattering library."
   ]
  },
  {
   "cell_type": "code",
   "execution_count": null,
   "metadata": {
    "slideshow": {
     "slide_type": "-"
    }
   },
   "outputs": [],
   "source": [
    "import sys\n",
    "if 'google.colab' in sys.modules:\n",
    "    %pylab --no-import-all inline\n",
    "else:\n",
    "    %pylab --no-import-all notebook\n",
    "    %gui qt\n",
    "\n",
    "# additional package \n",
    "import  itertools \n",
    "import scipy.constants as const\n",
    "import ipywidgets as ipyw\n",
    "\n",
    "# Import libraries from the book\n",
    "import pyTEMlib\n",
    "import pyTEMlib.KinsCat as ks         # Kinematic sCattering Library\n",
    "                             # Atomic form factors from Kirklands book\n",
    "\n",
    "### And we use the file tool library of pyTEMlib to open files\n",
    "import pyTEMlib.file_tools as ft\n",
    "\n",
    "print('pyTEM version: ',pyTEMlib.__version__)\n",
    "\n",
    "__notebook__='MSE672-CH2_05-Diffraction_Rings'\n",
    "__notebook_version__='2021-02-03'\n",
    "__notebook_version__ = '2021.02.03'\n",
    "print('pyTEM version: ', pyTEMlib.__version__)\n",
    "print('notebook version: ', __notebook_version__)"
   ]
  },
  {
   "cell_type": "markdown",
   "metadata": {},
   "source": [
    "## Load Ring-Diffraction Pattern\n",
    "### First we select the diffraction pattern\n",
    "\n",
    "Load the **GOLD-NP-DIFF.dm3** file as an example.\n",
    "\n",
    "The dynamic range of diffraction patterns is too high for computer screens and so we take the logarithm of the intensity. "
   ]
  },
  {
   "cell_type": "code",
   "execution_count": null,
   "metadata": {},
   "outputs": [],
   "source": [
    "try:\n",
    "    # close any open files before open new one\n",
    "    main_dataset.h5_dataset.file.close()  \n",
    "except:\n",
    "    pass\n",
    "main_dataset = ft.open_file(\"..\\example_data\\GOLD-NP-DIFF.dm3\")\n",
    "main_dataset.plot()"
   ]
  },
  {
   "cell_type": "markdown",
   "metadata": {},
   "source": [
    "## Finding the center\n",
    "\n",
    "### First try with cross correlation of rotated images\n"
   ]
  },
  {
   "cell_type": "markdown",
   "metadata": {},
   "source": [
    "### Cross- and Auto- Correlation\n",
    "\n",
    "Cross correlation and auto correlation are based on a  multiplication in Fourier space. In the case of a an auto-correlation it is the same data while in the cross correlation it is another data (here the transposed (rotated) diffraction pattern)"
   ]
  },
  {
   "cell_type": "code",
   "execution_count": null,
   "metadata": {},
   "outputs": [],
   "source": [
    "## Access the data of the loaded image\n",
    "\n",
    "diff_pattern = main_dataset\n",
    "diff_pattern = diff_pattern-diff_pattern.min()\n",
    "correlation = 'auto'\n",
    "dif_ft = np.fft.fft2(diff_pattern)\n",
    "if correlation == 'auto':\n",
    "    auto_correlation  = np.fft.fftshift(np.fft.ifft2(dif_ft*dif_ft))\n",
    "    center = np.unravel_index(np.argmax(auto_correlation.real, axis=None), auto_correlation.real.shape)\n",
    "    plt.figure()\n",
    "    plt.title('Auto-Correlation')\n",
    "    plt.imshow(auto_correlation.real);\n",
    "else:   \n",
    "    dif_ft2 = np.fft.fft2(diff_pattern.T)\n",
    "    cross_correlation  = np.fft.fftshift(np.fft.ifft2(dif_ft*dif_ft2))\n",
    "    center = np.unravel_index(np.argmax(cross_correlation.real, axis=None), cross_correlation.real.shape)\n",
    "    plt.figure()\n",
    "    plt.title('Cross-Correlation')\n",
    "    plt.imshow(auto_correlation.real);\n",
    "    \n",
    "shift = np.array(center - np.array(dif_ft.shape)/2)\n",
    "print(f'center = {center} which is a shift of {shift[0]} px in x and {shift[1]} px in y direction')\n",
    "plt.scatter([center[1]],[center[0]]);"
   ]
  },
  {
   "cell_type": "markdown",
   "metadata": {},
   "source": [
    "### How well did we do?\n",
    "\n",
    "### Select the center yourself\n",
    "\n",
    "The beam stop confuses the cross correlation sometimes and then we need to  adjust the selection"
   ]
  },
  {
   "cell_type": "code",
   "execution_count": null,
   "metadata": {
    "scrolled": false
   },
   "outputs": [],
   "source": [
    "from matplotlib.widgets import  EllipseSelector\n",
    "\n",
    "print(np.array(center)-2048)\n",
    "center = np.array(center)\n",
    "#center[0] = XCenter\n",
    "#center[1] = YCenter\n",
    "\n",
    "plt.figure(figsize=(8, 6))\n",
    "plt.imshow(np.log(1.+diff_pattern).T, origin = 'upper')\n",
    "selector = EllipseSelector(plt.gca(), None,interactive=True , drawtype='box')  # gca get current axis (plot)\n",
    "\n",
    "selector.to_draw.set_visible(True)\n",
    "radius = 559 \n",
    "center = np.array(center)\n",
    "\n",
    "selector.extents = (center[0]-radius,center[0]+radius,center[1]-radius,center[1]+radius)\n"
   ]
  },
  {
   "cell_type": "markdown",
   "metadata": {},
   "source": [
    "Get center coordinates from selection"
   ]
  },
  {
   "cell_type": "code",
   "execution_count": null,
   "metadata": {
    "scrolled": true
   },
   "outputs": [],
   "source": [
    "xmin, xmax, ymin, ymax = selector.extents\n",
    "x_center, y_center = selector.center\n",
    "x_shift = x_center - diff_pattern.shape[0]/2\n",
    "y_shift = y_center - diff_pattern.shape[1]/2\n",
    "print(f'radius = {(xmax-xmin)/2:.0f} pixels')\n",
    "\n",
    "center = (x_center, y_center )\n",
    "print(f'new center = {center} [pixels]')\n",
    "\n",
    "out_tags ={}\n",
    "out_tags['center'] = center"
   ]
  },
  {
   "cell_type": "markdown",
   "metadata": {},
   "source": [
    "## Ploting Diffraction Pattern in Polar Coordinates\n",
    "\n",
    "### The Transformation Routine"
   ]
  },
  {
   "cell_type": "code",
   "execution_count": null,
   "metadata": {},
   "outputs": [],
   "source": [
    "from scipy.interpolate import interp1d\n",
    "from scipy.ndimage import map_coordinates\n",
    "\n",
    "\n",
    "def cartesian2polar(x, y, grid, r, t, order=3):\n",
    "\n",
    "    R,T = np.meshgrid(r, t)\n",
    "\n",
    "    new_x = R*np.cos(T)\n",
    "    new_y = R*np.sin(T)\n",
    "\n",
    "    ix = interp1d(x, np.arange(len(x)))\n",
    "    iy = interp1d(y, np.arange(len(y)))\n",
    "\n",
    "    new_ix = ix(new_x.ravel())\n",
    "    new_iy = iy(new_y.ravel())\n",
    "\n",
    "    \n",
    "    return map_coordinates(grid, np.array([new_ix, new_iy]),\n",
    "                            order=order).reshape(new_x.shape)\n",
    "\n",
    "def warp(diff,center):\n",
    "    # Define original polar grid\n",
    "    nx = diff.shape[0]\n",
    "    ny = diff.shape[1]\n",
    "\n",
    "    x = np.linspace(1, nx, nx, endpoint = True)-center[0]\n",
    "    y = np.linspace(1, ny, ny, endpoint = True)-center[1]\n",
    "    z = diff\n",
    "\n",
    "    # Define new polar grid\n",
    "    nr = int(min([center[0], center[1], diff.shape[0]-center[0], diff.shape[1]-center[1]])-1)\n",
    "    print(nr)\n",
    "    nt = 360*3\n",
    "\n",
    "\n",
    "    r = np.linspace(1, nr, nr)\n",
    "    t = np.linspace(0., np.pi, nt, endpoint = False)\n",
    "    return cartesian2polar(x,y, z, r, t, order=3).T"
   ]
  },
  {
   "cell_type": "markdown",
   "metadata": {},
   "source": [
    "### Now we transform\n",
    "\n",
    "If the center is correct a ring in carthesian coordinates is a line in polar coordinates\n",
    "\n",
    "A simple sum over all angles gives us then the diffraction profile (intensity profile of diffraction pattern)"
   ]
  },
  {
   "cell_type": "code",
   "execution_count": null,
   "metadata": {},
   "outputs": [],
   "source": [
    "\n",
    "center = np.array(center)\n",
    "out_tags={'center': center}\n",
    "#center[1] = 1057\n",
    "# center[0]= 1103\n",
    "# center[1]=1055\n",
    "\n",
    "polar_projection = warp(diff_pattern,center)\n",
    "below_zero = polar_projection<0.\n",
    "polar_projection[below_zero]=0.\n",
    "\n",
    "out_tags['polar_projection'] = polar_projection\n",
    "\n",
    "# Sum over all angles (axis 1)\n",
    "profile = polar_projection.sum(axis=1)\n",
    "profile_0 = polar_projection[:,0:20].sum(axis=1)\n",
    "profile_360 = polar_projection[:,340:360].sum(axis=1)\n",
    "profile_180 = polar_projection[:,190:210].sum(axis=1)\n",
    "\n",
    "profile_90 = polar_projection[:,80:100].sum(axis=1)\n",
    "profile_270 = polar_projection[:,260:280].sum(axis=1)\n",
    "\n",
    "\n",
    "out_tags['radial_average'] = profile\n",
    "\n",
    "scale = ft.get_slope(main_dataset.dim_0.values)\n",
    "\n",
    "plt.figure()\n",
    "plt.imshow(np.log2(1+polar_projection),extent=(0,360,polar_projection.shape[0]*scale,scale),cmap=\"gray\", vmin=np.max(np.log2(1+diff_pattern))*0.5)\n",
    "ax = plt.gca()\n",
    "ax.set_aspect(\"auto\");\n",
    "plt.xlabel('angle [degree]');\n",
    "plt.ylabel('distance [1/nm]')\n",
    "\n",
    "plt.plot(profile/profile.max()*200,np.linspace(1,len(profile),len(profile))*scale,c='r');\n",
    "#plt.plot(profile_0/profile_0.max()*200,np.linspace(1,len(profile),len(profile))*scale,c='orange');\n",
    "#plt.plot(profile_360/profile_360.max()*200,np.linspace(1,len(profile),len(profile))*scale,c='orange');\n",
    "#plt.plot(profile_180/profile_180.max()*200,np.linspace(1,len(profile),len(profile))*scale,c='b');\n",
    "plt.plot(profile_90/profile_90.max()*200,np.linspace(1,len(profile),len(profile))*scale,c='orange');\n",
    "plt.plot(profile_270/profile_270.max()*200,np.linspace(1,len(profile),len(profile))*scale,c='b');\n",
    "\n",
    "\n",
    "plt.plot([0,360],[3.8,3.8])\n",
    "plt.plot([0,360],[6.3,6.3])"
   ]
  },
  {
   "cell_type": "markdown",
   "metadata": {},
   "source": [
    "## Determine Bragg Peaks\n",
    "\n",
    "Peak finding is actually not as simple as it looks"
   ]
  },
  {
   "cell_type": "code",
   "execution_count": null,
   "metadata": {},
   "outputs": [],
   "source": [
    "import scipy as sp\n",
    "import scipy.signal as signal\n",
    "\n",
    "scale = ft.get_slope(main_dataset.dim_0.values)*4.28/3.75901247*1.005\n",
    "# find_Bragg peaks in profile\n",
    "peaks, g= signal.find_peaks(profile,rel_height =0.7, width=7)  # np.std(second_deriv)*9)\n",
    "\n",
    "print(peaks*scale)\n",
    "\n",
    "out_tags['ring_radii_px'] = peaks\n",
    "\n",
    "\n",
    "plt.figure()\n",
    "\n",
    "plt.imshow(np.log2(1.+polar_projection),extent=(0,360,polar_projection.shape[0]*scale,scale),cmap=\"gray\", vmin=np.max(np.log2(1+diff_pattern))*0.5)\n",
    "\n",
    "ax = plt.gca()\n",
    "ax.set_aspect(\"auto\");\n",
    "plt.xlabel('angle [degree]');\n",
    "plt.ylabel('distance [1/nm]')\n",
    "\n",
    "plt.plot(profile/profile.max()*200,np.linspace(1,len(profile),len(profile))*scale,c='r');\n",
    "\n",
    "for i in peaks:\n",
    "    if i*scale > 3.5:\n",
    "        plt.plot((0,360),(i*scale,i*scale), linestyle='--', c = 'steelblue')"
   ]
  },
  {
   "cell_type": "markdown",
   "metadata": {},
   "source": [
    "## Calculate Ring Pattern\n",
    "\n",
    "see [Structure Factors notebook ](CH2_04-Structure_Factors.ipynb) for details."
   ]
  },
  {
   "cell_type": "code",
   "execution_count": null,
   "metadata": {},
   "outputs": [],
   "source": [
    "#Initialize the dictionary with all the input\n",
    "tags = ks.structure_by_name('gold')\n",
    "ft.h5_add_crystal_structure(main_dataset.h5_dataset.file, tags)\n",
    "\n",
    "\n",
    "#Reciprocal Lattice \n",
    "# We use the linear algebra package of numpy to invert the unit_cell \"matrix\"\n",
    "reciprocal_unit_cell = np.linalg.inv(tags['unit_cell']).T # transposed of inverted unit_cell\n",
    "\n",
    "#INPUT\n",
    "hkl_max = 7#  maximum allowed Miller index\n",
    "\n",
    "acceleration_voltage = 200.0 *1000.0 #V\n",
    "wave_length  = ks.get_wavelength(acceleration_voltage)\n",
    "\n",
    "\n",
    "\n",
    "h  = np.linspace(-hkl_max,hkl_max,2*hkl_max+1)   # all to be evaluated single Miller Index\n",
    "hkl  = np.array(list(itertools.product(h,h,h) )) # all to be evaluated Miller indices\n",
    "g_hkl = np.dot(hkl,reciprocal_unit_cell)  \n",
    "\n",
    "# Calculate Structure Factors\n",
    "\n",
    "structure_factors = []\n",
    "\n",
    "base = np.dot(tags['base'],tags['unit_cell'])  # transformation from relative to Carthesian coordinates\n",
    "for j  in range(len(g_hkl)):\n",
    "    F = 0\n",
    "    for b in range(len(base)):\n",
    "        f = ks.feq(tags['elements'][b],np.linalg.norm(g_hkl[j])) # Atomic form factor for element and momentum change (g vector)\n",
    "        F += f * np.exp(-2*np.pi*1j*(g_hkl[j]*base[b]).sum())        \n",
    "    structure_factors.append(F)\n",
    "F = structure_factors = np.array(structure_factors)\n",
    "\n",
    "# Allowed reflections have a non zero structure factor F (with a  bit of numerical error)\n",
    "allowed = np.absolute(structure_factors) > 0.001\n",
    "\n",
    "distances = np.linalg.norm(g_hkl, axis = 1)\n",
    "\n",
    "print(f' Of the evaluated {hkl.shape[0]} Miller indices {allowed.sum()} are allowed. ')\n",
    "# We select now all the \n",
    "zero = distances == 0.\n",
    "allowed = np.logical_and(allowed,np.logical_not(zero))\n",
    "\n",
    "F = F[allowed]\n",
    "g_hkl = g_hkl[allowed]\n",
    "hkl = hkl[allowed]\n",
    "distances = distances[allowed]\n",
    "\n",
    "sorted_allowed = np.argsort(distances)\n",
    "\n",
    "distances = distances[sorted_allowed]\n",
    "hkl = hkl[sorted_allowed]\n",
    "F = F[sorted_allowed]\n",
    "\n",
    "# How many have unique distances and what is their muliplicity\n",
    "\n",
    "unique, indices  = np.unique(distances, return_index=True)\n",
    "\n",
    "print(f' Of the {allowed.sum()} allowed Bragg reflections there are {len(unique)} families of reflections.')\n",
    "\n",
    "intensity = np.absolute(F[indices]**2*(np.roll(indices,-1)-indices))\n",
    "print('\\n index \\t  hkl \\t      1/d [1/nm]       d [pm]     F     multip.  intensity' )\n",
    "family = []\n",
    "#out_tags['reflections'] = {}\n",
    "reflection = 0\n",
    "for j in range(len(unique)-1):\n",
    "    i = indices[j]    \n",
    "    i2 = indices[j+1]   \n",
    "    family.append(hkl[i+np.argmax(hkl[i:i2].sum(axis=1))])\n",
    "    index = '{'+f'{family[j][0]:.0f} {family[j][1]:.0f} {family[j][2]:.0f}'+'}'\n",
    "    print(f'{i:3g}\\t {index} \\t  {distances[i]:.2f}  \\t {1/distances[i]*1000:.0f} \\t {np.absolute(F[i]):.2f}, \\t  {indices[j+1]-indices[j]:3g} \\t {intensity[j]:.2f}') \n",
    "    #out_tags['reflections'+str(reflection)]={}\n",
    "    out_tags['reflections-'+str(reflection)+'-index'] = index\n",
    "    out_tags['reflections-'+str(reflection)+'-recip_distances'] = distances[i]\n",
    "    out_tags['reflections-'+str(reflection)+'-structure_factor'] = np.absolute(F[i])\n",
    "    out_tags['reflections-'+str(reflection)+'-multiplicity'] = indices[j+1]-indices[j]\n",
    "    out_tags['reflections-'+str(reflection)+'-intensity'] = intensity[j]\n",
    "    reflection +=1\n",
    "    \n",
    "    \n"
   ]
  },
  {
   "cell_type": "markdown",
   "metadata": {},
   "source": [
    "We can have a look what we saved in the file"
   ]
  },
  {
   "cell_type": "code",
   "execution_count": null,
   "metadata": {},
   "outputs": [],
   "source": [
    "ft.h5_tree(main_dataset)\n"
   ]
  },
  {
   "cell_type": "markdown",
   "metadata": {},
   "source": [
    "## Comparison \n",
    "Comparison between experimental profile and kinematic theory\n",
    "\n",
    "The grain size will have an influence on the width of the diffraction rings"
   ]
  },
  {
   "cell_type": "code",
   "execution_count": null,
   "metadata": {},
   "outputs": [],
   "source": [
    "# -------Input of grain size ----\n",
    "resolution  = 0 # 1/nm\n",
    "thickness = 10 # nm\n",
    "# -------------------------------\n",
    "\n",
    "from scipy import signal\n",
    "\n",
    "width = (1/thickness + resolution) / scale\n",
    "scale = ft.get_slope(main_dataset.dim_0.values) # *1.085*1.0\n",
    "\n",
    "intensity2 = intensity/intensity.max()*10\n",
    "\n",
    "gauss = signal.gaussian(len(profile), std=width)\n",
    "simulated_profile = np.zeros(len(profile))\n",
    "rec_dist = np.linspace(1,len(profile),len(profile))*scale\n",
    "\n",
    "x  =[]\n",
    "yAu = []\n",
    "yC  = []\n",
    "for i in rec_dist:\n",
    "    yAu.append(ks.feq('Au', i))\n",
    "    yC.append(ks.feq('C', i))\n",
    "        \n",
    "plt.figure()\n",
    "plt.plot(rec_dist,profile/profile.max()*150, color='blue', label='experiment');\n",
    "for j in range(len(unique)-1):\n",
    "    if unique[j] < len(profile)*scale:\n",
    "        # plot lines\n",
    "        plt.plot([unique[j],unique[j]], [0, intensity2[j]],c='r')\n",
    "        # plot indices\n",
    "        index = '{'+f'{family[j][0]:.0f} {family[j][1]:.0f} {family[j][2]:.0f}'+'}' # pretty index string\n",
    "        plt.text(unique[j],-3, index, horizontalalignment='center',\n",
    "              verticalalignment='top', rotation = 'vertical', fontsize=8, color = 'red')\n",
    "        \n",
    "        # place Gaussian with appropriate width in profile\n",
    "        g = np.roll(gauss,int(-len(profile)/2+unique[j]/scale))* intensity2[j]*np.array(yAu)*1.3#rec_dist**2*10\n",
    "        simulated_profile = simulated_profile + g\n",
    "plt.plot(np.linspace(1,len(profile),len(profile))*scale,simulated_profile, label='simulated');\n",
    "plt.plot(rec_dist,np.array(yAu)**2, label='form_factor')\n",
    "\n",
    "plt.ylim(-35,210);"
   ]
  },
  {
   "cell_type": "markdown",
   "metadata": {},
   "source": [
    "## Publication Quality Output\n",
    "\n",
    "Now we have all the ingredients to make a publication quality plot of the data."
   ]
  },
  {
   "cell_type": "code",
   "execution_count": null,
   "metadata": {},
   "outputs": [],
   "source": [
    "from matplotlib import patches\n",
    "fig = plt.figure(figsize=(9, 6)) \n",
    "\n",
    "extent= np.array([-center[0], diff_pattern.shape[0]-center[0],-diff_pattern.shape[1]+center[1], center[1]])*scale\n",
    "\n",
    "plt.imshow(np.log2(1+diff_pattern).T,cmap=\"gray\", extent=(extent), vmin=np.max(np.log2(1+diff_pattern))*0.5)\n",
    "plt.xlabel(r'reciprocal distance [nm$^{-1}$]')\n",
    "ax = fig.gca()\n",
    "#ax.add_artist(circle1);\n",
    "plt.plot(np.linspace(1,len(profile),len(profile))*scale,profile/profile.max()*10, color='y');\n",
    "plt.plot((0,len(profile)*scale),(0,0),c='r')\n",
    "\n",
    "for j in range(len(unique)-1):\n",
    "    i = indices[j]   \n",
    "    if distances[i] < len(profile)*scale:\n",
    "        plt.plot([distances[i],distances[i]], [0, intensity2[j]/20],c='r')\n",
    "        arc = patches.Arc((0,0), distances[i]*2, distances[i]*2, angle=90.0, theta1=0.0, theta2=270.0, color='r', fill= False, alpha = 0.5)#, **kwargs)\n",
    "        ax.add_artist(arc);\n",
    "plt.scatter(0,0);\n",
    "\n",
    "for i in range(6):\n",
    "    index = '{'+f'{family[i][0]:.0f} {family[i][1]:.0f} {family[i][2]:.0f}'+'}' # pretty index string\n",
    "    plt.text(unique[i],-0.5, index, horizontalalignment='center',\n",
    "             verticalalignment='top', rotation = 'vertical', fontsize=8, color = 'white')"
   ]
  },
  {
   "cell_type": "markdown",
   "metadata": {},
   "source": [
    "### Quiz\n",
    "What would the figure caption for above figure be?"
   ]
  },
  {
   "cell_type": "markdown",
   "metadata": {},
   "source": [
    "### What does the above figure convey?\n",
    "\n",
    "* center is determined accurately\n",
    "* relative distances are accurately described\n",
    "* scaling accurately for reference crystal - calibration?\n",
    "\n"
   ]
  },
  {
   "cell_type": "markdown",
   "metadata": {},
   "source": [
    "### What is the accuracy?\n",
    "\n",
    "Change the scale by 1% and see what happens\n",
    "\n",
    "So we can determine the lattce parameter better than 1% if we use high scattering angles!\n"
   ]
  },
  {
   "cell_type": "markdown",
   "metadata": {},
   "source": [
    "## Logging the results\n"
   ]
  },
  {
   "cell_type": "code",
   "execution_count": null,
   "metadata": {},
   "outputs": [],
   "source": [
    "out_tags['analysis'] = 'Indexing_Diffraction_Rings'\n",
    "out_tags['scale'] = scale\n",
    "log_group = ft.log_results(main_dataset, dataset=None, attributes=out_tags)\n",
    "\n",
    "ft.h5_tree(main_dataset)\n",
    "main_dataset.h5_dataset.file.close()"
   ]
  },
  {
   "cell_type": "markdown",
   "metadata": {},
   "source": [
    "## Conclusion\n",
    "\n",
    "We only need the scatterng factors to calculate the ring pattern.\n",
    "\n",
    "A comparison between simulation and experiment can be very precise.\n",
    "\n",
    "Normally one would do a fit of the most prominent peaks to establish the scale. "
   ]
  },
  {
   "cell_type": "markdown",
   "metadata": {},
   "source": [
    "## Navigation\n",
    "\n",
    "- <font size = \"3\">  **Back Chapter 1: [Atomic Form Factor](CH2_04-Basic_Crystallography.ipynb)** </font>\n",
    "- <font size = \"3\">  **Next: [Structure Factors](CH2_06-Kinematic_Scattering_Geometry.ipynb)** </font>\n",
    "- <font size = \"3\">  **Chapter 2: [Diffraction](CH2_00-Diffraction.ipynb)** </font>\n",
    "- <font size = \"3\">  **List of Content: [Front](../_MSE672_Intro_TEM.ipynb)** </font>\n",
    "\n"
   ]
  },
  {
   "cell_type": "markdown",
   "metadata": {},
   "source": [
    "## Appendix\n",
    " Opening the hdf5 file and plot the data again\n",
    "\n",
    "### Open hf5 file\n"
   ]
  },
  {
   "cell_type": "code",
   "execution_count": null,
   "metadata": {},
   "outputs": [],
   "source": [
    "new_dataset = ft.open_file()#os.path.join(current_directory,filename))\n",
    "\n",
    "new_dataset.plot()"
   ]
  },
  {
   "cell_type": "markdown",
   "metadata": {},
   "source": [
    "### And Plot\n",
    "\n",
    "Becasue we saved all the results in all steps, it is straight forward to retrieve the publication quality plot again."
   ]
  },
  {
   "cell_type": "code",
   "execution_count": null,
   "metadata": {},
   "outputs": [],
   "source": [
    "## Access the data of the loaded image\n",
    "\n",
    "\n",
    "diff_pattern = new_dataset\n",
    "diff_pattern = diff_pattern-diff_pattern.min()\n",
    "current_channel = new_dataset.h5_dataset.parent.parent\n",
    "result_group = current_channel['Log_000']\n",
    "\n",
    "center = result_group['center'][()]\n",
    "scale = result_group['scale'][()]\n",
    "\n",
    "from matplotlib import patches\n",
    "fig = plt.figure(figsize=(9, 6)) \n",
    "ax = plt.gca()\n",
    "extent= np.array([-center[0], diff_pattern.shape[0]-center[0],-diff_pattern.shape[1]+center[1], center[1]])*scale\n",
    "\n",
    "plt.imshow(np.log2(1+diff_pattern).T, cmap=\"gray\", extent=(extent), vmin=np.max(np.log2(1+diff_pattern))*0.5)\n",
    "plt.xlabel(r'reciprocal distance [nm$^{-1}$]')\n",
    "\n",
    "profile = result_group['radial_average'][()]\n",
    "plt.plot(np.linspace(1,len(profile),len(profile))*scale,profile/profile.max()*10, color='y');#\n",
    "plt.plot((0,len(profile)*scale),(0,0),c='r')\n",
    "reflections = {}\n",
    "for key in result_group:\n",
    "    if 'reflection' in key:\n",
    "        keys = key.split('-')\n",
    "        \n",
    "        if keys[1] not in reflections:\n",
    "            reflections[keys[1]]={}\n",
    "        reflections[keys[1]][keys[2]] =  result_group[key][()]\n",
    "        #print( reflections[keys[1]][keys[2]] )\n",
    "for key in reflections:\n",
    "    distance = reflections[key]['recip_distances']\n",
    "    if distance < len(profile)*scale:\n",
    "        \n",
    "        plt.plot([distance,distance], [0, reflections[key]['intensity']/1000],c='r')\n",
    "        arc = patches.Arc((0,0), distance*2, distance*2, angle=90.0, theta1=0.0, theta2=270.0, color='r', fill= False, alpha = 0.5)#, **kwargs)\n",
    "        ax.add_artist(arc);\n",
    "plt.scatter(0,0);\n",
    "for i in range(7):\n",
    "    index = reflections[str(i)]['index'] # pretty index string\n",
    "    plt.text(unique[i],-0.5, index, horizontalalignment='center',\n",
    "          verticalalignment='top', rotation = 'vertical', fontsize=8, color = 'white')\n"
   ]
  },
  {
   "cell_type": "markdown",
   "metadata": {},
   "source": [
    "## Close File\n"
   ]
  },
  {
   "cell_type": "code",
   "execution_count": null,
   "metadata": {},
   "outputs": [],
   "source": [
    "new_dataset.h5_dataset.file.close()"
   ]
  },
  {
   "cell_type": "code",
   "execution_count": null,
   "metadata": {},
   "outputs": [],
   "source": []
  }
 ],
 "metadata": {
  "celltoolbar": "Slideshow",
  "kernelspec": {
   "display_name": "Python 3",
   "language": "python",
   "name": "python3"
  },
  "language_info": {
   "codemirror_mode": {
    "name": "ipython",
    "version": 3
   },
   "file_extension": ".py",
   "mimetype": "text/x-python",
   "name": "python",
   "nbconvert_exporter": "python",
   "pygments_lexer": "ipython3",
   "version": "3.8.6"
  },
  "livereveal": {
   "height": 768,
   "theme": "sky",
   "transition": "zoom",
   "width": 1024
  },
  "toc": {
   "base_numbering": "5",
   "nav_menu": {},
   "number_sections": true,
   "sideBar": true,
   "skip_h1_title": false,
   "title_cell": "Table of Contents",
   "title_sidebar": "Contents",
   "toc_cell": false,
   "toc_position": {},
   "toc_section_display": true,
   "toc_window_display": true
  }
 },
 "nbformat": 4,
 "nbformat_minor": 4
}
