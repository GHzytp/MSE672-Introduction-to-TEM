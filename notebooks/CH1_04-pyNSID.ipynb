{
 "cells": [
  {
   "cell_type": "markdown",
   "metadata": {
    "hideCode": false,
    "hidePrompt": false
   },
   "source": [
    "<font size = \"5\"> **Chapter 1: [Introduction](CH1_00-Introduction.ipynb)** </font>\n",
    "\n",
    "\n",
    "<hr style=\"height:1px;border-top:4px solid #FF8200\" />\n",
    "\n",
    "# Open DM3 Images, Spectra, Spectrum-Images and  Image-Stacks with pyNSID \n",
    "\n",
    "[![Open In Colab](https://colab.research.google.com/assets/colab-badge.svg)](\n",
    "    https://colab.research.google.com/github/gduscher/MSE672-Introduction-to-TEM/blob/main/notebooks/CH1_04-pyNSID.ipynb)\n",
    "\n",
    "part of \n",
    "\n",
    "<font size = \"5\"> **[MSE672:  Introduction to Transmission Electron Microscopy](_MSE672_Intro_TEM.ipynb)**</font>\n",
    "\n",
    "by Gerd Duscher, Fall 2021\n",
    "\n",
    "Microscopy Facilities<br>\n",
    "Joint Institute of Advanced Materials<br>\n",
    "Materials Science & Engineering<br>\n",
    "The University of Tennessee, Knoxville\n",
    "\n",
    "Background and methods to analysis and quantification of data acquired with transmission electron microscopes.\n",
    "\n",
    "---\n",
    "Reading a dm file and translating the data in a **[pyNSID](https://pycroscopy.github.io/pyNSID/)** style hf5py file to be compatible with  the **[pycroscopy](https://pycroscopy.github.io/pycroscopy/)** package.\n",
    "\n",
    "Because, many other packages and programs for TEM data manipulation are based on the ``hdf5`` file-formats it is relatively easy to convert back and forward between them.\n",
    "\n"
   ]
  },
  {
   "cell_type": "markdown",
   "metadata": {
    "hideCode": false,
    "hidePrompt": false
   },
   "source": [
    "## Import packages for figures and\n",
    "### Check Installed Packages"
   ]
  },
  {
   "cell_type": "code",
   "execution_count": 2,
   "metadata": {
    "hideCode": false,
    "hidePrompt": false
   },
   "outputs": [
    {
     "name": "stdout",
     "output_type": "stream",
     "text": [
      "done\n"
     ]
    }
   ],
   "source": [
    "import sys\n",
    "from pkg_resources import get_distribution, DistributionNotFound\n",
    "\n",
    "def test_package(package_name):\n",
    "    \"\"\"Test if package exists and returns version or -1\"\"\"\n",
    "    try:\n",
    "        version = get_distribution(package_name).version\n",
    "    except (DistributionNotFound, ImportError) as err:\n",
    "        version = '-1'\n",
    "    return version\n",
    "\n",
    "# Colab setup ------------------\n",
    "if 'google.colab' in sys.modules:\n",
    "    !pip install pyTEMlib -q\n",
    "# pyTEMlib setup ------------------\n",
    "else:\n",
    "    if test_package('pyTEMlib') < '0.2021.1.9':\n",
    "        print('installing pyTEMlib')\n",
    "        !{sys.executable} -m pip install  --upgrade pyTEMlib -q\n",
    "# ------------------------------\n",
    "print('done')"
   ]
  },
  {
   "cell_type": "markdown",
   "metadata": {},
   "source": [
    "### Load the plotting and figure packages"
   ]
  },
  {
   "cell_type": "code",
   "execution_count": 3,
   "metadata": {
    "pycharm": {
     "name": "#%%\n"
    }
   },
   "outputs": [
    {
     "name": "stdout",
     "output_type": "stream",
     "text": [
      "Populating the interactive namespace from numpy and matplotlib\n",
      "pyTEM version:  0.2021.01.09\n"
     ]
    }
   ],
   "source": [
    "import sys\n",
    "if 'google.colab' in sys.modules:\n",
    "    %pylab --no-import-all inline\n",
    "else:\n",
    "    %pylab --no-import-all inline\n",
    "\n",
    "# import TEMlib from pyTEM\n",
    "import pyTEMlib\n",
    "import pyTEMlib.file_tools  as ft     # File input/ output library\n",
    "\n",
    "import sidpy\n",
    "import pyNSID\n",
    "import h5py\n",
    "\n",
    "# For archiving reasons it is a good idea to print the version numbers out at this point\n",
    "print('pyTEM version: ',pyTEMlib.__version__)\n",
    "__notebook__='CH1_04-Reading_File'\n",
    "__notebook_version__='2021_01_12'"
   ]
  },
  {
   "cell_type": "markdown",
   "metadata": {
    "hideCode": false,
    "hidePrompt": false
   },
   "source": [
    "## Open a file \n",
    "\n",
    "This function opens a hfd5 file in the pyNSID style which enables you to keep track of your data anlysis.\n",
    "\n",
    "Please see the **[Installation](CH1-Prerequisites.ipynb#TEM-Library)** notebook for installation.\n",
    "\n",
    "We want to consolidate files into one dataset that belongs together.  For example a spectrum image dataset consists of: \n",
    "* Survey image, \n",
    "* EELS spectra \n",
    "* Z-contrast image acquired simultaneously with the spectra.\n",
    "\n",
    "\n",
    "So load the top dataset first in the above example the survey image.\n",
    "\n",
    "Please note that the plotting routine of ``matplotlib`` was introduced in **[Matplotlib and Numpy for Micrographs](CH1-Data_Representation.ipynb)** notebook.\n",
    "\n",
    "**Use the file p1-3hr.dm3 from TEM_data directory for a practice run**"
   ]
  },
  {
   "cell_type": "code",
   "execution_count": 4,
   "metadata": {
    "hideCode": false,
    "hidePrompt": false,
    "scrolled": false
   },
   "outputs": [
    {
     "name": "stdout",
     "output_type": "stream",
     "text": [
      "Cannot overwrite file. Using:  a1_ 410s-4.hf5\n"
     ]
    },
    {
     "name": "stderr",
     "output_type": "stream",
     "text": [
      "C:\\Users\\gduscher\\Anaconda3\\lib\\site-packages\\pyNSID\\io\\hdf_utils.py:351: FutureWarning: validate_h5_dimension may be removed in a future version\n",
      "  warn('validate_h5_dimension may be removed in a future version',\n"
     ]
    },
    {
     "data": {
      "image/png": "[encoded data removed]",
      "text/plain": [
       "<Figure size 432x288 with 1 Axes>"
      ]
     },
     "metadata": {
      "needs_background": "light"
     },
     "output_type": "display_data"
    }
   ],
   "source": [
    "# We might run this code cell several times and so we first try to close the file if open.\n",
    "try:\n",
    "    current_dataset.h5_dataset.file.close()\n",
    "except:\n",
    "    pass\n",
    "\n",
    "# Load file\n",
    "current_dataset = ft.open_file()#os.path.join(current_directory,filename))\n",
    "current_channel = current_dataset.h5_dataset.file['Measurement_000/Channel_000']\n",
    "\n",
    "current_dataset.plot()"
   ]
  },
  {
   "cell_type": "markdown",
   "metadata": {},
   "source": [
    "## Data Structure\n",
    "\n",
    "The data themselves reside in a ``sidpy dataset`` which we name ``current_dataset``."
   ]
  },
  {
   "cell_type": "markdown",
   "metadata": {},
   "source": [
    "The current_dataset has additional information stored as attributes which can be accessed through their name."
   ]
  },
  {
   "cell_type": "code",
   "execution_count": 5,
   "metadata": {
    "pycharm": {
     "name": "#%%\n"
    }
   },
   "outputs": [
    {
     "name": "stdout",
     "output_type": "stream",
     "text": [
      "sidpy.Dataset of type SPECTRUM with:\n",
      " dask.array<a1_ 410s, shape=(2048,), dtype=float32, chunksize=(2048,), chunktype=numpy.ndarray>\n",
      " data contains: intensity (counts)\n",
      " and Dimensions: \n",
      "energy_loss:  energy-loss (eV) of size (2048,)\n"
     ]
    },
    {
     "data": {
      "text/html": [
       "<table>\n",
       "<tr>\n",
       "<td>\n",
       "<table>\n",
       "  <thead>\n",
       "    <tr><td> </td><th> Array </th><th> Chunk </th></tr>\n",
       "  </thead>\n",
       "  <tbody>\n",
       "    <tr><th> Bytes </th><td> 8.19 kB </td> <td> 8.19 kB </td></tr>\n",
       "    <tr><th> Shape </th><td> (2048,) </td> <td> (2048,) </td></tr>\n",
       "    <tr><th> Count </th><td> 1 Tasks </td><td> 1 Chunks </td></tr>\n",
       "    <tr><th> Type </th><td> float32 </td><td> numpy.ndarray </td></tr>\n",
       "  </tbody>\n",
       "</table>\n",
       "</td>\n",
       "<td>\n",
       "<svg width=\"170\" height=\"75\" style=\"stroke:rgb(0,0,0);stroke-width:1\" >\n",
       "\n",
       "  <!-- Horizontal lines -->\n",
       "  <line x1=\"0\" y1=\"0\" x2=\"120\" y2=\"0\" style=\"stroke-width:2\" />\n",
       "  <line x1=\"0\" y1=\"25\" x2=\"120\" y2=\"25\" style=\"stroke-width:2\" />\n",
       "\n",
       "  <!-- Vertical lines -->\n",
       "  <line x1=\"0\" y1=\"0\" x2=\"0\" y2=\"25\" style=\"stroke-width:2\" />\n",
       "  <line x1=\"120\" y1=\"0\" x2=\"120\" y2=\"25\" style=\"stroke-width:2\" />\n",
       "\n",
       "  <!-- Colored Rectangle -->\n",
       "  <polygon points=\"0.0,0.0 120.0,0.0 120.0,25.412616514582485 0.0,25.412616514582485\" style=\"fill:#ECB172A0;stroke-width:0\"/>\n",
       "\n",
       "  <!-- Text -->\n",
       "  <text x=\"60.000000\" y=\"45.412617\" font-size=\"1.0rem\" font-weight=\"100\" text-anchor=\"middle\" >2048</text>\n",
       "  <text x=\"140.000000\" y=\"12.706308\" font-size=\"1.0rem\" font-weight=\"100\" text-anchor=\"middle\" transform=\"rotate(0,140.000000,12.706308)\">1</text>\n",
       "</svg>\n",
       "</td>\n",
       "</tr>\n",
       "</table>"
      ],
      "text/plain": [
       "sidpy.Dataset of type SPECTRUM with:\n",
       " dask.array<a1_ 410s, shape=(2048,), dtype=float32, chunksize=(2048,), chunktype=numpy.ndarray>\n",
       " data contains: intensity (counts)\n",
       " and Dimensions: \n",
       "energy_loss:  energy-loss (eV) of size (2048,)"
      ]
     },
     "execution_count": 5,
     "metadata": {},
     "output_type": "execute_result"
    }
   ],
   "source": [
    "print(current_dataset)\n",
    "current_dataset"
   ]
  },
  {
   "cell_type": "code",
   "execution_count": 6,
   "metadata": {},
   "outputs": [
    {
     "name": "stdout",
     "output_type": "stream",
     "text": [
      "size of current dataset is (2048,)\n"
     ]
    }
   ],
   "source": [
    "print(f'size of current dataset is {current_dataset.shape}')"
   ]
  },
  {
   "cell_type": "markdown",
   "metadata": {},
   "source": [
    "The current_dataset has additional information stored as attributes which can be accessed through their name."
   ]
  },
  {
   "cell_type": "code",
   "execution_count": 30,
   "metadata": {},
   "outputs": [
    {
     "name": "stdout",
     "output_type": "stream",
     "text": [
      "title:  a1_ 410s\n",
      "data type:  DataType.SPECTRUM\n",
      "<KeysViewHDF5 ['ApplicationBounds', 'DM-chosen_image', 'DM-file_size', 'DM-file_version', 'DM-full_file_name', 'DocumentObjectList-0-AnnotationType', 'DocumentObjectList-0-BackgroundColor', 'DocumentObjectList-0-BackgroundMode', 'DocumentObjectList-0-FillMode', 'DocumentObjectList-0-ForegroundColor', 'DocumentObjectList-0-HasBackground', 'DocumentObjectList-0-ImageDisplayInfo-BackgroundOn', 'DocumentObjectList-0-ImageDisplayInfo-CalibrationSliceId-0', 'DocumentObjectList-0-ImageDisplayInfo-CaptionOn', 'DocumentObjectList-0-ImageDisplayInfo-CaptionSize', 'DocumentObjectList-0-ImageDisplayInfo-CursorOn', 'DocumentObjectList-0-ImageDisplayInfo-CursorPosition', 'DocumentObjectList-0-ImageDisplayInfo-DimensionLabels-0', 'DocumentObjectList-0-ImageDisplayInfo-FrameOn', 'DocumentObjectList-0-ImageDisplayInfo-GridOn', 'DocumentObjectList-0-ImageDisplayInfo-GroupId', 'DocumentObjectList-0-ImageDisplayInfo-GroupList-0-DoAutoSurveyHigh', 'DocumentObjectList-0-ImageDisplayInfo-GroupList-0-DoAutoSurveyLow', 'DocumentObjectList-0-ImageDisplayInfo-GroupList-0-GroupToDisplay-Offset', 'DocumentObjectList-0-ImageDisplayInfo-GroupList-0-GroupToDisplay-Scale', 'DocumentObjectList-0-ImageDisplayInfo-GroupList-0-TrackStyleX', 'DocumentObjectList-0-ImageDisplayInfo-GroupList-0-TrackStyleY', 'DocumentObjectList-0-ImageDisplayInfo-LegendOn', 'DocumentObjectList-0-ImageDisplayInfo-MainSliceId-0', 'DocumentObjectList-0-ImageDisplayInfo-NumHorizontalTicks', 'DocumentObjectList-0-ImageDisplayInfo-NumVerticalTicks', 'DocumentObjectList-0-ImageDisplayInfo-SliceList-0-BaseIntensity', 'DocumentObjectList-0-ImageDisplayInfo-SliceList-0-ComplexMode', 'DocumentObjectList-0-ImageDisplayInfo-SliceList-0-DrawFill', 'DocumentObjectList-0-ImageDisplayInfo-SliceList-0-DrawLine', 'DocumentObjectList-0-ImageDisplayInfo-SliceList-0-FillColor', 'DocumentObjectList-0-ImageDisplayInfo-SliceList-0-Horz Pos Fixed', 'DocumentObjectList-0-ImageDisplayInfo-SliceList-0-Horz Scale Fixed', 'DocumentObjectList-0-ImageDisplayInfo-SliceList-0-ImageToGroup-Offset', 'DocumentObjectList-0-ImageDisplayInfo-SliceList-0-ImageToGroup-Scale', 'DocumentObjectList-0-ImageDisplayInfo-SliceList-0-IsVisible', 'DocumentObjectList-0-ImageDisplayInfo-SliceList-0-LineColor', 'DocumentObjectList-0-ImageDisplayInfo-SliceList-0-LineThickness', 'DocumentObjectList-0-ImageDisplayInfo-SliceList-0-SliceGroup', 'DocumentObjectList-0-ImageDisplayInfo-SliceList-0-SliceId-0', 'DocumentObjectList-0-ImageDisplayInfo-SliceList-0-Vert Pos Fixed', 'DocumentObjectList-0-ImageDisplayInfo-SliceList-0-Vert Scale Fixed', 'DocumentObjectList-0-ImageDisplayType', 'DocumentObjectList-0-ImageSource', 'DocumentObjectList-0-IsMoveable', 'DocumentObjectList-0-IsResizable', 'DocumentObjectList-0-IsSelectable', 'DocumentObjectList-0-IsTranslatable', 'DocumentObjectList-0-IsVisible', 'DocumentObjectList-0-Rectangle', 'DocumentObjectList-0-UniqueID', 'HasWindowPosition', 'Image Behavior-DoIntegralZoom', 'Image Behavior-ImageDisplayBounds', 'Image Behavior-IsZoomedToWindow', 'Image Behavior-UnscaledTransform-Offset', 'Image Behavior-UnscaledTransform-Scale', 'Image Behavior-ViewDisplayID', 'Image Behavior-WindowRect', 'Image Behavior-ZoomAndMoveTransform-Offset', 'Image Behavior-ZoomAndMoveTransform-Scale', 'ImageList-0-ImageData-Calibrations-Brightness-Origin', 'ImageList-0-ImageData-Calibrations-Brightness-Scale', 'ImageList-0-ImageData-Calibrations-Brightness-Units', 'ImageList-0-ImageData-Calibrations-Dimension-0-Origin', 'ImageList-0-ImageData-Calibrations-Dimension-0-Scale', 'ImageList-0-ImageData-Calibrations-Dimension-0-Units', 'ImageList-0-ImageData-Calibrations-Dimension-1-Origin', 'ImageList-0-ImageData-Calibrations-Dimension-1-Scale', 'ImageList-0-ImageData-Calibrations-Dimension-1-Units', 'ImageList-0-ImageData-Calibrations-DisplayCalibratedUnits', 'ImageList-0-ImageData-DataType', 'ImageList-0-ImageData-Dimensions-0', 'ImageList-0-ImageData-Dimensions-1', 'ImageList-0-ImageData-PixelDepth', 'ImageList-0-Name', 'ImageList-0-UniqueID-0', 'ImageList-0-UniqueID-1', 'ImageList-0-UniqueID-2', 'ImageList-0-UniqueID-3', 'ImageList-1-ImageData-Calibrations-Brightness-Origin', 'ImageList-1-ImageData-Calibrations-Brightness-Scale', 'ImageList-1-ImageData-Calibrations-Brightness-Units', 'ImageList-1-ImageData-Calibrations-Dimension-0-Origin', 'ImageList-1-ImageData-Calibrations-Dimension-0-Scale', 'ImageList-1-ImageData-Calibrations-Dimension-0-Units', 'ImageList-1-ImageData-Calibrations-DisplayCalibratedUnits', 'ImageList-1-ImageData-Data', 'ImageList-1-ImageData-DataType', 'ImageList-1-ImageData-Dimensions-0', 'ImageList-1-ImageData-PixelDepth', 'ImageList-1-ImageTags-Acquisition-Device-Active Size (pixels)', 'ImageList-1-ImageTags-Acquisition-Device-CCD-Pixel Size (um)', 'ImageList-1-ImageTags-Acquisition-Device-Camera Number', 'ImageList-1-ImageTags-Acquisition-Device-Configuration-Transpose-Diagonal Flip', 'ImageList-1-ImageTags-Acquisition-Device-Configuration-Transpose-Horizontal Flip', 'ImageList-1-ImageTags-Acquisition-Device-Configuration-Transpose-Vertical Flip', 'ImageList-1-ImageTags-Acquisition-Device-Name', 'ImageList-1-ImageTags-Acquisition-Device-Source', 'ImageList-1-ImageTags-Acquisition-Frame-Area-Transform-Class Name', 'ImageList-1-ImageTags-Acquisition-Frame-Area-Transform-Transform List-0-Binning', 'ImageList-1-ImageTags-Acquisition-Frame-Area-Transform-Transform List-0-Class Name', 'ImageList-1-ImageTags-Acquisition-Frame-Area-Transform-Transform List-0-Sub Area Adjust', 'ImageList-1-ImageTags-Acquisition-Frame-Area-Transform-Transform List-0-Transpose-Diagonal Flip', 'ImageList-1-ImageTags-Acquisition-Frame-Area-Transform-Transform List-0-Transpose-Horizontal Flip', 'ImageList-1-ImageTags-Acquisition-Frame-Area-Transform-Transform List-0-Transpose-Vertical Flip', 'ImageList-1-ImageTags-Acquisition-Frame-CCD-Pixel Size (um)', 'ImageList-1-ImageTags-Acquisition-Frame-Intensity-Transform-Class Name', 'ImageList-1-ImageTags-Acquisition-Frame-Intensity-Transform-Transform List-0-Class Name', 'ImageList-1-ImageTags-Acquisition-Frame-Intensity-Transform-Transform List-0-Offset', 'ImageList-1-ImageTags-Acquisition-Frame-Intensity-Transform-Transform List-0-Scale', 'ImageList-1-ImageTags-Acquisition-Frame-Intensity-Transform-Transform List-1-ADC Max', 'ImageList-1-ImageTags-Acquisition-Frame-Intensity-Transform-Transform List-1-ADC Min', 'ImageList-1-ImageTags-Acquisition-Frame-Intensity-Transform-Transform List-1-Class Name', 'ImageList-1-ImageTags-Acquisition-Parameters-Acquisition Write Flags', 'ImageList-1-ImageTags-Acquisition-Parameters-Base Detector-Class Name', 'ImageList-1-ImageTags-Acquisition-Parameters-Base Detector-Name', 'ImageList-1-ImageTags-Acquisition-Parameters-Detector-continuous', 'ImageList-1-ImageTags-Acquisition-Parameters-Detector-exposure (s)', 'ImageList-1-ImageTags-Acquisition-Parameters-Detector-hbin', 'ImageList-1-ImageTags-Acquisition-Parameters-Detector-height', 'ImageList-1-ImageTags-Acquisition-Parameters-Detector-left', 'ImageList-1-ImageTags-Acquisition-Parameters-Detector-top', 'ImageList-1-ImageTags-Acquisition-Parameters-Detector-vbin', 'ImageList-1-ImageTags-Acquisition-Parameters-Detector-width', 'ImageList-1-ImageTags-Acquisition-Parameters-Environment-Mode Name', 'ImageList-1-ImageTags-Acquisition-Parameters-High Level-Acquisition Buffer Size', 'ImageList-1-ImageTags-Acquisition-Parameters-High Level-Antiblooming', 'ImageList-1-ImageTags-Acquisition-Parameters-High Level-Binning', 'ImageList-1-ImageTags-Acquisition-Parameters-High Level-CCD Read Area', 'ImageList-1-ImageTags-Acquisition-Parameters-High Level-CCD Read Ports', 'ImageList-1-ImageTags-Acquisition-Parameters-High Level-Choose Number Of Frame Shutters Automatically', 'ImageList-1-ImageTags-Acquisition-Parameters-High Level-Class Name', 'ImageList-1-ImageTags-Acquisition-Parameters-High Level-Continuous Readout', 'ImageList-1-ImageTags-Acquisition-Parameters-High Level-Corrections', 'ImageList-1-ImageTags-Acquisition-Parameters-High Level-Corrections Mask', 'ImageList-1-ImageTags-Acquisition-Parameters-High Level-Exposure (s)', 'ImageList-1-ImageTags-Acquisition-Parameters-High Level-Number Of Frame Shutters', 'ImageList-1-ImageTags-Acquisition-Parameters-High Level-Processing', 'ImageList-1-ImageTags-Acquisition-Parameters-High Level-Quality Level', 'ImageList-1-ImageTags-Acquisition-Parameters-High Level-Read Frame Style', 'ImageList-1-ImageTags-Acquisition-Parameters-High Level-Read Mode', 'ImageList-1-ImageTags-Acquisition-Parameters-High Level-Secondary Shutter Post Exposure Compensation (s)', 'ImageList-1-ImageTags-Acquisition-Parameters-High Level-Secondary Shutter Pre Exposure Compensation (s)', 'ImageList-1-ImageTags-Acquisition-Parameters-High Level-Shutter Post Exposure Compensation (s)', 'ImageList-1-ImageTags-Acquisition-Parameters-High Level-Shutter Pre Exposure Compensation (s)', 'ImageList-1-ImageTags-Acquisition-Parameters-High Level-Shutter-Primary Shutter States', 'ImageList-1-ImageTags-Acquisition-Parameters-High Level-Shutter-Primary Shutter States Mask', 'ImageList-1-ImageTags-Acquisition-Parameters-High Level-Shutter-Secondary Shutter States', 'ImageList-1-ImageTags-Acquisition-Parameters-High Level-Shutter-Secondary Shutter States Mask', 'ImageList-1-ImageTags-Acquisition-Parameters-High Level-Shutter-Shutter Exposure', 'ImageList-1-ImageTags-Acquisition-Parameters-High Level-Shutter-Shutter Index', 'ImageList-1-ImageTags-Acquisition-Parameters-High Level-Transform-Diagonal Flip', 'ImageList-1-ImageTags-Acquisition-Parameters-High Level-Transform-Horizontal Flip', 'ImageList-1-ImageTags-Acquisition-Parameters-High Level-Transform-Vertical Flip', 'ImageList-1-ImageTags-Acquisition-Parameters-Objects-0-Class Name', 'ImageList-1-ImageTags-Acquisition-Parameters-Objects-0-Frame Combine Style', 'ImageList-1-ImageTags-Acquisition-Parameters-Objects-0-Parameter 1', 'ImageList-1-ImageTags-Acquisition-Parameters-Parameter Set Name', 'ImageList-1-ImageTags-Acquisition-Parameters-Parameter Set Tag Path', 'ImageList-1-ImageTags-Acquisition-Parameters-Version', 'ImageList-1-ImageTags-EELS-Acquisition-Continuous mode', 'ImageList-1-ImageTags-EELS-Acquisition-Date', 'ImageList-1-ImageTags-EELS-Acquisition-End time', 'ImageList-1-ImageTags-EELS-Acquisition-Exposure (s)', 'ImageList-1-ImageTags-EELS-Acquisition-Integration time (s)', 'ImageList-1-ImageTags-EELS-Acquisition-Number of frames', 'ImageList-1-ImageTags-EELS-Acquisition-Saturation fraction', 'ImageList-1-ImageTags-EELS-Acquisition-Start time', 'ImageList-1-ImageTags-EELS-Experimental Conditions-Collection semi_angle (mrad)', 'ImageList-1-ImageTags-EELS-Experimental Conditions-Convergence semi_angle (mrad)', 'ImageList-1-ImageTags-Meta Data-Acquisition Mode', 'ImageList-1-ImageTags-Meta Data-Format', 'ImageList-1-ImageTags-Meta Data-Signal', 'ImageList-1-ImageTags-Microscope Info-Cs(mm)', 'ImageList-1-ImageTags-Microscope Info-Emission Current (µA)', 'ImageList-1-ImageTags-Microscope Info-Formatted Indicated Mag', 'ImageList-1-ImageTags-Microscope Info-Formatted Voltage', 'ImageList-1-ImageTags-Microscope Info-Illumination Mode', 'ImageList-1-ImageTags-Microscope Info-Imaging Mode', 'ImageList-1-ImageTags-Microscope Info-Indicated Magnification', 'ImageList-1-ImageTags-Microscope Info-Items-0-Data Type', 'ImageList-1-ImageTags-Microscope Info-Items-0-Label', 'ImageList-1-ImageTags-Microscope Info-Items-0-Tag path', 'ImageList-1-ImageTags-Microscope Info-Items-0-Value', 'ImageList-1-ImageTags-Microscope Info-Items-1-Data Type', 'ImageList-1-ImageTags-Microscope Info-Items-1-Label', 'ImageList-1-ImageTags-Microscope Info-Items-1-Tag path', 'ImageList-1-ImageTags-Microscope Info-Items-1-Value', 'ImageList-1-ImageTags-Microscope Info-Items-2-Data Type', 'ImageList-1-ImageTags-Microscope Info-Items-2-Label', 'ImageList-1-ImageTags-Microscope Info-Items-2-Tag path', 'ImageList-1-ImageTags-Microscope Info-Items-2-Value', 'ImageList-1-ImageTags-Microscope Info-Microscope', 'ImageList-1-ImageTags-Microscope Info-Name', 'ImageList-1-ImageTags-Microscope Info-Operation Mode', 'ImageList-1-ImageTags-Microscope Info-Operator', 'ImageList-1-ImageTags-Microscope Info-Probe Current (nA)', 'ImageList-1-ImageTags-Microscope Info-Probe Size (nm)', 'ImageList-1-ImageTags-Microscope Info-STEM Camera Length', 'ImageList-1-ImageTags-Microscope Info-Specimen', 'ImageList-1-ImageTags-Microscope Info-Voltage', 'ImageList-1-Name', 'ImageList-1-UniqueID-0', 'ImageList-1-UniqueID-1', 'ImageList-1-UniqueID-2', 'ImageList-1-UniqueID-3', 'ImageSourceList-0-ClassName', 'ImageSourceList-0-Extra Slice Info-0-Id-0', 'ImageSourceList-0-Extra Slice Info-0-Label', 'ImageSourceList-0-Id-0', 'ImageSourceList-0-ImageRef', 'InImageMode', 'MinVersionList-0-RequiredVersion', 'NextDocumentObjectID', 'Page Behavior-DoIntegralZoom', 'Page Behavior-DrawMargins', 'Page Behavior-DrawPaper', 'Page Behavior-IsFixedInPageMode', 'Page Behavior-IsZoomedToWindow', 'Page Behavior-LayedOut', 'Page Behavior-PageTransform-Offset', 'Page Behavior-PageTransform-Scale', 'Page Behavior-RestoreImageDisplayBounds', 'Page Behavior-RestoreImageDisplayID', 'Page Behavior-TargetDisplayID', 'PageSetup-General', 'Thumbnails-0-ImageIndex', 'Thumbnails-0-SourceSize_Pixels', 'WindowPosition']>\n"
     ]
    }
   ],
   "source": [
    "print('title: ', current_dataset.title)\n",
    "print('data type: ', current_dataset.data_type)\n",
    "current_dataset.metadata\n",
    "print(current_channel['a1_ 410s']['original_metadata'].attrs.keys())"
   ]
  },
  {
   "cell_type": "markdown",
   "metadata": {},
   "source": [
    "## File Structure\n",
    "The current_channel (like a directory in a file system) contains several groups.\n",
    "\n",
    "Below I show how to access one of those groups."
   ]
  },
  {
   "cell_type": "code",
   "execution_count": 49,
   "metadata": {},
   "outputs": [
    {
     "name": "stdout",
     "output_type": "stream",
     "text": [
      "<KeysViewHDF5 ['a1_ 410s']>\n",
      "<HDF5 group \"/Measurement_000/Channel_000\" (1 members)>\n",
      "<HDF5 group \"/Measurement_000/Log_005\" (1 members)>\n"
     ]
    },
    {
     "name": "stderr",
     "output_type": "stream",
     "text": [
      "C:\\Users\\gduscher\\Anaconda3\\lib\\site-packages\\sidpy\\hdf\\hdf_utils.py:419: UserWarning: Casting attribute value: <sidpy.viz.dataset_viz.CurveVisualizer object at 0x000001AA2BE84B50> of type: <class 'sidpy.viz.dataset_viz.CurveVisualizer'> to str\n",
      "  warn('Casting attribute value: {} of type: {} to str'\n",
      "C:\\Users\\gduscher\\Anaconda3\\lib\\site-packages\\pyNSID\\io\\hdf_utils.py:351: FutureWarning: validate_h5_dimension may be removed in a future version\n",
      "  warn('validate_h5_dimension may be removed in a future version',\n"
     ]
    }
   ],
   "source": [
    "print(current_channel.keys())\n",
    "def add_data(dataset, h5_group=None):\n",
    "    \"\"\"Write data to hdf5 file\n",
    "\n",
    "    Parameters\n",
    "    ----------\n",
    "    dataset: sidpy.Dataset\n",
    "        data to write to file\n",
    "    h5_group: None, sidpy.Dataset, h5py.Group, h5py.Datset, h5py.File\n",
    "        identifier to which group the data are added (if None the dataset must have a valid h5_dataset)\n",
    "\n",
    "    Returns:\n",
    "    log_group: h5py.Dataset\n",
    "        reference the dataset has been written to. (is also stored in h5_dataset attribute of sipy.Dataset)\n",
    "    \"\"\"\n",
    "\n",
    "    if h5_group is None:\n",
    "        if isinstance(dataset.h5_dataset, h5py.Dataset):\n",
    "            h5_group = dataset.h5_dataset.parent.parent.parent\n",
    "    if isinstance(h5_group, h5py.Dataset):\n",
    "        h5_group = h5_group.parent.parent.parent\n",
    "    elif isinstance(h5_group, sidpy.Dataset):\n",
    "        h5_group = h5_group.h5_dataset.parent.parent.parent\n",
    "    elif isinstance(h5_group, h5py.File):\n",
    "        h5_group = h5_group['Measurement_000']\n",
    "        \n",
    "    if not isinstance(h5_group, h5py.Group):\n",
    "        raise TypeError('Need a valid indentifier for a hdf5 group to store data in')\n",
    "\n",
    "    log_group = sidpy.hdf.prov_utils.create_indexed_group(h5_group, 'Channel_')\n",
    "    h5_dataset = pyNSID.hdf_io.write_nsid_dataset(dset, log_group)\n",
    "    \n",
    "    if hasattr(dataset, 'meta_data'):\n",
    "        if 'analysis' in dataset.meta_data:\n",
    "            log_group['analysis'] = dataset.meta_data['analysis']\n",
    "            \n",
    "    dataset.h5_dataset = h5_dataset\n",
    "    return h5_dataset\n",
    "\n",
    "print(current_channel)\n",
    "current_dataset.metadata= {'a': 'nix', 'b': 'gara'}\n",
    "#new_data = pyNSID.hdf_io.write_results(current_channel.parent, dataset=current_dataset)\n",
    "new_data = add_data(current_dataset, h5_group=None)\n",
    "\n",
    "print(current_dataset.h5_dataset)\n",
    "print(new_data)"
   ]
  },
  {
   "cell_type": "code",
   "execution_count": 50,
   "metadata": {},
   "outputs": [
    {
     "name": "stdout",
     "output_type": "stream",
     "text": [
      "{'a': 'nix', 'b': 'gara'}\n"
     ]
    }
   ],
   "source": [
    "print(dict(new_data['a1_ 410s']['metadata'].attrs))"
   ]
  },
  {
   "cell_type": "markdown",
   "metadata": {},
   "source": [
    "An important attribute in ``current_dataset`` is the ``original_metadata`` group, where all the original metadata of your file reside in the ``attributes``. This is usually a long list for ``dm3`` files."
   ]
  },
  {
   "cell_type": "code",
   "execution_count": 57,
   "metadata": {},
   "outputs": [
    {
     "data": {
      "text/plain": [
       "<KeysViewHDF5 []>"
      ]
     },
     "execution_count": 57,
     "metadata": {},
     "output_type": "execute_result"
    }
   ],
   "source": [
    "current_dataset.h5_dataset.parent['original_metadata'].keys()"
   ]
  },
  {
   "cell_type": "code",
   "execution_count": 60,
   "metadata": {},
   "outputs": [
    {
     "name": "stdout",
     "output_type": "stream",
     "text": [
      "<HDF5 dataset \"a1_ 410s\": shape (2048,), type \"<f4\">\n",
      "ApplicationBounds [   0    0 1437 2152]\n",
      "DM-chosen_image 1\n",
      "DM-file_size 321545\n",
      "DM-file_version 3\n",
      "DM-full_file_name C:/Users/gduscher/OneDrive - University of Tennessee/2020 Experiment/Elijah-EELS/a1_ 410s.dm3\n",
      "DocumentObjectList-0-AnnotationType 20\n",
      "DocumentObjectList-0-BackgroundColor [-1 -1 -1]\n",
      "DocumentObjectList-0-BackgroundMode 2\n",
      "DocumentObjectList-0-FillMode 2\n",
      "DocumentObjectList-0-ForegroundColor [-1  0  0]\n",
      "DocumentObjectList-0-HasBackground False\n",
      "DocumentObjectList-0-ImageDisplayInfo-BackgroundOn True\n",
      "DocumentObjectList-0-ImageDisplayInfo-CalibrationSliceId-0 0\n",
      "DocumentObjectList-0-ImageDisplayInfo-CaptionOn True\n",
      "DocumentObjectList-0-ImageDisplayInfo-CaptionSize 12\n",
      "DocumentObjectList-0-ImageDisplayInfo-CursorOn False\n",
      "DocumentObjectList-0-ImageDisplayInfo-CursorPosition 0.0\n",
      "DocumentObjectList-0-ImageDisplayInfo-DimensionLabels-0 \n",
      "DocumentObjectList-0-ImageDisplayInfo-FrameOn True\n",
      "DocumentObjectList-0-ImageDisplayInfo-GridOn True\n",
      "DocumentObjectList-0-ImageDisplayInfo-GroupId 0\n",
      "DocumentObjectList-0-ImageDisplayInfo-GroupList-0-DoAutoSurveyHigh True\n",
      "DocumentObjectList-0-ImageDisplayInfo-GroupList-0-DoAutoSurveyLow False\n",
      "DocumentObjectList-0-ImageDisplayInfo-GroupList-0-GroupToDisplay-Offset [-0.00000000e+00  3.33333304e-07]\n",
      "DocumentObjectList-0-ImageDisplayInfo-GroupList-0-GroupToDisplay-Scale [4.88281250e-04 3.33333304e-07]\n",
      "DocumentObjectList-0-ImageDisplayInfo-GroupList-0-TrackStyleX 0\n",
      "DocumentObjectList-0-ImageDisplayInfo-GroupList-0-TrackStyleY 0\n",
      "DocumentObjectList-0-ImageDisplayInfo-LegendOn False\n",
      "DocumentObjectList-0-ImageDisplayInfo-MainSliceId-0 0\n",
      "DocumentObjectList-0-ImageDisplayInfo-NumHorizontalTicks True\n",
      "DocumentObjectList-0-ImageDisplayInfo-NumVerticalTicks True\n",
      "DocumentObjectList-0-ImageDisplayInfo-SliceList-0-BaseIntensity 0.0\n",
      "DocumentObjectList-0-ImageDisplayInfo-SliceList-0-ComplexMode 4\n",
      "DocumentObjectList-0-ImageDisplayInfo-SliceList-0-DrawFill True\n",
      "DocumentObjectList-0-ImageDisplayInfo-SliceList-0-DrawLine False\n",
      "DocumentObjectList-0-ImageDisplayInfo-SliceList-0-FillColor [ 23644 -16449 -16449]\n",
      "DocumentObjectList-0-ImageDisplayInfo-SliceList-0-Horz Pos Fixed True\n",
      "DocumentObjectList-0-ImageDisplayInfo-SliceList-0-Horz Scale Fixed True\n",
      "DocumentObjectList-0-ImageDisplayInfo-SliceList-0-ImageToGroup-Offset [0. 0.]\n",
      "DocumentObjectList-0-ImageDisplayInfo-SliceList-0-ImageToGroup-Scale [1. 1.]\n",
      "DocumentObjectList-0-ImageDisplayInfo-SliceList-0-IsVisible True\n",
      "DocumentObjectList-0-ImageDisplayInfo-SliceList-0-LineColor [     0 -32640 -16449]\n",
      "DocumentObjectList-0-ImageDisplayInfo-SliceList-0-LineThickness 1\n",
      "DocumentObjectList-0-ImageDisplayInfo-SliceList-0-SliceGroup 0\n",
      "DocumentObjectList-0-ImageDisplayInfo-SliceList-0-SliceId-0 0\n",
      "DocumentObjectList-0-ImageDisplayInfo-SliceList-0-Vert Pos Fixed True\n",
      "DocumentObjectList-0-ImageDisplayInfo-SliceList-0-Vert Scale Fixed True\n",
      "DocumentObjectList-0-ImageDisplayType 3\n",
      "DocumentObjectList-0-ImageSource 0\n",
      "DocumentObjectList-0-IsMoveable True\n",
      "DocumentObjectList-0-IsResizable True\n",
      "DocumentObjectList-0-IsSelectable True\n",
      "DocumentObjectList-0-IsTranslatable True\n",
      "DocumentObjectList-0-IsVisible True\n",
      "DocumentObjectList-0-Rectangle [  0.   0. 342. 669.]\n",
      "DocumentObjectList-0-UniqueID 8\n",
      "HasWindowPosition True\n",
      "Image Behavior-DoIntegralZoom False\n",
      "Image Behavior-ImageDisplayBounds [  0.   0. 342. 669.]\n",
      "Image Behavior-IsZoomedToWindow True\n",
      "Image Behavior-UnscaledTransform-Offset [0. 0.]\n",
      "Image Behavior-UnscaledTransform-Scale [1. 1.]\n",
      "Image Behavior-ViewDisplayID 8\n",
      "Image Behavior-WindowRect [  0.   0. 342. 669.]\n",
      "Image Behavior-ZoomAndMoveTransform-Offset [0. 0.]\n",
      "Image Behavior-ZoomAndMoveTransform-Scale [1. 1.]\n",
      "ImageList-0-ImageData-Calibrations-Brightness-Origin 0.0\n",
      "ImageList-0-ImageData-Calibrations-Brightness-Scale 1.0\n",
      "ImageList-0-ImageData-Calibrations-Brightness-Units \n",
      "ImageList-0-ImageData-Calibrations-Dimension-0-Origin 0.0\n",
      "ImageList-0-ImageData-Calibrations-Dimension-0-Scale 1.0\n",
      "ImageList-0-ImageData-Calibrations-Dimension-0-Units \n",
      "ImageList-0-ImageData-Calibrations-Dimension-1-Origin 0.0\n",
      "ImageList-0-ImageData-Calibrations-Dimension-1-Scale 1.0\n",
      "ImageList-0-ImageData-Calibrations-Dimension-1-Units \n",
      "ImageList-0-ImageData-Calibrations-DisplayCalibratedUnits True\n",
      "ImageList-0-ImageData-DataType 23\n",
      "ImageList-0-ImageData-Dimensions-0 384\n",
      "ImageList-0-ImageData-Dimensions-1 196\n",
      "ImageList-0-ImageData-PixelDepth 4\n",
      "ImageList-0-Name Image Of a1_ 410s\n",
      "ImageList-0-UniqueID-0 902719785\n",
      "ImageList-0-UniqueID-1 892364239\n",
      "ImageList-0-UniqueID-2 1810513315\n",
      "ImageList-0-UniqueID-3 472734575\n",
      "ImageList-1-ImageData-Calibrations-Brightness-Origin 0.0\n",
      "ImageList-1-ImageData-Calibrations-Brightness-Scale 1.0\n",
      "ImageList-1-ImageData-Calibrations-Brightness-Units Counts\n",
      "ImageList-1-ImageData-Calibrations-Dimension-0-Origin 24.47998809814453\n",
      "ImageList-1-ImageData-Calibrations-Dimension-0-Scale 0.3301584720611572\n",
      "ImageList-1-ImageData-Calibrations-Dimension-0-Units eV\n",
      "ImageList-1-ImageData-Calibrations-DisplayCalibratedUnits True\n",
      "ImageList-1-ImageData-Data read\n",
      "ImageList-1-ImageData-DataType 2\n",
      "ImageList-1-ImageData-Dimensions-0 2048\n",
      "ImageList-1-ImageData-PixelDepth 4\n",
      "ImageList-1-ImageTags-Acquisition-Device-Active Size (pixels) [2048 2048]\n",
      "ImageList-1-ImageTags-Acquisition-Device-CCD-Pixel Size (um) [14. 14.]\n",
      "ImageList-1-ImageTags-Acquisition-Device-Camera Number 0\n",
      "ImageList-1-ImageTags-Acquisition-Device-Configuration-Transpose-Diagonal Flip False\n",
      "ImageList-1-ImageTags-Acquisition-Device-Configuration-Transpose-Horizontal Flip True\n",
      "ImageList-1-ImageTags-Acquisition-Device-Configuration-Transpose-Vertical Flip False\n",
      "ImageList-1-ImageTags-Acquisition-Device-Name US1000XP 1\n",
      "ImageList-1-ImageTags-Acquisition-Device-Source US1000XP 1\n",
      "ImageList-1-ImageTags-Acquisition-Frame-Area-Transform-Class Name cm_acquisitiontransform_list\n",
      "ImageList-1-ImageTags-Acquisition-Frame-Area-Transform-Transform List-0-Binning [1 1]\n",
      "ImageList-1-ImageTags-Acquisition-Frame-Area-Transform-Transform List-0-Class Name cm_acquisitiontransform\n",
      "ImageList-1-ImageTags-Acquisition-Frame-Area-Transform-Transform List-0-Sub Area Adjust [0 0 0 0]\n",
      "ImageList-1-ImageTags-Acquisition-Frame-Area-Transform-Transform List-0-Transpose-Diagonal Flip False\n",
      "ImageList-1-ImageTags-Acquisition-Frame-Area-Transform-Transform List-0-Transpose-Horizontal Flip True\n",
      "ImageList-1-ImageTags-Acquisition-Frame-Area-Transform-Transform List-0-Transpose-Vertical Flip False\n",
      "ImageList-1-ImageTags-Acquisition-Frame-CCD-Pixel Size (um) [14. 14.]\n",
      "ImageList-1-ImageTags-Acquisition-Frame-Intensity-Transform-Class Name cm_valuetransform_list\n",
      "ImageList-1-ImageTags-Acquisition-Frame-Intensity-Transform-Transform List-0-Class Name cm_valuetransform_affine\n",
      "ImageList-1-ImageTags-Acquisition-Frame-Intensity-Transform-Transform List-0-Offset 250.0\n",
      "ImageList-1-ImageTags-Acquisition-Frame-Intensity-Transform-Transform List-0-Scale 1.0\n",
      "ImageList-1-ImageTags-Acquisition-Frame-Intensity-Transform-Transform List-1-ADC Max 65535.0\n",
      "ImageList-1-ImageTags-Acquisition-Frame-Intensity-Transform-Transform List-1-ADC Min 0.0\n",
      "ImageList-1-ImageTags-Acquisition-Frame-Intensity-Transform-Transform List-1-Class Name cm_valuetransform_adc\n",
      "ImageList-1-ImageTags-Acquisition-Parameters-Acquisition Write Flags 4294967295\n",
      "ImageList-1-ImageTags-Acquisition-Parameters-Base Detector-Class Name cm_namedcameradetectorparameterset\n",
      "ImageList-1-ImageTags-Acquisition-Parameters-Base Detector-Name default\n",
      "ImageList-1-ImageTags-Acquisition-Parameters-Detector-continuous True\n",
      "ImageList-1-ImageTags-Acquisition-Parameters-Detector-exposure (s) 0.05\n",
      "ImageList-1-ImageTags-Acquisition-Parameters-Detector-hbin 1\n",
      "ImageList-1-ImageTags-Acquisition-Parameters-Detector-height 2048\n",
      "ImageList-1-ImageTags-Acquisition-Parameters-Detector-left 0\n",
      "ImageList-1-ImageTags-Acquisition-Parameters-Detector-top 0\n",
      "ImageList-1-ImageTags-Acquisition-Parameters-Detector-vbin 1\n",
      "ImageList-1-ImageTags-Acquisition-Parameters-Detector-width 2048\n",
      "ImageList-1-ImageTags-Acquisition-Parameters-Environment-Mode Name Spectroscopy\n",
      "ImageList-1-ImageTags-Acquisition-Parameters-High Level-Acquisition Buffer Size 0\n",
      "ImageList-1-ImageTags-Acquisition-Parameters-High Level-Antiblooming False\n",
      "ImageList-1-ImageTags-Acquisition-Parameters-High Level-Binning [1 1]\n",
      "ImageList-1-ImageTags-Acquisition-Parameters-High Level-CCD Read Area [   0    0 2048 2048]\n",
      "ImageList-1-ImageTags-Acquisition-Parameters-High Level-CCD Read Ports 1\n",
      "ImageList-1-ImageTags-Acquisition-Parameters-High Level-Choose Number Of Frame Shutters Automatically True\n",
      "ImageList-1-ImageTags-Acquisition-Parameters-High Level-Class Name cm_camera_highlevelparameters\n",
      "ImageList-1-ImageTags-Acquisition-Parameters-High Level-Continuous Readout True\n",
      "ImageList-1-ImageTags-Acquisition-Parameters-High Level-Corrections 817\n",
      "ImageList-1-ImageTags-Acquisition-Parameters-High Level-Corrections Mask 817\n",
      "ImageList-1-ImageTags-Acquisition-Parameters-High Level-Exposure (s) 0.05\n",
      "ImageList-1-ImageTags-Acquisition-Parameters-High Level-Number Of Frame Shutters 1\n",
      "ImageList-1-ImageTags-Acquisition-Parameters-High Level-Processing Gain Normalized\n",
      "ImageList-1-ImageTags-Acquisition-Parameters-High Level-Quality Level 1\n",
      "ImageList-1-ImageTags-Acquisition-Parameters-High Level-Read Frame Style 0\n",
      "ImageList-1-ImageTags-Acquisition-Parameters-High Level-Read Mode 0\n",
      "ImageList-1-ImageTags-Acquisition-Parameters-High Level-Secondary Shutter Post Exposure Compensation (s) 0.0\n",
      "ImageList-1-ImageTags-Acquisition-Parameters-High Level-Secondary Shutter Pre Exposure Compensation (s) 0.0\n",
      "ImageList-1-ImageTags-Acquisition-Parameters-High Level-Shutter Post Exposure Compensation (s) 0.0\n",
      "ImageList-1-ImageTags-Acquisition-Parameters-High Level-Shutter Pre Exposure Compensation (s) 0.0\n",
      "ImageList-1-ImageTags-Acquisition-Parameters-High Level-Shutter-Primary Shutter States 0\n",
      "ImageList-1-ImageTags-Acquisition-Parameters-High Level-Shutter-Primary Shutter States Mask 0\n",
      "ImageList-1-ImageTags-Acquisition-Parameters-High Level-Shutter-Secondary Shutter States 0\n",
      "ImageList-1-ImageTags-Acquisition-Parameters-High Level-Shutter-Secondary Shutter States Mask 0\n",
      "ImageList-1-ImageTags-Acquisition-Parameters-High Level-Shutter-Shutter Exposure False\n",
      "ImageList-1-ImageTags-Acquisition-Parameters-High Level-Shutter-Shutter Index 0\n",
      "ImageList-1-ImageTags-Acquisition-Parameters-High Level-Transform-Diagonal Flip False\n",
      "ImageList-1-ImageTags-Acquisition-Parameters-High Level-Transform-Horizontal Flip False\n",
      "ImageList-1-ImageTags-Acquisition-Parameters-High Level-Transform-Vertical Flip False\n",
      "ImageList-1-ImageTags-Acquisition-Parameters-Objects-0-Class Name cm_imgproc_finalcombine\n",
      "ImageList-1-ImageTags-Acquisition-Parameters-Objects-0-Frame Combine Style Copy\n",
      "ImageList-1-ImageTags-Acquisition-Parameters-Objects-0-Parameter 1 1.0\n",
      "ImageList-1-ImageTags-Acquisition-Parameters-Parameter Set Name Acquire\n",
      "ImageList-1-ImageTags-Acquisition-Parameters-Parameter Set Tag Path Spectroscopy:Acquire:Acquire\n",
      "ImageList-1-ImageTags-Acquisition-Parameters-Version 33947648\n",
      "ImageList-1-ImageTags-EELS-Acquisition-Continuous mode 0\n",
      "ImageList-1-ImageTags-EELS-Acquisition-Date 12/15/2020\n",
      "ImageList-1-ImageTags-EELS-Acquisition-End time 9:39:19 AM\n",
      "ImageList-1-ImageTags-EELS-Acquisition-Exposure (s) 0.05\n",
      "ImageList-1-ImageTags-EELS-Acquisition-Integration time (s) 0.5\n",
      "ImageList-1-ImageTags-EELS-Acquisition-Number of frames 10\n",
      "ImageList-1-ImageTags-EELS-Acquisition-Saturation fraction 0.10319941490888596\n",
      "ImageList-1-ImageTags-EELS-Acquisition-Start time 9:39:05 AM\n",
      "ImageList-1-ImageTags-EELS-Experimental Conditions-Collection semi_angle (mrad) 100.0\n",
      "ImageList-1-ImageTags-EELS-Experimental Conditions-Convergence semi_angle (mrad) 0.0\n",
      "ImageList-1-ImageTags-Meta Data-Acquisition Mode Parallel dispersive\n",
      "ImageList-1-ImageTags-Meta Data-Format Spectrum\n",
      "ImageList-1-ImageTags-Meta Data-Signal EELS\n",
      "ImageList-1-ImageTags-Microscope Info-Cs(mm) 2.2\n",
      "ImageList-1-ImageTags-Microscope Info-Emission Current (µA) 230.0\n",
      "ImageList-1-ImageTags-Microscope Info-Formatted Indicated Mag 174.6kx\n",
      "ImageList-1-ImageTags-Microscope Info-Formatted Voltage 200.0kV\n",
      "ImageList-1-ImageTags-Microscope Info-Illumination Mode STEM\n",
      "ImageList-1-ImageTags-Microscope Info-Imaging Mode Diffraction Mag\n",
      "ImageList-1-ImageTags-Microscope Info-Indicated Magnification 174575.53125\n",
      "ImageList-1-ImageTags-Microscope Info-Items-0-Data Type 20\n",
      "ImageList-1-ImageTags-Microscope Info-Items-0-Label Specimen\n",
      "ImageList-1-ImageTags-Microscope Info-Items-0-Tag path Microscope Info:Specimen\n",
      "ImageList-1-ImageTags-Microscope Info-Items-0-Value zr3Al\n",
      "ImageList-1-ImageTags-Microscope Info-Items-1-Data Type 20\n",
      "ImageList-1-ImageTags-Microscope Info-Items-1-Label Operator\n",
      "ImageList-1-ImageTags-Microscope Info-Items-1-Tag path Microscope Info:Operator\n",
      "ImageList-1-ImageTags-Microscope Info-Items-1-Value Shradha\n",
      "ImageList-1-ImageTags-Microscope Info-Items-2-Data Type 20\n",
      "ImageList-1-ImageTags-Microscope Info-Items-2-Label Microscope\n",
      "ImageList-1-ImageTags-Microscope Info-Items-2-Tag path Microscope Info:Microscope\n",
      "ImageList-1-ImageTags-Microscope Info-Items-2-Value \n",
      "ImageList-1-ImageTags-Microscope Info-Microscope \n",
      "ImageList-1-ImageTags-Microscope Info-Name Libra COM\n",
      "ImageList-1-ImageTags-Microscope Info-Operation Mode SCANNING\n",
      "ImageList-1-ImageTags-Microscope Info-Operator Shradha\n",
      "ImageList-1-ImageTags-Microscope Info-Probe Current (nA) 0.0\n",
      "ImageList-1-ImageTags-Microscope Info-Probe Size (nm) 0.0\n",
      "ImageList-1-ImageTags-Microscope Info-STEM Camera Length 1200.0000476837158\n",
      "ImageList-1-ImageTags-Microscope Info-Specimen zr3Al\n",
      "ImageList-1-ImageTags-Microscope Info-Voltage 199990.28125\n",
      "ImageList-1-Name a1_ 410s\n",
      "ImageList-1-UniqueID-0 796947596\n",
      "ImageList-1-UniqueID-1 1167940558\n",
      "ImageList-1-UniqueID-2 1781482430\n",
      "ImageList-1-UniqueID-3 175768880\n",
      "ImageSourceList-0-ClassName ImageSource:Simple\n",
      "ImageSourceList-0-Extra Slice Info-0-Id-0 0\n",
      "ImageSourceList-0-Extra Slice Info-0-Label Spectrum\n",
      "ImageSourceList-0-Id-0 0\n",
      "ImageSourceList-0-ImageRef 1\n",
      "InImageMode True\n",
      "MinVersionList-0-RequiredVersion 50659328\n",
      "NextDocumentObjectID 9\n",
      "Page Behavior-DoIntegralZoom False\n",
      "Page Behavior-DrawMargins True\n",
      "Page Behavior-DrawPaper True\n",
      "Page Behavior-IsFixedInPageMode False\n",
      "Page Behavior-IsZoomedToWindow True\n",
      "Page Behavior-LayedOut False\n",
      "Page Behavior-PageTransform-Offset [0. 0.]\n",
      "Page Behavior-PageTransform-Scale [1. 1.]\n",
      "Page Behavior-RestoreImageDisplayBounds [  0.    0.  347.  686.5]\n",
      "Page Behavior-RestoreImageDisplayID 8\n",
      "Page Behavior-TargetDisplayID 4294967295\n",
      "PageSetup-General [    1  1000  8500 11000  1000  1000 -1000 -1000]\n",
      "Thumbnails-0-ImageIndex 0\n",
      "Thumbnails-0-SourceSize_Pixels [669 342]\n",
      "WindowPosition [ 467 1029  809 1698]\n",
      "<HDF5 dataset \"a1_ 410s\": shape (2048,), type \"<f4\">\n"
     ]
    }
   ],
   "source": [
    "for key,value in current_dataset.h5_dataset.parent['original_metadata'].attrs.items():\n",
    "    print(key, value)\n",
    "print(current_dataset.h5_dataset)    "
   ]
  },
  {
   "cell_type": "code",
   "execution_count": null,
   "metadata": {},
   "outputs": [],
   "source": [
    "print(current_channel.keys())"
   ]
  },
  {
   "cell_type": "markdown",
   "metadata": {},
   "source": [
    "## Adding Data\n",
    "\n",
    "To add another dataset that belongs to this measurement we will use the **h5_add_channel** from  **filetools** in the  pyTEMlib package.\n",
    "\n",
    "Here is how we add a channel there.\n",
    "\n",
    "We can also add a new measurement group (add_measurement in pyTEMlib) for similar datasets.\n",
    "\n",
    "This is equivalent to making a new directory in a file structure on your computer."
   ]
  },
  {
   "cell_type": "code",
   "execution_count": null,
   "metadata": {},
   "outputs": [],
   "source": [
    "import pyNSID\n",
    "\n",
    "def h5_add_channel(current_channel):\n",
    "    measurement_group = h5_file[current_channel.name.split('/')[1]]\n",
    "    name = pyNSID.io.hdf_utils.assign_group_index(measurement_group,'Channel')\n",
    "    \n",
    "    additional_channel = measurement_group.create_group(name)\n",
    "\n",
    "def h5_add_measurement(h5_file):\n",
    "    new_measurement_group = pyNSID.io.hdf_utils.create_indexed_group(h5_file,'Measurement')\n",
    "ft.h5_add_measurement(h5_file)    \n",
    "ft.h5_tree(h5_file)  #wraps sidpy.hdf_utils.print_tree(h5_file)"
   ]
  },
  {
   "cell_type": "markdown",
   "metadata": {},
   "source": [
    "We use above functions to add the content of a (random) data-file to the current file.\n",
    "\n",
    "This is important if you for example want to add a Z-contrast or survey-image to an spectrum image.\n",
    "\n",
    "Therefore, these functions enable you to collect the data from different files that belong together.\n"
   ]
  },
  {
   "cell_type": "code",
   "execution_count": null,
   "metadata": {},
   "outputs": [],
   "source": [
    "new_channel = ft.h5_add_data(current_channel)\n",
    "\n",
    "ft.h5_tree(h5_file)  #wraps usid.hdf_utils.print_tree(h5_file)"
   ]
  },
  {
   "cell_type": "markdown",
   "metadata": {},
   "source": [
    "## Adding additional information\n",
    "\n",
    "Similarly we can add a whole new measurement group or a structure group.\n",
    "\n",
    "This function will be contained in the KinsCat package of pyTEMlib.\n",
    "\n",
    "If you loaded the example image, with graphite and ZnO both are viewed in the [1,1,1] zone axis.\n"
   ]
  },
  {
   "cell_type": "code",
   "execution_count": null,
   "metadata": {},
   "outputs": [],
   "source": [
    "import pyTEMlib.KinsCat as ks         # Kinematic sCattering Library\n",
    "                             # with Atomic form factors from Kirklands book\n",
    "\n",
    "def h5_add_crystal_structure(h5_file, crystal_tags):\n",
    "    structure_group = pyNSID.io.hdf_utils.create_indexed_group(h5_file,'Structure')\n",
    "    \n",
    "    structure_group['unit_cell'] = crystal_tags['unit_cell' \\\n",
    "                                                '' \\\n",
    "                                                '' \\\n",
    "                                                '']\n",
    "    structure_group['relative_positions'] = crystal_tags['base']\n",
    "    structure_group['title'] = str(crystal_tags['crystal_name'])\n",
    "    structure_group['_'+crystal_tags['crystal_name']] = str(crystal_tags['crystal_name'])\n",
    "    structure_group['elements'] = np.array(crystal_tags['elements'],dtype='S')\n",
    "    if 'zone_axis' in structure_group:\n",
    "        structure_group['zone_axis'] = np.array(crystal_tags['zone_axis'], dtype=float)\n",
    "    else:\n",
    "        structure_group['zone_axis'] = np.array([1.,1.,1.], dtype=float)\n",
    "        \n",
    "    h5_file.flush()\n",
    "    return structure_group\n",
    "\n",
    "                                                                                 \n",
    "crystal_tags = ks.structure_by_name('Graphite')\n",
    "h5_add_crystal_structure(h5_file, crystal_tags)\n",
    "                                                                                \n",
    "crystal_tags = ks.structure_by_name('ZnO')\n",
    "ft.h5_add_crystal_structure(h5_file, crystal_tags)\n",
    "\n",
    "sidpy.hdf_utils.print_tree(h5_file)\n"
   ]
  },
  {
   "cell_type": "markdown",
   "metadata": {},
   "source": [
    "## Keeping Track of Analysis and Results\n",
    "A notebook is notorious for getting confusing, especially if one uses different notebooks for different task, but store them in the same file.\n",
    "\n",
    "If you like a result of your calculation, log it.\n",
    "|\n",
    "The function will write your calculation to the pyUSID style file and attaches a time stamp.\n",
    "\n",
    "The two functions below are part of  file_tools of pyTEMlib."
   ]
  },
  {
   "cell_type": "code",
   "execution_count": null,
   "metadata": {},
   "outputs": [],
   "source": [
    "info_dictionary = {'analysis': 'Nothing', 'name': 'Nothing'}\n",
    "\n",
    "log_group = ft.log_results(current_dataset, info_dictionary)\n",
    "\n",
    "usid.hdf_utils.print_tree(h5_file)\n"
   ]
  },
  {
   "cell_type": "markdown",
   "metadata": {},
   "source": [
    "## An example for a log\n",
    "We log the Fourier Transform of the image we loaded\n",
    "\n",
    "First we perform the calculation"
   ]
  },
  {
   "cell_type": "code",
   "execution_count": null,
   "metadata": {},
   "outputs": [],
   "source": [
    "## Access the data of the loaded image\n",
    "data = current_dataset\n",
    "\n",
    "## The data log goes in the dictionary out_tags\n",
    "out_tags = {}\n",
    "## data tag contains the newly calculated result\n",
    "out_tags['data'] = np.fft.fftshift(np.fft.fft2(data))\n",
    "\n",
    "## meta data (can be anything, but good practice is to be compatible with pyUSID data set)\n",
    "out_tags['analysis']= 'Fourier_Transform'\n",
    "\n",
    "out_tags['spatial_origin_x'] = data.shape[0]/2\n",
    "out_tags['spatial_origin_y'] = data.shape[1]/2\n",
    "\n",
    "for dim in current_dataset.dims:\n",
    "    if dim.label == 'x': scale_x = dim[0][1]-dim[0][0]\n",
    "    if dim.label == 'y': scale_y = dim[0][1]-dim[0][0]     \n",
    "        \n",
    "out_tags['spatial_scale_x'] = 1.0/scale_x/data.shape[0]\n",
    "out_tags['spatial_scale_y'] = 1.0/scale_y/data.shape[1]\n",
    "out_tags['spatial_size_x'] = data.shape[0]\n",
    "out_tags['spatial_size_y'] = data.shape[1]\n",
    "out_tags['spatial_units'] = '1/nm'\n",
    "\n",
    "\n",
    "FOV_x = out_tags['spatial_origin_x']* scale_x\n",
    "FOV_y = out_tags['spatial_origin_y']* scale_y\n",
    "out_tags['image_extent'] = [-FOV_x,FOV_x,FOV_y, -FOV_y]\n",
    "fig = plt.figure()\n",
    "plt.imshow(np.log2(1+np.abs(out_tags['data'])),origin='upper', extent = out_tags['image_extent'])\n",
    "plt.xlabel('reciprocal distance ['+ out_tags['spatial_units']+']');\n"
   ]
  },
  {
   "cell_type": "markdown",
   "metadata": {},
   "source": [
    "Now that we like this we log it.\n",
    "\n",
    "Please note that just saving the fourier transform would not be good as we also need the scale and such."
   ]
  },
  {
   "cell_type": "code",
   "execution_count": null,
   "metadata": {
    "scrolled": false
   },
   "outputs": [],
   "source": [
    "import importlib\n",
    "importlib.reload(ft)\n",
    "\n",
    "\n",
    "out_tags['name'] = 'fft'\n",
    "out_tags['units'] = '1/nm'\n",
    "out_tags['data_type'] = 'image'\n",
    "\n",
    "log_group = ft.log_results(current_dataset, out_tags)\n",
    "log_dataset = log_group['nDim_Data']\n",
    "ft.h5_tree(h5_file)\n",
    "fig = plt.figure()\n",
    "plt.title(log_group['analysis'][()])\n",
    "plt.imshow(np.log2(1+np.abs(log_dataset)),origin='upper', extent = log_group['image_extent'][()])\n",
    "plt.xlabel('reciprocal distance ['+ log_group['units'][()]+']');\n"
   ]
  },
  {
   "cell_type": "markdown",
   "metadata": {},
   "source": [
    "Please close the file"
   ]
  },
  {
   "cell_type": "code",
   "execution_count": null,
   "metadata": {
    "hideCode": false,
    "hidePrompt": false
   },
   "outputs": [],
   "source": [
    "print(h5_file.filename)\n",
    "h5_file.close()\n"
   ]
  },
  {
   "cell_type": "markdown",
   "metadata": {},
   "source": [
    "## Open h5_file\n",
    "Open the h5_file that we just created"
   ]
  },
  {
   "cell_type": "code",
   "execution_count": null,
   "metadata": {
    "hideCode": false,
    "hidePrompt": false
   },
   "outputs": [],
   "source": [
    "h5_file = ft.h5_open_file()\n",
    "\n",
    "current_channel = h5_file['Measurement_000/Channel_000']\n",
    "current_dataset = current_channel['nDim_Data']\n",
    "\n",
    "ft.h5_plot(current_dataset)"
   ]
  },
  {
   "cell_type": "code",
   "execution_count": null,
   "metadata": {},
   "outputs": [],
   "source": [
    "plt.figure()\n",
    "plt.imshow(np.array(current_dataset));"
   ]
  },
  {
   "cell_type": "markdown",
   "metadata": {
    "hideCode": false,
    "hidePrompt": false
   },
   "source": [
    "### Short check if we got the data right\n",
    "we print the tree and we plot the data"
   ]
  },
  {
   "cell_type": "code",
   "execution_count": null,
   "metadata": {
    "hideCode": false,
    "hidePrompt": false,
    "scrolled": false
   },
   "outputs": [],
   "source": [
    "# See if a tree has been created within the hdf5 file:\n",
    "ft.h5_tree(h5_file)\n",
    "image_tags = dict(h5_file['Measurement_000/Channel_000'].attrs)\n",
    "for key in image_tags:\n",
    "    if 'original' not in key:\n",
    "        #print(key,': ',image_tags[key])\n",
    "        pass\n",
    "current_channel = h5_file['Measurement_000/Channel_000']\n",
    "\n"
   ]
  },
  {
   "cell_type": "markdown",
   "metadata": {
    "hideCode": false,
    "hidePrompt": false
   },
   "source": [
    "### Add more data to this set\n",
    "\n",
    "Often more than one data set belong together.\n",
    "For instance a spectrum image has a survey image and a Z-contrast image recorded with the survey image.\n",
    "\n",
    "Here we jsut load another image for example *p1-3-hr3b.dm3*"
   ]
  },
  {
   "cell_type": "code",
   "execution_count": null,
   "metadata": {
    "hideCode": false,
    "hidePrompt": false,
    "scrolled": true
   },
   "outputs": [],
   "source": [
    "current_channel = ft.h5_add_data(current_channel)\n",
    "    \n",
    "measurement_group = current_channel.parent\n",
    "    \n",
    "for key in list(measurement_group.keys()):\n",
    "    if 'title' in measurement_group[key].keys(): \n",
    "        print(key,': ',measurement_group[key]['title'][()])\n",
    "    else:\n",
    "        print(key,': ')   "
   ]
  },
  {
   "cell_type": "markdown",
   "metadata": {
    "hideCode": false,
    "hidePrompt": false
   },
   "source": [
    "Let's see what you selected\n"
   ]
  },
  {
   "cell_type": "code",
   "execution_count": null,
   "metadata": {
    "hideCode": false,
    "hidePrompt": false,
    "scrolled": false
   },
   "outputs": [],
   "source": [
    "current_dataset = current_channel['nDim_Data']\n",
    "\n",
    "ft.h5_plot(current_dataset)"
   ]
  },
  {
   "cell_type": "markdown",
   "metadata": {
    "hideCode": false,
    "hidePrompt": false
   },
   "source": [
    "## If we are done, we close the pyUID style file.\n",
    "\n",
    "This is necessary to make the file ready to be opened by another notebook or program."
   ]
  },
  {
   "cell_type": "code",
   "execution_count": null,
   "metadata": {
    "hideCode": false,
    "hidePrompt": false
   },
   "outputs": [],
   "source": [
    "h5_file.close("
   ]
  },
  {
   "cell_type": "markdown",
   "metadata": {},
   "source": [
    "## Navigation\n",
    "\n",
    "<font size = \"4\"> \n",
    "    \n",
    "**Back: [Matplotlib and Numpy for Micrographs](CH1_03-Data_Representation.ipynb)**<br>\n",
    "**Next: [Diffraction](CH2_00-Diffraction.ipynb)**<br>\n",
    "**Up Chapter 1: [Introduction](CH1_00-Introduction.ipynb)**<br>\n",
    "**List of Content: [Front](_MSE672_Intro_TEM.ipynb)**\n",
    "</font>"
   ]
  },
  {
   "cell_type": "code",
   "execution_count": null,
   "metadata": {},
   "outputs": [],
   "source": []
  }
 ],
 "metadata": {
  "hide_code_all_hidden": false,
  "kernelspec": {
   "display_name": "Python 3",
   "language": "python",
   "name": "python3"
  },
  "language_info": {
   "codemirror_mode": {
    "name": "ipython",
    "version": 3
   },
   "file_extension": ".py",
   "mimetype": "text/x-python",
   "name": "python",
   "nbconvert_exporter": "python",
   "pygments_lexer": "ipython3",
   "version": "3.8.6"
  },
  "toc": {
   "base_numbering": "5",
   "nav_menu": {},
   "number_sections": true,
   "sideBar": true,
   "skip_h1_title": false,
   "title_cell": "Table of Contents",
   "title_sidebar": "Contents",
   "toc_cell": false,
   "toc_position": {},
   "toc_section_display": true,
   "toc_window_display": true
  },
  "varInspector": {
   "cols": {
    "lenName": 16,
    "lenType": 16,
    "lenVar": 40
   },
   "kernels_config": {
    "python": {
     "delete_cmd_postfix": "",
     "delete_cmd_prefix": "del ",
     "library": "var_list.py",
     "varRefreshCmd": "print(var_dic_list())"
    },
    "r": {
     "delete_cmd_postfix": ") ",
     "delete_cmd_prefix": "rm(",
     "library": "var_list.r",
     "varRefreshCmd": "cat(var_dic_list()) "
    }
   },
   "types_to_exclude": [
    "module",
    "function",
    "builtin_function_or_method",
    "instance",
    "_Feature"
   ],
   "window_display": true
  }
 },
 "nbformat": 4,
 "nbformat_minor": 2
}
