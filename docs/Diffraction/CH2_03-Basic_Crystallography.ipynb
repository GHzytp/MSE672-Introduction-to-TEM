{
 "cells": [
  {
   "cell_type": "markdown",
   "metadata": {},
   "source": [
    "\n",
    "<font size = \"5\"> **Chapter 2: [Diffraction](CH2_00-Diffraction.ipynb)** </font>\n",
    "\n",
    "\n",
    "<hr style=\"height:1px;border-top:4px solid #FF8200\" />\n",
    "\n",
    "\n",
    "\n",
    "# Basic Crystallography\n",
    "[Download](https://raw.githubusercontent.com/gduscher/MSE672-Introduction-to-TEM//main/Diffraction/CH2_03-Basic_Crystallography.ipynb)\n",
    " \n",
    "[![Open In Colab](https://colab.research.google.com/assets/colab-badge.svg)](\n",
    "    https://colab.research.google.com/github/gduscher/MSE672-Introduction-to-TEM/blob/main/Diffraction/CH2_03-Basic_Crystallography.ipynb)\n",
    "\n",
    "\n",
    "\n",
    "part of \n",
    "\n",
    "<font size = \"5\"> **[MSE672:  Introduction to Transmission Electron Microscopy](../_MSE672_Intro_TEM.ipynb)**</font>\n",
    "\n",
    "by Gerd Duscher, Spring 2021\n",
    "\n",
    "Microscopy Facilities<br>\n",
    "Joint Institute of Advanced Materials<br>\n",
    "Materials Science & Engineering<br>\n",
    "The University of Tennessee, Knoxville\n",
    "\n",
    "Background and methods to analysis and quantification of data acquired with transmission electron microscopes.\n",
    "\n"
   ]
  },
  {
   "cell_type": "markdown",
   "metadata": {
    "slideshow": {
     "slide_type": "slide"
    }
   },
   "source": [
    "## Load relevant python packages\n",
    "### Check Installed Packages"
   ]
  },
  {
   "cell_type": "code",
   "execution_count": null,
   "metadata": {},
   "outputs": [],
   "source": [
    "import sys\n",
    "from pkg_resources import get_distribution, DistributionNotFound\n",
    "\n",
    "def test_package(package_name):\n",
    "    \"\"\"Test if package exists and returns version or -1\"\"\"\n",
    "    try:\n",
    "        version = get_distribution(package_name).version\n",
    "    except (DistributionNotFound, ImportError) as err:\n",
    "        version = '-1'\n",
    "    return version\n",
    "\n",
    "# Colab setup ------------------\n",
    "if 'google.colab' in sys.modules:\n",
    "    !pip install pyTEMlib -q\n",
    "# pyTEMlib setup ------------------\n",
    "else:\n",
    "    if test_package('pyTEMlib') < '0.2021.1.9':\n",
    "        print('installing pyTEMlib')\n",
    "        !{sys.executable} -m pip install  --upgrade pyTEMlib -q\n",
    "# ------------------------------\n",
    "print('done')"
   ]
  },
  {
   "cell_type": "markdown",
   "metadata": {
    "slideshow": {
     "slide_type": "slide"
    }
   },
   "source": [
    "### Load the plotting and figure packages\n",
    "Import the python packages that we will use:\n",
    "\n",
    "Beside the basic numerical (numpy) and plotting (pylab of matplotlib) libraries,\n",
    "* three dimensional plotting\n",
    "and some libraries from the book\n",
    "* kinematic scattering library."
   ]
  },
  {
   "cell_type": "code",
   "execution_count": null,
   "metadata": {
    "scrolled": false,
    "slideshow": {
     "slide_type": "-"
    }
   },
   "outputs": [],
   "source": [
    "import sys\n",
    "if 'google.colab' in sys.modules:\n",
    "    %pylab --no-import-all inline\n",
    "else:\n",
    "    %pylab --no-import-all notebook\n",
    "    \n",
    "# 3D plotting package \n",
    "from mpl_toolkits.mplot3d import Axes3D # 3D plotting\n",
    "\n",
    "\n",
    "# Import libraries from the book\n",
    "import pyTEMlib\n",
    "import pyTEMlib.KinsCat as ks         # Kinematic sCattering Library\n",
    "                             # with Atomic form factors from Kirklands book\n",
    "# it is a good idea to show the version numbers at this point for archiving reasons.\n",
    "print('pyTEM version: ',pyTEMlib.__version__)"
   ]
  },
  {
   "attachments": {
    "unitcell_angles.jpg": {
     "image/jpeg": "[encoded data removed]"
    }
   },
   "cell_type": "markdown",
   "metadata": {
    "slideshow": {
     "slide_type": "slide"
    }
   },
   "source": [
    "\n",
    "## Define  Crystal\n",
    "\n",
    "A crystal is well defined by its unit cell and the atom positions within, the so called base.\n",
    "\n",
    "The unit cell fills the volume completely when translated in all three directions. Placing the unit cell in a global carthesian coordination system, we need the length of the sides and their angles for a complete description. This is depicted in the graph below.\n",
    "![unitcell_angles.jpg](attachment:unitcell_angles.jpg)\n",
    "\n",
    "Figure taken from the wikipedia page on lattice constants.\n",
    "\n",
    "Mathematically it is more advantageous to describe the unit cell as matrix, the\n",
    "### Structure Matrix\n",
    "\n",
    "This matrix consists of rows of vectors that span the unit cell:\n",
    "$\\begin{bmatrix}\n",
    "  a_1 & a_2 & a_3 \\\\\n",
    "  b_1 & b_2 & b_3 \\\\\n",
    "  c_1 & c_2 & c_3 \\\\\n",
    "\\end{bmatrix} =\\left[\\vec{a},\\vec{b},\\vec{c}\\right]$.\n",
    "\n",
    "This structure matrix is also used to describe the super cells in materials simulations for example density functional theory.\n",
    "\n",
    "The representation of unit cells as structure matrices allows also for easy conversions as we will see in the following.\n"
   ]
  },
  {
   "cell_type": "code",
   "execution_count": null,
   "metadata": {
    "scrolled": false,
    "slideshow": {
     "slide_type": "-"
    }
   },
   "outputs": [],
   "source": [
    "#Initialize the dictionary for all the input\n",
    "tags = {}\n",
    "\n",
    "# Create graphite unit cell (or structure matrix)\n",
    "a = b = 0.246 #nm\n",
    "c = 0.671\n",
    "gamma = 60\n",
    "alpha = beta = 90\n",
    "\n",
    "## Create the structure matrix for a hexagonal system explicitly:\n",
    "tags['unit_cell'] = np.array([[a,0.,0.],  ## also called the structure matrix\n",
    "                    [np.cos(np.radians(gamma))*a,np.sin(np.radians(gamma))*a,0. ],\n",
    "                     [0.,0.,c]\n",
    "                    ])\n",
    "print('structure matrix \\n',np.round(tags['unit_cell'],3))\n",
    "\n",
    "tags['elements'] = ['C']*4\n",
    "tags['base'] = [[0,0,0], [0,0,1/2], [1/3,1/3,0], [2/3,2/3, 1/2]]\n",
    "print('elements \\n',(tags['elements']))\n",
    "print('base \\n',np.round(tags['base'],3))\n",
    "\n"
   ]
  },
  {
   "cell_type": "code",
   "execution_count": null,
   "metadata": {
    "scrolled": false
   },
   "outputs": [],
   "source": [
    "#alternatively with the function \"structure_by_name\" of the KinsCat library\n",
    "\n",
    "tags = ks.structure_by_name('Graphite')\n",
    "print('structure matrix [nm]\\n',np.round(tags['unit_cell'],3))\n",
    "print('elements \\n',tags['elements'])\n",
    "print('base \\n',np.round(tags['base'],3))"
   ]
  },
  {
   "cell_type": "markdown",
   "metadata": {},
   "source": [
    "### Volume of Unit Cell\n",
    "We will need the volume of the unit cell  for unit conversions later.\n",
    "\n",
    "Volume of the parallelepiped (https://en.wikipedia.org/wiki/Triple_product) : \n",
    "$\\vec{a} \\cdot \\vec{b} \\times \\vec{c} =  \\det \\begin{bmatrix}\n",
    "  a_1 & a_2 & a_3 \\\\\n",
    "  b_1 & b_2 & b_3 \\\\\n",
    "  c_1 & c_2 & c_3 \\\\\n",
    "\\end{bmatrix} ={\\rm det}\\left(\\vec{a},\\vec{b},\\vec{c}\\right)$\n",
    "\n",
    "We see that the structure matrix comes in handy for that calculation."
   ]
  },
  {
   "cell_type": "code",
   "execution_count": null,
   "metadata": {},
   "outputs": [],
   "source": [
    "tags['volume'] = v = np.linalg.det(tags['unit_cell'])\n",
    "print(f\"volume of unit cell: {tags['volume']:.4f} nm\\u00b3\")"
   ]
  },
  {
   "cell_type": "markdown",
   "metadata": {},
   "source": [
    "### Vector Algebra in Unit Cell \n",
    "We will use the linear algebra package of numpy (np.linalg) for our vector calculations.\n",
    "\n",
    "The length of a vector is called its norm.\n",
    "\n",
    "And the angle between two vectors is calculated by the dot product: $\\vec{a} \\cdot \\vec{b} = \\left\\| \\vec{a} \\right\\| \\left\\| \\vec{b} \\right\\| \\cos (\\theta) $"
   ]
  },
  {
   "cell_type": "code",
   "execution_count": null,
   "metadata": {},
   "outputs": [],
   "source": [
    "length_b = np.linalg.norm(tags['unit_cell'][1])\n",
    "print(f'length of second unit cell vector is {length_b:.3f} nm' ) \n",
    "\n",
    "gamma = np.arccos(np.dot(tags['unit_cell'][0]/length_b, tags['unit_cell'][1]/length_b))\n",
    "print(f'angle between a and b is {np.degrees(gamma):.1f}\\u00ba')"
   ]
  },
  {
   "cell_type": "markdown",
   "metadata": {
    "slideshow": {
     "slide_type": "slide"
    }
   },
   "source": [
    "### Plot the unit cell"
   ]
  },
  {
   "cell_type": "code",
   "execution_count": null,
   "metadata": {
    "scrolled": false,
    "slideshow": {
     "slide_type": "-"
    }
   },
   "outputs": [],
   "source": [
    "fig = plt.figure();ax = fig.add_subplot(111, projection='3d')\n",
    "# draw unit_cell\n",
    "\n",
    "a = tags['unit_cell'][0]\n",
    "b = tags['unit_cell'][1]\n",
    "c = tags['unit_cell'][2]\n",
    "\n",
    "corners = [[0,0,0], a, a+b, b, c, c+a, c+a+b, c+b]\n",
    "trace = [[0,1],[1,2],[2,3],[3,0], [0,4], [4,5], [5,6], [6,7], [7,4], [1,5], [2,6], [3,7]]\n",
    "for s, e in trace:\n",
    "    ax.plot3D(*zip(corners[s], corners[e]), color=\"blue\")\n",
    "\n",
    "    \n",
    "# draw atoms\n",
    "baseA = list(np.dot(tags['base'], tags['unit_cell']) )  # convert to a list of carthesian coordinates\n",
    "\n",
    "#initialize lists and a dictionary\n",
    "base = []\n",
    "elements = []\n",
    "colors = ['red', 'blue', 'green']\n",
    "coloring = {}\n",
    "\n",
    "# Add atoms that are 'on the other side' of the unit cell\n",
    "j = 0\n",
    "for i, atom in enumerate(baseA):\n",
    "    base.append(atom)\n",
    "    \n",
    "    if tags['elements'][i] not in elements:\n",
    "        coloring[tags['elements'][i]] = colors[j]\n",
    "        j += 1\n",
    "    elements.append(tags['elements'][i])\n",
    "    for corner in corners:\n",
    "        if np.dot(atom,corner) < 1e-15:\n",
    "            base.append(atom+corner)\n",
    "            elements.append(tags['elements'][i])\n",
    "    \n",
    "print(coloring)\n",
    "base = np.array(base)\n",
    "for i, atom in enumerate(base):\n",
    "    ax.scatter(atom[0], atom[1], atom[2], c=coloring[elements[i]], alpha = 0.75, s=2000)\n",
    "\n",
    "## Matplotlib does not longer support  ax.set_aspect('equal') for 3D !!!\n",
    "maximum_position = base.max()*1.05\n",
    "ax.set_zlim( 0,maximum_position)\n",
    "ax.set_ylim( 0,maximum_position)\n",
    "ax.set_xlim( 0,maximum_position)"
   ]
  },
  {
   "cell_type": "code",
   "execution_count": null,
   "metadata": {},
   "outputs": [],
   "source": [
    "## alternatively we can use a function in KinsCat.\n",
    "tags['max_bond_length'] = 0.22\n",
    "ks.plot_unitcell(tags)"
   ]
  },
  {
   "cell_type": "markdown",
   "metadata": {},
   "source": [
    "### May be with a few more atoms\n",
    "\n"
   ]
  },
  {
   "cell_type": "code",
   "execution_count": null,
   "metadata": {
    "scrolled": false
   },
   "outputs": [],
   "source": [
    "corners,balls, Z, bonds = ks.ball_and_stick(tags,extend=[3,3,1], max_bond_length = 0.22)\n",
    "\n",
    "\n",
    "fig = plt.figure();ax = fig.add_subplot(111, projection='3d')\n",
    "maximum_position = balls.max()*1.05\n",
    "maximum_x = balls[:,0].max()\n",
    "maximum_y = balls[:,1].max()\n",
    "maximum_z = balls[:,2].max()\n",
    "\n",
    "balls = balls - [maximum_x/2,maximum_y/2,maximum_z/2]\n",
    "\n",
    "\n",
    "# draw unit_cell\n",
    "for x, y, z in corners:\n",
    "    ax.plot3D( x-maximum_x/2,y-maximum_y/2,z-maximum_z/2, color=\"blue\")\n",
    "\n",
    "# draw bonds\n",
    "for x, y, z in bonds:\n",
    "\n",
    "    ax.plot3D( x-maximum_x/2,y-maximum_y/2,z-maximum_z/2, color=\"black\", linewidth = 4)#, tube_radius=0.02)\n",
    "\n",
    "\n",
    "# draw atoms\n",
    "for i,atom in enumerate(balls):\n",
    "    ax.scatter(atom[0],atom[1],atom[2],\n",
    "              color=tuple(ks.jmol_colors [Z[i]]),\n",
    "              alpha = 1.0, s=50)\n",
    "maximum_position = balls.max()*1.05\n",
    "ax.set_proj_type('ortho')\n",
    "\n",
    "ax.set_zlim( -maximum_position/2,maximum_position/2)\n",
    "ax.set_ylim( -maximum_position/2,maximum_position/2)\n",
    "ax.set_xlim( -maximum_position/2,maximum_position/2)\n"
   ]
  },
  {
   "cell_type": "markdown",
   "metadata": {},
   "source": [
    "Or with the KinsCat library"
   ]
  },
  {
   "cell_type": "code",
   "execution_count": null,
   "metadata": {},
   "outputs": [],
   "source": [
    "tags['extend'] = [3,3,1]\n",
    "ks.plot_unitcell(tags)"
   ]
  },
  {
   "cell_type": "markdown",
   "metadata": {},
   "source": [
    "### Okay, the above plot is not very beautiful.\n",
    "\n",
    "If you use the **ase** or **mayavi** package, you can make nicer plots.\n",
    "\n",
    "Please see:\n",
    "[Plot Unit Cell with Other Packages](Plot_UnitCell.ipynb)\n"
   ]
  },
  {
   "cell_type": "markdown",
   "metadata": {},
   "source": [
    "## Reciprocal Lattice \n",
    "The unit cell in reciprocal space"
   ]
  },
  {
   "cell_type": "code",
   "execution_count": null,
   "metadata": {},
   "outputs": [],
   "source": [
    "reciprocal_lattice = np.linalg.inv(tags['unit_cell']).T # transposed of inverted unit_cell\n",
    "tags['reciprocal_lattice'] = reciprocal_lattice\n",
    "\n",
    "print('reciprocal lattice [1/nm]:')\n",
    "print(np.round(reciprocal_lattice,4))"
   ]
  },
  {
   "cell_type": "markdown",
   "metadata": {},
   "source": [
    "### Reciprocal Lattice Vectors\n",
    "From your crystallography book and lecture you are probably used to the following expression for the reciprocal lattice vectors ($\\vec{a}^*, \\vec{c}^*, \\vec{c}^*$)\n",
    "\n",
    "$ \\begin{align}\n",
    "  \\vec{a}^* &=  \\frac{\\vec{b} \\times \\vec{c}}{\\vec{a} \\cdot \\left(\\vec{b} \\times \\vec{c}\\right)} \\\\\n",
    "  \\vec{b}^* &=  \\frac{\\vec{c} \\times \\vec{a}}{\\vec{b} \\cdot \\left(\\vec{c} \\times \\vec{a}\\right)} \\\\\n",
    "  \\vec{c}^* &=  \\frac{\\vec{a} \\times \\vec{b}}{\\vec{c} \\cdot \\left(\\vec{a} \\times \\vec{b}\\right)}\n",
    "\\end{align}$\\\n",
    "\n",
    "Where we see that the denominators of the above vector equations are the volume of the unit cell.\n",
    "\n",
    "In physics book, you will see an additional factor of 2$\\pi$, which is generally omitted in materials science and microscopy."
   ]
  },
  {
   "cell_type": "code",
   "execution_count": null,
   "metadata": {},
   "outputs": [],
   "source": [
    "## Now let's test whether this is really equivalent to the matrix expression above.\n",
    "\n",
    "a_recip = np.cross(b,c)/np.dot(a,np.cross(b,c))\n",
    "print (np.round(a_recip,3))\n",
    "b_recip = np.cross(c,a)/np.dot(a,np.cross(b,c))\n",
    "print (np.round(b_recip,3))\n",
    "c_recip = np.cross(a,b)/np.dot(a,np.cross(b,c))\n",
    "print (np.round(c_recip,3))\n",
    "print('Compare to:')\n",
    "print(np.round(reciprocal_lattice,3))"
   ]
  },
  {
   "cell_type": "markdown",
   "metadata": {},
   "source": [
    "## Conclusion\n",
    "\n",
    "With these definitions we have everything to define a crystal and to analyse diffraction and imaging data of crystalline specimens.\n",
    "\n",
    "Crystallography deals with the application of symmetry and group theory of symmetry to crystal structures.\n",
    "If you want to play around with symmetry and space groups, you can install the [spglib](http://atztogo.github.io/spglib/python-spglib.html#python-spglib). The spglib is especially helpfull for determination of reduced unit cells (the smallest possible ones, instead of the ones with the full symmetry).\n",
    "\n",
    "A number of common crystal structures are defined in the KinsCat libary under the function ''structure_by_name''. Try them out in this notebook."
   ]
  },
  {
   "cell_type": "code",
   "execution_count": null,
   "metadata": {},
   "outputs": [],
   "source": [
    "# As ususal the help function will show you the usage of a function:\n",
    "help(ks.structure_by_name)"
   ]
  },
  {
   "cell_type": "code",
   "execution_count": null,
   "metadata": {},
   "outputs": [],
   "source": [
    "print(ks.crystal_data_base.keys())"
   ]
  },
  {
   "cell_type": "markdown",
   "metadata": {},
   "source": [
    "Now use one name of above structures and redo this notebook"
   ]
  },
  {
   "cell_type": "markdown",
   "metadata": {},
   "source": [
    "## Navigation\n",
    "\n",
    "- <font size = \"3\">  **Back Chapter 1: [Atomic Form Factor](CH2_02-Atomic_Form_Factor.ipynb)** </font>\n",
    "- <font size = \"3\">  **Next: [Structure Factors](CH2_04-Structure_Factors.ipynb)** </font>\n",
    "- <font size = \"3\">  **Chapter 2: [Diffraction](CH2_00-_Diffraction.ipynb)** </font>\n",
    "- <font size = \"3\">  **List of Content: [Front](../_MSE672_Intro_TEM.ipynb)** </font>"
   ]
  },
  {
   "cell_type": "markdown",
   "metadata": {},
   "source": [
    "## Appendix: Read POSCAR\n",
    "\n",
    "Load and draw a  crystal structure  from a POSCAR file\n",
    " "
   ]
  },
  {
   "cell_type": "code",
   "execution_count": 15,
   "metadata": {},
   "outputs": [],
   "source": [
    "#tags = ks.read_poscar()\n",
    "\n",
    "#tags['max_bond_length'] = 0.27\n",
    "\n",
    "#tags['extend'] = [1,1,1]\n",
    "#tags[name ]\n",
    "#ks.plot_unitcell(tags)"
   ]
  },
  {
   "cell_type": "markdown",
   "metadata": {},
   "source": [
    "### The function "
   ]
  },
  {
   "cell_type": "code",
   "execution_count": null,
   "metadata": {},
   "outputs": [],
   "source": [
    "from ase.io import read, write\n",
    "import pyTEMlib.file_tools as ft\n",
    "import os\n",
    "\n",
    "def Read_POSCAR(): # open file dialog to select poscar file\n",
    "    file_name = ft.openfile_dialog('POSCAR (POSCAR*.txt);;All files (*)')\n",
    "    #use ase package to read file\n",
    "    \n",
    "    base=os.path.basename(file_name)\n",
    "    base_name = os.path.splitext(base)[0]\n",
    "    crystal = read(file_name,format='vasp', parallel=False)\n",
    "    \n",
    "\n",
    "    ## make dictionary and plot structure (not essential for further notebook)\n",
    "    tags = {}\n",
    "    tags['unit_cell'] = crystal.cell*1e-1\n",
    "    tags['elements'] = crystal.get_chemical_symbols()\n",
    "    tags['base'] = crystal.get_scaled_positions()\n",
    "\n",
    "    tags['max_bond_length'] = 0.23\n",
    "    tags['name'] = base_name\n",
    "\n",
    "    return tags"
   ]
  },
  {
   "cell_type": "code",
   "execution_count": null,
   "metadata": {
    "scrolled": false
   },
   "outputs": [],
   "source": [
    "#tags = ks.Read_POSCAR()\n",
    "#tags['extend'] = [2,2,1]\n",
    "#ks.plot_unitcell(tags)\n",
    "#plt.title(tags['name'])\n",
    "\n"
   ]
  },
  {
   "cell_type": "code",
   "execution_count": null,
   "metadata": {},
   "outputs": [],
   "source": []
  }
 ],
 "metadata": {
  "celltoolbar": "Slideshow",
  "kernelspec": {
   "display_name": "Python 3",
   "language": "python",
   "name": "python3"
  },
  "language_info": {
   "codemirror_mode": {
    "name": "ipython",
    "version": 3
   },
   "file_extension": ".py",
   "mimetype": "text/x-python",
   "name": "python",
   "nbconvert_exporter": "python",
   "pygments_lexer": "ipython3",
   "version": "3.8.6"
  },
  "toc": {
   "base_numbering": "3",
   "nav_menu": {
    "height": "318px",
    "width": "307px"
   },
   "number_sections": true,
   "sideBar": true,
   "skip_h1_title": false,
   "title_cell": "Table of Contents",
   "title_sidebar": "Contents",
   "toc_cell": false,
   "toc_position": {
    "height": "calc(100% - 180px)",
    "left": "10px",
    "top": "150px",
    "width": "288px"
   },
   "toc_section_display": true,
   "toc_window_display": true
  }
 },
 "nbformat": 4,
 "nbformat_minor": 2
}
