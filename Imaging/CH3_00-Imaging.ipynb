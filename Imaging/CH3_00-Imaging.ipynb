{
 "cells": [
  {
   "cell_type": "markdown",
   "metadata": {},
   "source": [
    "\n",
    "<font size = \"5\"> **Chapter 3: [Imaging](CH3_00-Imaging.ipynb)** </font>\n",
    "\n",
    "\n",
    "<hr style=\"height:1px;border-top:4px solid #FF8200\" />\n",
    "\n",
    "# Chapter 3: Imaging\n",
    "\n",
    "part of \n",
    "\n",
    "<font size = \"5\"> **[MSE672:  Introduction to Transmission Electron Microscopy](../_MSE672_Intro_TEM.ipynb)**</font>\n",
    "\n",
    "\n",
    "by Gerd Duscher, Spring 2021\n",
    "\n",
    "Microscopy Facilities<br>\n",
    "Joint Institute of Advanced Materials<br>\n",
    "Materials Science & Engineering<br>\n",
    "The University of Tennessee, Knoxville\n",
    "\n",
    "Background and methods to analysis and quantification of data acquired with transmission electron microscopes."
   ]
  },
  {
   "cell_type": "markdown",
   "metadata": {},
   "source": [
    "The Imaging chapter has the following sections:\n",
    "* [Resolution Limit](CH3_01-Resolution.ipynb)\n",
    "\n",
    "**Phase Contrast Imaging**\n",
    "* [Image Processing](CH3_02-ImageProcessing.ipynb)\n",
    "* [Contrast Transfer Function](CH3_04-CTF.ipynb)\n",
    "* [HRTEM Image Analysis](CH3_05-ImageAnalysis.ipynb)\n",
    "* [Linear Image Approximation](CH3_06)\n",
    "* [Defocus Thickness Map](CH3_07)\n",
    "\n",
    "**Z-Contrast**\n",
    "* [Z-contrast Images](CH3_08)\n",
    "* [Ronchigrams](CH3_09-Ronchigrams.ipynb)\n",
    "* [Find Atoms](CH3_010-Find_Atoms.ipynb)\n",
    "\n",
    " "
   ]
  },
  {
   "cell_type": "code",
   "execution_count": null,
   "metadata": {},
   "outputs": [],
   "source": []
  },
  {
   "cell_type": "markdown",
   "metadata": {},
   "source": [
    "## Back:  Chapter 2: [Diffraction](CH2-Diffraction.ipynb)\n",
    "## Next:  Chapter 4: [Spectroscopy](CH4-Spectroscopy.ipynb)\n",
    "\n",
    "## List of Content: [Front](_MSE672-IntroToTEM.ipynb)"
   ]
  },
  {
   "cell_type": "code",
   "execution_count": null,
   "metadata": {},
   "outputs": [],
   "source": []
  }
 ],
 "metadata": {
  "kernelspec": {
   "display_name": "Python 3",
   "language": "python",
   "name": "python3"
  },
  "language_info": {
   "codemirror_mode": {
    "name": "ipython",
    "version": 3
   },
   "file_extension": ".py",
   "mimetype": "text/x-python",
   "name": "python",
   "nbconvert_exporter": "python",
   "pygments_lexer": "ipython3",
   "version": "3.8.8"
  },
  "toc": {
   "base_numbering": 1,
   "nav_menu": {},
   "number_sections": true,
   "sideBar": true,
   "skip_h1_title": false,
   "title_cell": "Table of Contents",
   "title_sidebar": "Contents",
   "toc_cell": false,
   "toc_position": {},
   "toc_section_display": true,
   "toc_window_display": false
  }
 },
 "nbformat": 4,
 "nbformat_minor": 2
}
