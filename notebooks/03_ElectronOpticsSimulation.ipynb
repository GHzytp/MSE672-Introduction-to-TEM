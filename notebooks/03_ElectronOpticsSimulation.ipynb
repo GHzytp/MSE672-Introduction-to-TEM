{
 "cells": [
  {
   "cell_type": "markdown",
   "metadata": {},
   "source": [
    "# Chapter 1: Electron Optics\n",
    "\n",
    "part of\n",
    "\n",
    "## [MSE672- Introduction to Transmission Electron Microsocpy](_MSE672-IntroToTEM.ipynb)\n",
    "\n",
    "by Gerd Duscher, UTK, Fall 2018\n",
    "\n",
    "The Electron-Optics chapter has the following sections:\n",
    "* [Optics Condenser](Optics-Condenser.ipynb)\n"
   ]
  },
  {
   "cell_type": "markdown",
   "metadata": {},
   "source": [
    "## Next:  Chapter 2: [Diffraction](Diffraction.ipynb)\n",
    "\n",
    "## List of Content: [Front](_MSE672-IntroToTEM.ipynb)"
   ]
  },
  {
   "cell_type": "markdown",
   "metadata": {},
   "source": []
  }
 ],
 "metadata": {
  "kernelspec": {
   "display_name": "Python 3",
   "language": "python",
   "name": "python3"
  },
  "language_info": {
   "codemirror_mode": {
    "name": "ipython",
    "version": 3
   },
   "file_extension": ".py",
   "mimetype": "text/x-python",
   "name": "python",
   "nbconvert_exporter": "python",
   "pygments_lexer": "ipython3",
   "version": "3.6.5"
  }
 },
 "nbformat": 4,
 "nbformat_minor": 2
}
