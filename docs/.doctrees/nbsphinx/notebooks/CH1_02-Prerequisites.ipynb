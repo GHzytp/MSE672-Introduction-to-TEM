{
 "cells": [
  {
   "cell_type": "markdown",
   "metadata": {},
   "source": [
    "<font size = \"5\"> **Chapter 1: [Introduction](CH1_00-Introduction.ipynb)** </font>\n",
    "\n",
    "\n",
    "<hr style=\"height:1px;border-top:4px solid #FF8200\" />\n",
    "\n",
    "# Prerequisites\n",
    "\n",
    "[Download](https://raw.githubusercontent.com/gduscher/MSE672-Introduction-to-TEM//main/notebooks/CH1_02-Prerequisites.ipynb\")\n",
    " \n",
    "[![Open In Colab](https://colab.research.google.com/assets/colab-badge.svg)](\n",
    "    https://colab.research.google.com/github/gduscher/MSE672-Introduction-to-TEM/blob/main/notebooks/CH1_02-Prerequisites.ipynb)\n",
    "\n",
    "\n",
    "\n",
    "part of \n",
    "\n",
    "<font size = \"5\"> **[MSE672:  Introduction to Transmission Electron Microscopy](_MSE672_Intro_TEM.ipynb)**</font>\n",
    "\n",
    "by Gerd Duscher, Spring 2021\n",
    "\n",
    "Microscopy Facilities<br>\n",
    "Joint Institute of Advanced Materials<br>\n",
    "Materials Science & Engineering<br>\n",
    "The University of Tennessee, Knoxville\n",
    "\n",
    "Background and methods to analysis and quantification of data acquired with transmission electron microscopes.\n",
    "\n"
   ]
  },
  {
   "cell_type": "markdown",
   "metadata": {},
   "source": [
    "## Language\n",
    "The notebooks are all in python 3. \n",
    "\n",
    "At this point the common version is python 3.7"
   ]
  },
  {
   "cell_type": "markdown",
   "metadata": {},
   "source": [
    "## Packages\n",
    "The idea behind any python program is to make use of the hghly efficient libraries that already exist.\n",
    "\n",
    "I use [anaconda3](https://www.anaconda.com/distribution/) (not miniconda) which is available for all major operating systems.\n",
    "\n",
    "We us a few modules that come with every python installation, like:\n",
    "\n",
    "* math\n",
    "* sys\n",
    "* os\n",
    "\n",
    "We use mostly the common packages for scientific computing in python (all included in anaconda3)\n",
    "The most important ones are:\n",
    "* [Numpy](https://www.numpy.org/) - the numerical library\n",
    "* [Scipy](https://www.scipy.org/scipylib/index.html) the scientific library\n",
    "* [Matplotlib](https://www.matplotlib.org/) the interactive plotting library \n",
    "\n",
    "\n",
    "These notebooks are expected to be installed on your computer to run the notebooks of this book.\n",
    "\n",
    "\n",
    "For specialist applications we do not reinvent the wheel and use those on an as needed basis.\n",
    "Example is the library to register a stack of images:\n",
    "* [SimpleITK](https://www.simpleitk.org)\n",
    "integration of AI in image analysis and for high performing computer algrothyms\n",
    "* [pyNSID](https://pycroscopy.github.io/pyNSID/about.html)\n",
    "the atomistic simulation program is used for crystallographic data\n",
    "* [ase](https://wiki.fysik.dtu.dk/ase/)\n",
    "together with a symmetry package\n",
    "* [spglib](https://atztogo.github.io/spglib/)\n",
    "\n",
    "\n",
    "For dialogs we use the capabilities provided by:\n",
    "* [PyQt5](https://www.riverbankcomputing.com/software/pyqt/intro)\n",
    "\n",
    "All routines that are introduced in the notebooks are also available (for analysis) in the provided package  \n",
    "* [pyTEMlib](https://github.com/pycroscopy/pyTEMlib)\n",
    "\n",
    "\n",
    "If you install **[pyTEMlib](#TEM-Library)** with the code cell below all packages you need for this book will be installed."
   ]
  },
  {
   "cell_type": "markdown",
   "metadata": {},
   "source": [
    "## Data Format\n",
    "All data in this course are stored in the data format of\n",
    "* [pyNSID](https://pycroscopy.github.io/pyNSID/about.html)\n",
    "\n",
    "which is based on\n",
    "* [HDF5](https://www.h5py.org/)\n",
    "\n",
    "\n",
    "\n",
    "## Notebook preamble\n",
    "As a minimum Any notebook in this course has to have the following libraries loaded :"
   ]
  },
  {
   "cell_type": "code",
   "execution_count": 1,
   "metadata": {
    "execution": {
     "iopub.execute_input": "2021-01-21T19:20:35.915805Z",
     "iopub.status.busy": "2021-01-21T19:20:35.905853Z",
     "iopub.status.idle": "2021-01-21T19:20:36.575802Z",
     "shell.execute_reply": "2021-01-21T19:20:36.575802Z"
    }
   },
   "outputs": [
    {
     "name": "stdout",
     "output_type": "stream",
     "text": [
      "Populating the interactive namespace from numpy and matplotlib\n"
     ]
    }
   ],
   "source": [
    "# import matplotlib and numpy with this **magic** comand\n",
    "#                       use \"inline\" instead of \"notebook\" for non-interactive plots\n",
    "import sys\n",
    "if 'google.colab' in sys.modules:\n",
    "    %pylab --no-import-all notebook\n",
    "else:      \n",
    "    %pylab --no-import-all widget\n",
    "    %gui qt\n"
   ]
  },
  {
   "cell_type": "markdown",
   "metadata": {},
   "source": [
    "## Numpy\n",
    "\n",
    "The calculations depend on **Numpy** and an installation of that package that is compiled to include BLAS and LAPACK libraries will be much faster than the standalone version.\n",
    "For example the numpy installed on ubuntu with *> sudo apt-get install python3-numpy* or at windows you can install the numpy package from Gohlke's webpage which compiled against the MKL library of Intel. If you used anaconda3, everything is already optimized.\n",
    "\n",
    "The comand below lets you see what you have"
   ]
  },
  {
   "cell_type": "code",
   "execution_count": 2,
   "metadata": {
    "execution": {
     "iopub.execute_input": "2021-01-21T19:20:36.585811Z",
     "iopub.status.busy": "2021-01-21T19:20:36.575802Z",
     "iopub.status.idle": "2021-01-21T19:20:36.645995Z",
     "shell.execute_reply": "2021-01-21T19:20:36.645995Z"
    },
    "scrolled": true
   },
   "outputs": [
    {
     "name": "stdout",
     "output_type": "stream",
     "text": [
      "blas_mkl_info:\n",
      "    libraries = ['mkl_rt']\n",
      "    library_dirs = ['C:/Users/gduscher/Anaconda3\\\\Library\\\\lib']\n",
      "    define_macros = [('SCIPY_MKL_H', None), ('HAVE_CBLAS', None)]\n",
      "    include_dirs = ['C:\\\\Program Files (x86)\\\\IntelSWTools\\\\compilers_and_libraries_2019.0.117\\\\windows\\\\mkl', 'C:\\\\Program Files (x86)\\\\IntelSWTools\\\\compilers_and_libraries_2019.0.117\\\\windows\\\\mkl\\\\include', 'C:\\\\Program Files (x86)\\\\IntelSWTools\\\\compilers_and_libraries_2019.0.117\\\\windows\\\\mkl\\\\lib', 'C:/Users/gduscher/Anaconda3\\\\Library\\\\include']\n",
      "blas_opt_info:\n",
      "    libraries = ['mkl_rt']\n",
      "    library_dirs = ['C:/Users/gduscher/Anaconda3\\\\Library\\\\lib']\n",
      "    define_macros = [('SCIPY_MKL_H', None), ('HAVE_CBLAS', None)]\n",
      "    include_dirs = ['C:\\\\Program Files (x86)\\\\IntelSWTools\\\\compilers_and_libraries_2019.0.117\\\\windows\\\\mkl', 'C:\\\\Program Files (x86)\\\\IntelSWTools\\\\compilers_and_libraries_2019.0.117\\\\windows\\\\mkl\\\\include', 'C:\\\\Program Files (x86)\\\\IntelSWTools\\\\compilers_and_libraries_2019.0.117\\\\windows\\\\mkl\\\\lib', 'C:/Users/gduscher/Anaconda3\\\\Library\\\\include']\n",
      "lapack_mkl_info:\n",
      "    libraries = ['mkl_rt']\n",
      "    library_dirs = ['C:/Users/gduscher/Anaconda3\\\\Library\\\\lib']\n",
      "    define_macros = [('SCIPY_MKL_H', None), ('HAVE_CBLAS', None)]\n",
      "    include_dirs = ['C:\\\\Program Files (x86)\\\\IntelSWTools\\\\compilers_and_libraries_2019.0.117\\\\windows\\\\mkl', 'C:\\\\Program Files (x86)\\\\IntelSWTools\\\\compilers_and_libraries_2019.0.117\\\\windows\\\\mkl\\\\include', 'C:\\\\Program Files (x86)\\\\IntelSWTools\\\\compilers_and_libraries_2019.0.117\\\\windows\\\\mkl\\\\lib', 'C:/Users/gduscher/Anaconda3\\\\Library\\\\include']\n",
      "lapack_opt_info:\n",
      "    libraries = ['mkl_rt']\n",
      "    library_dirs = ['C:/Users/gduscher/Anaconda3\\\\Library\\\\lib']\n",
      "    define_macros = [('SCIPY_MKL_H', None), ('HAVE_CBLAS', None)]\n",
      "    include_dirs = ['C:\\\\Program Files (x86)\\\\IntelSWTools\\\\compilers_and_libraries_2019.0.117\\\\windows\\\\mkl', 'C:\\\\Program Files (x86)\\\\IntelSWTools\\\\compilers_and_libraries_2019.0.117\\\\windows\\\\mkl\\\\include', 'C:\\\\Program Files (x86)\\\\IntelSWTools\\\\compilers_and_libraries_2019.0.117\\\\windows\\\\mkl\\\\lib', 'C:/Users/gduscher/Anaconda3\\\\Library\\\\include']\n",
      "numpy version:  1.18.5\n",
      "scipy version:  1.6.0\n"
     ]
    }
   ],
   "source": [
    "## What is numpy compiled against\n",
    "np.__config__.show()\n",
    "print('numpy version: ',np.version.version)\n",
    "import scipy as sp\n",
    "print('scipy version: ',sp.__version__)"
   ]
  },
  {
   "cell_type": "markdown",
   "metadata": {},
   "source": [
    "## TEM Library\n",
    "\n",
    "\n",
    "You will have to run the code cell below **at least once** to install the library with the programs needed for the analysis of data.\n",
    "\n",
    "The  code cell below will install pyTEMlib  directly from pypi"
   ]
  },
  {
   "cell_type": "code",
   "execution_count": 3,
   "metadata": {
    "execution": {
     "iopub.execute_input": "2021-01-21T19:20:36.655834Z",
     "iopub.status.busy": "2021-01-21T19:20:36.655834Z",
     "iopub.status.idle": "2021-01-21T19:20:37.225996Z",
     "shell.execute_reply": "2021-01-21T19:20:37.225996Z"
    },
    "scrolled": true
   },
   "outputs": [
    {
     "name": "stdout",
     "output_type": "stream",
     "text": [
      "done\n"
     ]
    }
   ],
   "source": [
    "import sys\n",
    "from pkg_resources import get_distribution, DistributionNotFound\n",
    "\n",
    "def test_package(package_name):\n",
    "    \"\"\"Test if package exists and returns version or -1\"\"\"\n",
    "    try:\n",
    "        version = (get_distribution(package_name).version)\n",
    "    except (DistributionNotFound, ImportError) as err:\n",
    "        version = '-1'\n",
    "    return version\n",
    "\n",
    "# Colab setup ------------------\n",
    "if 'google.colab' in sys.modules:\n",
    "    !pip install pyTEMlib -q\n",
    "\n",
    "# pyTEMlib setup ------------------\n",
    "else:\n",
    "    if test_package('pyTEMlib') < '0.2021.1.9':\n",
    "        print('installing pyTEMlib')\n",
    "        !{sys.executable} -m pip install  --upgrade pyTEMlib -q\n",
    "# ------------------------------\n",
    "print('done')"
   ]
  },
  {
   "cell_type": "code",
   "execution_count": 4,
   "metadata": {
    "execution": {
     "iopub.execute_input": "2021-01-21T19:20:37.235963Z",
     "iopub.status.busy": "2021-01-21T19:20:37.225996Z",
     "iopub.status.idle": "2021-01-21T19:20:37.245971Z",
     "shell.execute_reply": "2021-01-21T19:20:37.245971Z"
    }
   },
   "outputs": [
    {
     "name": "stdout",
     "output_type": "stream",
     "text": [
      "pyTEM version: 0.2021.01.09\n"
     ]
    }
   ],
   "source": [
    "import pyTEMlib\n",
    "print(f'pyTEM version: {pyTEMlib.__version__}')"
   ]
  },
  {
   "cell_type": "code",
   "execution_count": 5,
   "metadata": {
    "execution": {
     "iopub.execute_input": "2021-01-21T19:20:37.256001Z",
     "iopub.status.busy": "2021-01-21T19:20:37.256001Z",
     "iopub.status.idle": "2021-01-21T19:20:41.075787Z",
     "shell.execute_reply": "2021-01-21T19:20:41.075787Z"
    }
   },
   "outputs": [
    {
     "name": "stdout",
     "output_type": "stream",
     "text": [
      "Requirement already satisfied: pip in c:\\users\\gduscher\\anaconda3\\lib\\site-packages (20.3.3)\n"
     ]
    }
   ],
   "source": [
    "import sys\n",
    "# get rid of annoying update pip installer\n",
    "!{sys.executable} -m pip install --upgrade pip\n"
   ]
  },
  {
   "cell_type": "markdown",
   "metadata": {},
   "source": [
    "## Test\n",
    "Let's test if the installation ws succesfull and plot a unit cell. You can rotate the plot around, zoom and select. Try it!"
   ]
  },
  {
   "cell_type": "code",
   "execution_count": 6,
   "metadata": {
    "execution": {
     "iopub.execute_input": "2021-01-21T19:20:41.185899Z",
     "iopub.status.busy": "2021-01-21T19:20:41.185899Z",
     "iopub.status.idle": "2021-01-21T19:20:42.165894Z",
     "shell.execute_reply": "2021-01-21T19:20:42.165894Z"
    }
   },
   "outputs": [
    {
     "name": "stdout",
     "output_type": "stream",
     "text": [
      "Using KinsCat library version  0.5  by G.Duscher\n",
      "spglib not installed; Symmetry functions of spglib disabled\n",
      "['C', 'C', 'C', 'C']\n"
     ]
    },
    {
     "data": {
      "application/vnd.jupyter.widget-view+json": {
       "model_id": "fd72678425d24995bc481f533c79f796",
       "version_major": 2,
       "version_minor": 0
      },
      "text/plain": [
       "Canvas(toolbar=Toolbar(toolitems=[('Home', 'Reset original view', 'home', 'home'), ('Back', 'Back to previous …"
      ]
     },
     "metadata": {},
     "output_type": "display_data"
    }
   ],
   "source": [
    "import pyTEMlib.KinsCat as ks # Import kinematic sCattering Library fromt he pyTEMlib\n",
    "\n",
    "# make a structure dictionary\n",
    "tags = ks.structure_by_name('Graphite')\n",
    "\n",
    "# define bond length for plot\n",
    "tags['max_bond_length'] = 0.246\n",
    "\n",
    "# plot it in 3D\n",
    "ks.plot_unitcell(tags)"
   ]
  },
  {
   "cell_type": "markdown",
   "metadata": {},
   "source": [
    "Get used to changing parameters and type **silicon** instead of **Graphite** in the code cell above."
   ]
  },
  {
   "cell_type": "markdown",
   "metadata": {},
   "source": [
    "## Summary\n",
    "\n",
    "We now have tested all tools to load data and save our analysis.\n",
    "\n",
    "We are ready to go"
   ]
  },
  {
   "cell_type": "markdown",
   "metadata": {
    "collapsed": true
   },
   "source": [
    "## Navigation\n",
    "- **Next: [Matplotlib and Numpy for Micrographs](CH1_03-Data_Representation.ipynb)**\n",
    "- **UP: [Chapter 1](CH1-00-Introduction.ipynb)**\n",
    "- **List of Content: [Front](_MSE672_Intro_TEM.ipynb)**"
   ]
  },
  {
   "cell_type": "markdown",
   "metadata": {},
   "source": [
    "## Appendix\n",
    "\n",
    "I am using some extensions to jupyter notebooks which can be installed with the following cells\n",
    "\n",
    "I like mostly the table of content extension that shows where in the notebook I am and let's me jump to different parts easily.\n"
   ]
  },
  {
   "cell_type": "code",
   "execution_count": 7,
   "metadata": {
    "execution": {
     "iopub.execute_input": "2021-01-21T19:20:42.165894Z",
     "iopub.status.busy": "2021-01-21T19:20:42.165894Z",
     "iopub.status.idle": "2021-01-21T19:20:42.725918Z",
     "shell.execute_reply": "2021-01-21T19:20:42.725918Z"
    }
   },
   "outputs": [
    {
     "name": "stdout",
     "output_type": "stream",
     "text": [
      "Known nbextensions:\n",
      "  config dir: C:\\Users\\gduscher\\.jupyter\\nbconfig\n",
      "    notebook section\n",
      "      mayavi/x3d/x3dom enabled \n",
      "      jupyter-js-widgets/extension enabled \n",
      "      jupyter-widget-chemview/extension enabled \n",
      "      fileupload/extension enabled \n",
      "      hide_code/hide_code enabled \n",
      "      calysto/document-tools/main enabled \n",
      "      nbextensions_configurator/config_menu/main enabled \n",
      "      toc2 enabled \n",
      "      contrib_nbextensions_help_item/main enabled \n",
      "      toc2/main enabled \n",
      "      varInspector/main disabled\n",
      "      vispy/extension enabled \n",
      "      equation-numbering/main enabled \n",
      "    tree section\n",
      "      nbextensions_configurator/tree_tab/main enabled \n",
      "  config dir: C:\\Users\\gduscher\\Anaconda3\\etc\\jupyter\\nbconfig\n",
      "    notebook section\n",
      "      jupyter-matplotlib/extension enabled \n",
      "      jupyter-js-widgets/extension enabled \n",
      "  config dir: C:\\ProgramData\\jupyter\\nbconfig\n",
      "    notebook section\n"
     ]
    },
    {
     "name": "stderr",
     "output_type": "stream",
     "text": [
      "      - Validating: ok\n",
      "      - Validating: ok\n",
      "      - Validating: problems found:\n",
      "        - require?  X jupyter-widget-chemview/extension\n",
      "      - Validating: problems found:\n",
      "        - require?  X fileupload/extension\n",
      "      - Validating: problems found:\n",
      "        - require?  X hide_code/hide_code\n",
      "      - Validating: problems found:\n",
      "        - require?  X calysto/document-tools/main\n",
      "      - Validating: problems found:\n",
      "        - require?  X nbextensions_configurator/config_menu/main\n",
      "      - Validating: problems found:\n",
      "        - require?  X toc2\n",
      "      - Validating: ok\n",
      "      - Validating: ok\n",
      "      - Validating: problems found:\n",
      "        - require?  X vispy/extension\n",
      "      - Validating: ok\n",
      "      - Validating: problems found:\n",
      "        - require?  X nbextensions_configurator/tree_tab/main\n",
      "      - Validating: ok\n",
      "      - Validating: ok\n",
      "      - Validating: problems found:\n",
      "        - require?  X nbextensions_configurator/config_menu/main\n",
      "      - Validating: ok\n",
      "      - Validating: problems found:\n",
      "        - require?  X nbextensions_configurator/tree_tab/main\n"
     ]
    },
    {
     "name": "stdout",
     "output_type": "stream",
     "text": [
      "      nbextensions_configurator/config_menu/main enabled \n",
      "      contrib_nbextensions_help_item/main enabled \n",
      "    tree section\n",
      "      nbextensions_configurator/tree_tab/main enabled \n"
     ]
    }
   ],
   "source": [
    "# Install a pip package in the current Jupyter kernel\n",
    "import sys\n",
    "\n",
    "!{sys.executable} -m jupyter nbextension list"
   ]
  },
  {
   "cell_type": "code",
   "execution_count": 8,
   "metadata": {
    "execution": {
     "iopub.execute_input": "2021-01-21T19:20:42.725918Z",
     "iopub.status.busy": "2021-01-21T19:20:42.725918Z",
     "iopub.status.idle": "2021-01-21T19:20:46.121777Z",
     "shell.execute_reply": "2021-01-21T19:20:46.121777Z"
    }
   },
   "outputs": [
    {
     "name": "stdout",
     "output_type": "stream",
     "text": [
      "Requirement already satisfied: jupyter_contrib_nbextensions in c:\\users\\gduscher\\anaconda3\\lib\\site-packages (0.5.1)\n",
      "Requirement already satisfied: jupyter-nbextensions-configurator>=0.4.0 in c:\\users\\gduscher\\anaconda3\\lib\\site-packages (from jupyter_contrib_nbextensions) (0.4.1)\n",
      "Requirement already satisfied: jupyter-core in c:\\users\\gduscher\\anaconda3\\lib\\site-packages (from jupyter_contrib_nbextensions) (4.7.0)\n",
      "Requirement already satisfied: jupyter-latex-envs>=1.3.8 in c:\\users\\gduscher\\anaconda3\\lib\\site-packages (from jupyter_contrib_nbextensions) (1.4.6)\n",
      "Requirement already satisfied: lxml in c:\\users\\gduscher\\anaconda3\\lib\\site-packages (from jupyter_contrib_nbextensions) (4.6.2)\n",
      "Requirement already satisfied: traitlets>=4.1 in c:\\users\\gduscher\\anaconda3\\lib\\site-packages (from jupyter_contrib_nbextensions) (5.0.5)\n",
      "Requirement already satisfied: tornado in c:\\users\\gduscher\\anaconda3\\lib\\site-packages (from jupyter_contrib_nbextensions) (6.1)\n",
      "Requirement already satisfied: ipython-genutils in c:\\users\\gduscher\\anaconda3\\lib\\site-packages (from jupyter_contrib_nbextensions) (0.2.0)\n",
      "Requirement already satisfied: pyyaml in c:\\users\\gduscher\\anaconda3\\lib\\site-packages (from jupyter_contrib_nbextensions) (5.3.1)\n",
      "Requirement already satisfied: jupyter-contrib-core>=0.3.3 in c:\\users\\gduscher\\anaconda3\\lib\\site-packages (from jupyter_contrib_nbextensions) (0.3.3)\n",
      "Requirement already satisfied: nbconvert>=4.2 in c:\\users\\gduscher\\anaconda3\\lib\\site-packages (from jupyter_contrib_nbextensions) (6.0.7)\n",
      "Requirement already satisfied: notebook>=4.0 in c:\\users\\gduscher\\anaconda3\\lib\\site-packages (from jupyter_contrib_nbextensions) (6.1.6)\n",
      "Requirement already satisfied: jupyter-highlight-selected-word>=0.1.1 in c:\\users\\gduscher\\anaconda3\\lib\\site-packages (from jupyter_contrib_nbextensions) (0.2.0)\n",
      "Requirement already satisfied: setuptools in c:\\users\\gduscher\\anaconda3\\lib\\site-packages (from jupyter-contrib-core>=0.3.3->jupyter_contrib_nbextensions) (49.6.0.post20210108)\n",
      "Requirement already satisfied: ipython in c:\\users\\gduscher\\anaconda3\\lib\\site-packages (from jupyter-latex-envs>=1.3.8->jupyter_contrib_nbextensions) (7.19.0)\n",
      "Requirement already satisfied: pandocfilters>=1.4.1 in c:\\users\\gduscher\\anaconda3\\lib\\site-packages (from nbconvert>=4.2->jupyter_contrib_nbextensions) (1.4.2)\n",
      "Requirement already satisfied: jupyterlab-pygments in c:\\users\\gduscher\\anaconda3\\lib\\site-packages (from nbconvert>=4.2->jupyter_contrib_nbextensions) (0.1.2)\n",
      "Requirement already satisfied: mistune<2,>=0.8.1 in c:\\users\\gduscher\\anaconda3\\lib\\site-packages (from nbconvert>=4.2->jupyter_contrib_nbextensions) (0.8.4)\n",
      "Requirement already satisfied: jinja2>=2.4 in c:\\users\\gduscher\\anaconda3\\lib\\site-packages (from nbconvert>=4.2->jupyter_contrib_nbextensions) (2.11.2)\n",
      "Requirement already satisfied: pygments>=2.4.1 in c:\\users\\gduscher\\anaconda3\\lib\\site-packages (from nbconvert>=4.2->jupyter_contrib_nbextensions) (2.7.3)\n",
      "Requirement already satisfied: nbformat>=4.4 in c:\\users\\gduscher\\anaconda3\\lib\\site-packages (from nbconvert>=4.2->jupyter_contrib_nbextensions) (5.0.8)\n",
      "Requirement already satisfied: bleach in c:\\users\\gduscher\\anaconda3\\lib\\site-packages (from nbconvert>=4.2->jupyter_contrib_nbextensions) (3.2.1)\n",
      "Requirement already satisfied: nbclient<0.6.0,>=0.5.0 in c:\\users\\gduscher\\anaconda3\\lib\\site-packages (from nbconvert>=4.2->jupyter_contrib_nbextensions) (0.5.1)\n",
      "Requirement already satisfied: entrypoints>=0.2.2 in c:\\users\\gduscher\\anaconda3\\lib\\site-packages (from nbconvert>=4.2->jupyter_contrib_nbextensions) (0.3)\n",
      "Requirement already satisfied: testpath in c:\\users\\gduscher\\anaconda3\\lib\\site-packages (from nbconvert>=4.2->jupyter_contrib_nbextensions) (0.4.4)\n",
      "Requirement already satisfied: defusedxml in c:\\users\\gduscher\\anaconda3\\lib\\site-packages (from nbconvert>=4.2->jupyter_contrib_nbextensions) (0.6.0)\n",
      "Requirement already satisfied: MarkupSafe>=0.23 in c:\\users\\gduscher\\anaconda3\\lib\\site-packages (from jinja2>=2.4->nbconvert>=4.2->jupyter_contrib_nbextensions) (1.1.1)\n",
      "Requirement already satisfied: nest-asyncio in c:\\users\\gduscher\\anaconda3\\lib\\site-packages (from nbclient<0.6.0,>=0.5.0->nbconvert>=4.2->jupyter_contrib_nbextensions) (1.4.3)\n",
      "Requirement already satisfied: jupyter-client>=6.1.5 in c:\\users\\gduscher\\anaconda3\\lib\\site-packages (from nbclient<0.6.0,>=0.5.0->nbconvert>=4.2->jupyter_contrib_nbextensions) (6.1.11)\n",
      "Requirement already satisfied: async-generator in c:\\users\\gduscher\\anaconda3\\lib\\site-packages (from nbclient<0.6.0,>=0.5.0->nbconvert>=4.2->jupyter_contrib_nbextensions) (1.10)\n",
      "Requirement already satisfied: pyzmq>=13 in c:\\users\\gduscher\\anaconda3\\lib\\site-packages (from jupyter-client>=6.1.5->nbclient<0.6.0,>=0.5.0->nbconvert>=4.2->jupyter_contrib_nbextensions) (20.0.0)\n",
      "Requirement already satisfied: python-dateutil>=2.1 in c:\\users\\gduscher\\anaconda3\\lib\\site-packages (from jupyter-client>=6.1.5->nbclient<0.6.0,>=0.5.0->nbconvert>=4.2->jupyter_contrib_nbextensions) (2.8.1)\n",
      "Requirement already satisfied: pywin32>=1.0 in c:\\users\\gduscher\\anaconda3\\lib\\site-packages (from jupyter-core->jupyter_contrib_nbextensions) (228)\n",
      "Requirement already satisfied: jsonschema!=2.5.0,>=2.4 in c:\\users\\gduscher\\anaconda3\\lib\\site-packages (from nbformat>=4.4->nbconvert>=4.2->jupyter_contrib_nbextensions) (3.2.0)\n",
      "Requirement already satisfied: attrs>=17.4.0 in c:\\users\\gduscher\\anaconda3\\lib\\site-packages (from jsonschema!=2.5.0,>=2.4->nbformat>=4.4->nbconvert>=4.2->jupyter_contrib_nbextensions) (20.3.0)\n",
      "Requirement already satisfied: six>=1.11.0 in c:\\users\\gduscher\\anaconda3\\lib\\site-packages (from jsonschema!=2.5.0,>=2.4->nbformat>=4.4->nbconvert>=4.2->jupyter_contrib_nbextensions) (1.15.0)\n",
      "Requirement already satisfied: pyrsistent>=0.14.0 in c:\\users\\gduscher\\anaconda3\\lib\\site-packages (from jsonschema!=2.5.0,>=2.4->nbformat>=4.4->nbconvert>=4.2->jupyter_contrib_nbextensions) (0.17.3)\n",
      "Requirement already satisfied: Send2Trash in c:\\users\\gduscher\\anaconda3\\lib\\site-packages (from notebook>=4.0->jupyter_contrib_nbextensions) (1.5.0)\n",
      "Requirement already satisfied: terminado>=0.8.3 in c:\\users\\gduscher\\anaconda3\\lib\\site-packages (from notebook>=4.0->jupyter_contrib_nbextensions) (0.9.2)\n",
      "Requirement already satisfied: prometheus-client in c:\\users\\gduscher\\anaconda3\\lib\\site-packages (from notebook>=4.0->jupyter_contrib_nbextensions) (0.9.0)\n",
      "Requirement already satisfied: ipykernel in c:\\users\\gduscher\\anaconda3\\lib\\site-packages (from notebook>=4.0->jupyter_contrib_nbextensions) (5.4.2)\n",
      "Requirement already satisfied: argon2-cffi in c:\\users\\gduscher\\anaconda3\\lib\\site-packages (from notebook>=4.0->jupyter_contrib_nbextensions) (20.1.0)\n",
      "Requirement already satisfied: pywinpty>=0.5 in c:\\users\\gduscher\\anaconda3\\lib\\site-packages (from terminado>=0.8.3->notebook>=4.0->jupyter_contrib_nbextensions) (0.5.7)\n",
      "Requirement already satisfied: cffi>=1.0.0 in c:\\users\\gduscher\\anaconda3\\lib\\site-packages (from argon2-cffi->notebook>=4.0->jupyter_contrib_nbextensions) (1.14.4)\n",
      "Requirement already satisfied: pycparser in c:\\users\\gduscher\\anaconda3\\lib\\site-packages (from cffi>=1.0.0->argon2-cffi->notebook>=4.0->jupyter_contrib_nbextensions) (2.20)\n",
      "Requirement already satisfied: packaging in c:\\users\\gduscher\\anaconda3\\lib\\site-packages (from bleach->nbconvert>=4.2->jupyter_contrib_nbextensions) (20.8)\n",
      "Requirement already satisfied: webencodings in c:\\users\\gduscher\\anaconda3\\lib\\site-packages (from bleach->nbconvert>=4.2->jupyter_contrib_nbextensions) (0.5.1)\n",
      "Requirement already satisfied: prompt-toolkit!=3.0.0,!=3.0.1,<3.1.0,>=2.0.0 in c:\\users\\gduscher\\anaconda3\\lib\\site-packages (from ipython->jupyter-latex-envs>=1.3.8->jupyter_contrib_nbextensions) (3.0.10)\n",
      "Requirement already satisfied: decorator in c:\\users\\gduscher\\anaconda3\\lib\\site-packages (from ipython->jupyter-latex-envs>=1.3.8->jupyter_contrib_nbextensions) (4.4.2)\n",
      "Requirement already satisfied: colorama in c:\\users\\gduscher\\anaconda3\\lib\\site-packages (from ipython->jupyter-latex-envs>=1.3.8->jupyter_contrib_nbextensions) (0.4.4)\n",
      "Requirement already satisfied: jedi>=0.10 in c:\\users\\gduscher\\anaconda3\\lib\\site-packages (from ipython->jupyter-latex-envs>=1.3.8->jupyter_contrib_nbextensions) (0.17.2)\n",
      "Requirement already satisfied: backcall in c:\\users\\gduscher\\anaconda3\\lib\\site-packages (from ipython->jupyter-latex-envs>=1.3.8->jupyter_contrib_nbextensions) (0.2.0)\n",
      "Requirement already satisfied: pickleshare in c:\\users\\gduscher\\anaconda3\\lib\\site-packages (from ipython->jupyter-latex-envs>=1.3.8->jupyter_contrib_nbextensions) (0.7.5)\n",
      "Requirement already satisfied: parso<0.8.0,>=0.7.0 in c:\\users\\gduscher\\anaconda3\\lib\\site-packages (from jedi>=0.10->ipython->jupyter-latex-envs>=1.3.8->jupyter_contrib_nbextensions) (0.7.0)\n",
      "Requirement already satisfied: wcwidth in c:\\users\\gduscher\\anaconda3\\lib\\site-packages (from prompt-toolkit!=3.0.0,!=3.0.1,<3.1.0,>=2.0.0->ipython->jupyter-latex-envs>=1.3.8->jupyter_contrib_nbextensions) (0.2.5)\n",
      "Requirement already satisfied: pyparsing>=2.0.2 in c:\\users\\gduscher\\anaconda3\\lib\\site-packages (from packaging->bleach->nbconvert>=4.2->jupyter_contrib_nbextensions) (2.4.7)\n"
     ]
    }
   ],
   "source": [
    "!{sys.executable} -m pip install jupyter_contrib_nbextensions"
   ]
  },
  {
   "cell_type": "code",
   "execution_count": 9,
   "metadata": {
    "execution": {
     "iopub.execute_input": "2021-01-21T19:20:46.131668Z",
     "iopub.status.busy": "2021-01-21T19:20:46.131668Z",
     "iopub.status.idle": "2021-01-21T19:20:46.681776Z",
     "shell.execute_reply": "2021-01-21T19:20:46.681776Z"
    },
    "scrolled": true
   },
   "outputs": [
    {
     "name": "stderr",
     "output_type": "stream",
     "text": [
      "Enabling notebook extension toc2...\n",
      "      - Validating: problems found:\n",
      "        - require?  X toc2\n"
     ]
    }
   ],
   "source": [
    "!{sys.executable} -m  jupyter nbextension enable toc2"
   ]
  },
  {
   "cell_type": "code",
   "execution_count": 10,
   "metadata": {
    "execution": {
     "iopub.execute_input": "2021-01-21T19:20:46.691705Z",
     "iopub.status.busy": "2021-01-21T19:20:46.691705Z",
     "iopub.status.idle": "2021-01-21T19:20:46.701804Z",
     "shell.execute_reply": "2021-01-21T19:20:46.701804Z"
    }
   },
   "outputs": [
    {
     "data": {
      "application/javascript": [
       "$('<div id=\"toc\"></div>').css({position: 'fixed', top: '120px', left: 0}).appendTo(document.body);\n",
       "$.getScript('https://kmahelona.github.io/ipython_notebook_goodies/ipython_notebook_toc.js');\n"
      ],
      "text/plain": [
       "<IPython.core.display.Javascript object>"
      ]
     },
     "metadata": {},
     "output_type": "display_data"
    }
   ],
   "source": [
    "%%javascript\n",
    "$('<div id=\"toc\"></div>').css({position: 'fixed', top: '120px', left: 0}).appendTo(document.body);\n",
    "$.getScript('https://kmahelona.github.io/ipython_notebook_goodies/ipython_notebook_toc.js');"
   ]
  }
 ],
 "metadata": {
  "kernelspec": {
   "display_name": "Python 3",
   "language": "python",
   "name": "python3"
  },
  "language_info": {
   "codemirror_mode": {
    "name": "ipython",
    "version": 3
   },
   "file_extension": ".py",
   "mimetype": "text/x-python",
   "name": "python",
   "nbconvert_exporter": "python",
   "pygments_lexer": "ipython3",
   "version": "3.8.6"
  },
  "toc": {
   "base_numbering": "3",
   "nav_menu": {},
   "number_sections": true,
   "sideBar": true,
   "skip_h1_title": false,
   "title_cell": "Table of Contents",
   "title_sidebar": "Contents",
   "toc_cell": false,
   "toc_position": {
    "height": "calc(100% - 180px)",
    "left": "10px",
    "top": "150px",
    "width": "242.4px"
   },
   "toc_section_display": true,
   "toc_window_display": true
  },
  "varInspector": {
   "cols": {
    "lenName": 16,
    "lenType": 16,
    "lenVar": 40
   },
   "kernels_config": {
    "python": {
     "delete_cmd_postfix": "",
     "delete_cmd_prefix": "del ",
     "library": "var_list.py",
     "varRefreshCmd": "print(var_dic_list())"
    },
    "r": {
     "delete_cmd_postfix": ") ",
     "delete_cmd_prefix": "rm(",
     "library": "var_list.r",
     "varRefreshCmd": "cat(var_dic_list()) "
    }
   },
   "types_to_exclude": [
    "module",
    "function",
    "builtin_function_or_method",
    "instance",
    "_Feature"
   ],
   "window_display": true
  },
  "widgets": {
   "application/vnd.jupyter.widget-state+json": {
    "state": {
     "04cbe82df61b470a858465a85de047f4": {
      "model_module": "jupyter-matplotlib",
      "model_module_version": "^0.8.2",
      "model_name": "ToolbarModel",
      "state": {
       "_current_action": "",
       "_dom_classes": [],
       "_model_module": "jupyter-matplotlib",
       "_model_module_version": "^0.8.2",
       "_model_name": "ToolbarModel",
       "_view_count": null,
       "_view_module": "jupyter-matplotlib",
       "_view_module_version": "^0.8.2",
       "_view_name": "ToolbarView",
       "button_style": "",
       "collapsed": true,
       "layout": "IPY_MODEL_b3dee109d6214209acf22b4ba4d1ac33",
       "orientation": "vertical",
       "toolitems": [
        [
         "Home",
         "Reset original view",
         "home",
         "home"
        ],
        [
         "Back",
         "Back to previous view",
         "arrow-left",
         "back"
        ],
        [
         "Forward",
         "Forward to next view",
         "arrow-right",
         "forward"
        ],
        [
         "Pan",
         "Left button pans, Right button zooms\nx/y fixes axis, CTRL fixes aspect",
         "arrows",
         "pan"
        ],
        [
         "Zoom",
         "Zoom to rectangle\nx/y fixes axis, CTRL fixes aspect",
         "square-o",
         "zoom"
        ],
        [
         "Download",
         "Download plot",
         "floppy-o",
         "save_figure"
        ]
       ]
      }
     },
     "8975ed2f80d24f3dbf5283a20ecce788": {
      "model_module": "@jupyter-widgets/base",
      "model_module_version": "1.2.0",
      "model_name": "LayoutModel",
      "state": {
       "_model_module": "@jupyter-widgets/base",
       "_model_module_version": "1.2.0",
       "_model_name": "LayoutModel",
       "_view_count": null,
       "_view_module": "@jupyter-widgets/base",
       "_view_module_version": "1.2.0",
       "_view_name": "LayoutView",
       "align_content": null,
       "align_items": null,
       "align_self": null,
       "border": null,
       "bottom": null,
       "display": null,
       "flex": null,
       "flex_flow": null,
       "grid_area": null,
       "grid_auto_columns": null,
       "grid_auto_flow": null,
       "grid_auto_rows": null,
       "grid_column": null,
       "grid_gap": null,
       "grid_row": null,
       "grid_template_areas": null,
       "grid_template_columns": null,
       "grid_template_rows": null,
       "height": null,
       "justify_content": null,
       "justify_items": null,
       "left": null,
       "margin": null,
       "max_height": null,
       "max_width": null,
       "min_height": null,
       "min_width": null,
       "object_fit": null,
       "object_position": null,
       "order": null,
       "overflow": null,
       "overflow_x": null,
       "overflow_y": null,
       "padding": null,
       "right": null,
       "top": null,
       "visibility": null,
       "width": null
      }
     },
     "b3dee109d6214209acf22b4ba4d1ac33": {
      "model_module": "@jupyter-widgets/base",
      "model_module_version": "1.2.0",
      "model_name": "LayoutModel",
      "state": {
       "_model_module": "@jupyter-widgets/base",
       "_model_module_version": "1.2.0",
       "_model_name": "LayoutModel",
       "_view_count": null,
       "_view_module": "@jupyter-widgets/base",
       "_view_module_version": "1.2.0",
       "_view_name": "LayoutView",
       "align_content": null,
       "align_items": null,
       "align_self": null,
       "border": null,
       "bottom": null,
       "display": null,
       "flex": null,
       "flex_flow": null,
       "grid_area": null,
       "grid_auto_columns": null,
       "grid_auto_flow": null,
       "grid_auto_rows": null,
       "grid_column": null,
       "grid_gap": null,
       "grid_row": null,
       "grid_template_areas": null,
       "grid_template_columns": null,
       "grid_template_rows": null,
       "height": null,
       "justify_content": null,
       "justify_items": null,
       "left": null,
       "margin": null,
       "max_height": null,
       "max_width": null,
       "min_height": null,
       "min_width": null,
       "object_fit": null,
       "object_position": null,
       "order": null,
       "overflow": null,
       "overflow_x": null,
       "overflow_y": null,
       "padding": null,
       "right": null,
       "top": null,
       "visibility": null,
       "width": null
      }
     },
     "fd72678425d24995bc481f533c79f796": {
      "model_module": "jupyter-matplotlib",
      "model_module_version": "^0.8.2",
      "model_name": "MPLCanvasModel",
      "state": {
       "_cursor": "pointer",
       "_dom_classes": [],
       "_figure_label": "Figure",
       "_height": 0,
       "_image_mode": "full",
       "_message": "",
       "_model_module": "jupyter-matplotlib",
       "_model_module_version": "^0.8.2",
       "_model_name": "MPLCanvasModel",
       "_rubberband_height": 0,
       "_rubberband_width": 0,
       "_rubberband_x": 0,
       "_rubberband_y": 0,
       "_view_count": null,
       "_view_module": "jupyter-matplotlib",
       "_view_module_version": "^0.8.2",
       "_view_name": "MPLCanvasView",
       "_width": 0,
       "capture_scroll": false,
       "footer_visible": true,
       "header_visible": true,
       "layout": "IPY_MODEL_8975ed2f80d24f3dbf5283a20ecce788",
       "resizable": true,
       "toolbar": "IPY_MODEL_04cbe82df61b470a858465a85de047f4",
       "toolbar_position": "left",
       "toolbar_visible": true
      }
     }
    },
    "version_major": 2,
    "version_minor": 0
   }
  }
 },
 "nbformat": 4,
 "nbformat_minor": 2
}
