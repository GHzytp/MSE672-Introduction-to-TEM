{
 "cells": [
  {
   "cell_type": "markdown",
   "source": [
    "<font size = \"5\"> **[MSE672: Introduction to TEM](https://gduscher.github.io/MSE672-Introduction-to-TEM/)** </font>\n",
    "\n",
    "<hr style=\"height:1px;border-top:4px solid #FF8200\" />\n",
    "\n",
    "# Course Organization\n",
    "\n",
    "part of\n",
    "\n",
    "<font size = \"5\"> **[MSE672:  Introduction to Transmission Electron Microscopy](_MSE672_Intro_TEM.ipynb)**</font>\n",
    "\n",
    "by\n",
    "\n",
    "Gerd Duscher\n",
    "\n",
    "Materials Science & Engineering<br>\n",
    "Joint Institute of Advanced Materials<br>\n",
    "The University of Tennessee, Knoxville"
   ],
   "metadata": {
    "collapsed": false,
    "pycharm": {
     "name": "#%% md\n"
    }
   }
  },
  {
   "cell_type": "markdown",
   "source": [
    "## Books\n",
    "<h3 >Williams and Carter<br>\n",
    "    Transmission Electron Microscopy</h3>\n",
    "    Plenum Press, 2009 (2nd Edition).<br>\n",
    "    available [online at the library](https://utk.primo.exlibrisgroup.com/discovery/fulldisplay?docid=cdi_askewsholts_vlebooks_9780387765013&context=PC&vid=01UTN_KNOXVILLE:01UTK&lang=en&search_scope=MyInst_and_CI&adaptor=Primo%20Central&tab=Everything&query=any%2Ccontains%2C%20Transmission%20Electron%20Microscopy&facet=rtype%2Cexclude%2Creviews&facet=rtype%2Cexclude%2Creference_entrys)\n",
    "\n",
    "<h3 >Reimer and Kohl<br>\n",
    "    Transmission Electron Microscopy</h3>\n",
    "    Springer, Berlin, 2007 (5th Edition).<br>\n",
    "    available [online at the library](https://utk.primo.exlibrisgroup.com/discovery/fulldisplay?docid=cdi_proquest_ebookcentral_EBC6362086&context=PC&vid=01UTN_KNOXVILLE:01UTK&lang=en&search_scope=MyInst_and_CI&adaptor=Primo%20Central&tab=Everything&query=any%2Ccontains%2CReimer%20and%20Kohl&offset=0)\n",
    "\n",
    "<h3 >Zuo and Spence<br>\n",
    "    Advanced Transmission Electron Microscopy: Imaging and Diffraction</h3>\n",
    "    Springer, NewYork, 2017 <br>\n",
    "    available online at the Library\n",
    "\n",
    "<h3 >Kirkland<br>\n",
    "    Advanced Computing in Electron Microscopy</h3>\n",
    "    Springer, NewYork, 2010 (2nd Edition)<br>\n",
    "    available online at the Library\n",
    "\n",
    "<h3>R.F. Egerton<br>\n",
    "    Electron Energy{Loss Spectroscopy in the Electron Microscope.</h3>\n",
    "    Plenum Press, 2011 (3rd Edition)<br>\n",
    "    available [online at the Library](\n"
   ],
   "metadata": {
    "collapsed": false,
    "pycharm": {
     "name": "#%% md\n"
    }
   }
  },
  {
   "cell_type": "markdown",
   "source": [
    "## Software\n",
    "\n",
    "### Image Analysis software for SEM and TEM\n",
    "\n",
    "<h3>Digital Micrograph</h3> You can get a free offline\n",
    " license from [here](https://www.gatan.com/resources/scripting/demo/)\n",
    "\n",
    "<h3> ImageJ</h3>\n",
    "a free imaging software with a lot of plugins: download from [here](https://rsbweb.nih.gov/ij/)\n",
    "\n",
    "<h3>>jupyter notebooks</h3>\n",
    "use provided [jupyter notebooks](https://github.com/gduscher/MSE672-Introduction-to-TEM)"
   ],
   "metadata": {
    "collapsed": false
   }
  },
  {
   "cell_type": "markdown",
   "source": [
    "## Syllabus\n",
    "\n",
    "| Week | Lecture | Chp. | Lab |\n",
    "|------|---------|------|-----|\n",
    "|01/17 - 01/23| 1:Introduction | 1 | |\n",
    "|01/24 - 01/30| 2,3:Geometric Ray Optics | 6 ||\n",
    "|01/31 - 02/06| 4,5:Kinematic Diffraction |  2,11 | Lab1: Basic Imaging|\n",
    "|02/07 - 02/13 | 6,7:Kinematic Diffraction -parallel | 12  | Lab2: Basic Diffraction|\n",
    "|02/14 - 02/20 | 8,9:Kinematic Diffraction -convergent   | 19,20 | Lab3: SAED |\n",
    "|02/21 - 02/27 | 10,11:Dynamic Diffraction | 14,15 | Lab4: CBED |\n",
    "|02/28 - 03/06 | 12:Imaging Overview | 22 ||\n",
    "|03/07 - 03/13 | 13,14:Imaging Conventional | 24-27 | Lab5: Exam|\n",
    "|03/14 - 03/20 | 15,16:Imaging Phase Contrast | 28,30 | Lab6: Two Beams|\n",
    "|03/21 - 03/27 | 17,18:Imaging and Lens Aberrations | 31 | Lab7: Phase Contrast|\n",
    "|03/28 - 04/03 | 19,20:Imaging Z-contrast| -  | Lab8: CTF|\n",
    "|04/04 - 04/10  | 21,22:Spectroscopy EELS | 36-40 | Lab9: Z-contrast|\n",
    "|04/11 - 04/17  | 23,24:Spectroscopy EDS | 33-35 | Lab10: EELS, ESI|\n",
    "|04/18 - 04/24  | 25:Other Techniques | 29 ||\n",
    "|04/25 - 05/01 | 26,27: TEM parts and vacuum | 5-9 ||\n",
    "|05/02 - 05/08 | 28:Project discussion ||"
   ],
   "metadata": {
    "collapsed": false,
    "pycharm": {
     "name": "#%% md\n"
    }
   }
  },
  {
   "cell_type": "markdown",
   "source": [
    "## Office Hours\n",
    "Office hours are Thursday  from 2 -- 4pm \\\\\n",
    "online with the class zoom link\\\\\n",
    "I will answer email questions in the same time slots.\n",
    "\n",
    "## Class and Lab\n",
    "-  Parallel to the class there is a Lab course.\n",
    "- We will analyze the data of the lab course, independent of whether you are participating or not,\n",
    "- For the analysis of the data we will need a labtop in class.\n",
    "\n",
    "- Everyone needs a laptop in class\n",
    "- I need real feedback on what you guys want to do and need to learn."
   ],
   "metadata": {
    "collapsed": false,
    "pycharm": {
     "name": "#%% md\n"
    }
   }
  },
  {
   "cell_type": "markdown",
   "source": [
    "## Homework and Quizzes\n",
    "- Homeworks and Quizzes are the main way to determine your grade in this course.\n",
    "- Homeworks have to be submitted electronically and generally are about analyzing on your own data which are similar to those in the practice sessions .\n",
    "- Think of these homeworks as small take-home exams.\n",
    "- Additionally, there will be reading assignments every week.\n",
    "- Each week before the lecture, there will be a short quiz about the content of the reading assignments.\n",
    "- Neither the TA nor the instructor will answer questions about your homework after the deadline.\n",
    "- If you are more than two homeworks behind, you failed the class."
   ],
   "metadata": {
    "collapsed": false
   }
  },
  {
   "cell_type": "markdown",
   "source": [
    "## Final\n",
    "\tThe final is a report of how TEM will/can be used in your research.\\\\\n",
    "\tThis should include a critical review of  data from journal articles which did  TEM similar to what  you propose."
   ],
   "metadata": {
    "collapsed": false
   }
  },
  {
   "cell_type": "markdown",
   "source": [
    "## Grades\n",
    "The grade is a determined by 1/3 each: final, homework, and quizzes."
   ],
   "metadata": {
    "collapsed": false
   }
  },
  {
   "cell_type": "code",
   "execution_count": null,
   "outputs": [],
   "source": [],
   "metadata": {
    "collapsed": false,
    "pycharm": {
     "name": "#%%\n"
    }
   }
  }
 ],
 "metadata": {
  "kernelspec": {
   "display_name": "Python 3",
   "language": "python",
   "name": "python3"
  },
  "language_info": {
   "codemirror_mode": {
    "name": "ipython",
    "version": 2
   },
   "file_extension": ".py",
   "mimetype": "text/x-python",
   "name": "python",
   "nbconvert_exporter": "python",
   "pygments_lexer": "ipython2",
   "version": "2.7.6"
  }
 },
 "nbformat": 4,
 "nbformat_minor": 0
}