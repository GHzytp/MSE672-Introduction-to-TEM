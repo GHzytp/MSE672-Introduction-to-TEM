{
 "cells": [
  {
   "cell_type": "markdown",
   "metadata": {
    "id": "0rmnHFFLAbuK"
   },
   "source": [
    "<font size = \"5\"> **[MSE672: Introduction to TEM](https://gduscher.github.io/MSE672-Introduction-to-TEM/)** </font>\n",
    "\n",
    "<hr style=\"height:1px;border-top:4px solid #FF8200\" />\n",
    "\n",
    "by \n",
    "\n",
    "Gerd Duscher\n",
    "\n",
    "Materials Science & Engineering<br>\n",
    "Joint Institute of Advanced Materials<br>\n",
    "The University of Tennessee, Knoxville\n",
    "\n",
    "# Test Notebook"
   ]
  },
  {
   "cell_type": "markdown",
   "metadata": {
    "id": "zDbWs5s0AC1l"
   },
   "source": [
    "First we need to load the libraries we want to use. All of those are installed in Google colab and annaconda."
   ]
  },
  {
   "cell_type": "code",
   "execution_count": null,
   "metadata": {
    "executionInfo": {
     "elapsed": 1026,
     "status": "ok",
     "timestamp": 1609169925831,
     "user": {
      "displayName": "Gerd D",
      "photoUrl": "",
      "userId": "02112921857027034506"
     },
     "user_tz": 300
    },
    "id": "hldG1pG3ABo4"
   },
   "outputs": [],
   "source": [
    "import numpy as np\n",
    "import bokeh.plotting\n",
    "import bokeh.io\n",
    "\n",
    "bokeh.io.output_notebook()"
   ]
  },
  {
   "cell_type": "markdown",
   "metadata": {
    "id": "L8BZWYPBAOCK"
   },
   "source": [
    "Now we run the next code cell to plot a graph."
   ]
  },
  {
   "cell_type": "code",
   "execution_count": null,
   "metadata": {
    "colab": {
     "base_uri": "https://localhost:8080/",
     "height": 267
    },
    "executionInfo": {
     "elapsed": 845,
     "status": "ok",
     "timestamp": 1609169942112,
     "user": {
      "displayName": "Gerd D",
      "photoUrl": "",
      "userId": "02112921857027034506"
     },
     "user_tz": 300
    },
    "id": "BJMl8k_9AGnh",
    "outputId": "3eec6ace-946a-47bc-f992-240f3e6226b2"
   },
   "outputs": [],
   "source": [
    "# Generate plotting values\n",
    "t = np.linspace(0, 2*np.pi, 200)\n",
    "x = 16 * np.sin(t)**3\n",
    "y = 13 * np.cos(t) - 5 * np.cos(2*t) - 2 * np.cos(3*t) - np.cos(4*t)\n",
    "\n",
    "p = bokeh.plotting.figure(height=250, width=275)\n",
    "p.line(x, y, color='red', line_width=3)\n",
    "text = bokeh.models.Label(x=0, y=0, text='MSE 672', text_align='center')\n",
    "p.add_layout(text)\n",
    "\n",
    "bokeh.io.show(p)"
   ]
  },
  {
   "cell_type": "markdown",
   "metadata": {
    "id": "6g-NWqInArfL"
   },
   "source": [
    "<font size = \"1\">\n",
    "*Code of Love gleened from:\n",
    "https://bebi103a.github.io/lessons/00/setting_up_your_computer.html*\n",
    "</font>"
   ]
  },
  {
   "cell_type": "code",
   "execution_count": null,
   "metadata": {
    "pycharm": {
     "name": "#%%\n"
    }
   },
   "outputs": [],
   "source": []
  }
 ],
 "metadata": {
  "colab": {
   "authorship_tag": "ABX9TyOpYLxoqxNx8/BAxCcPdAJq",
   "collapsed_sections": [],
   "name": "TestNotebook.ipynb",
   "provenance": []
  },
  "kernelspec": {
   "display_name": "Python 3",
   "language": "python",
   "name": "python3"
  },
  "language_info": {
   "codemirror_mode": {
    "name": "ipython",
    "version": 3
   },
   "file_extension": ".py",
   "mimetype": "text/x-python",
   "name": "python",
   "nbconvert_exporter": "python",
   "pygments_lexer": "ipython3",
   "version": "3.8.6"
  },
  "toc": {
   "base_numbering": 1,
   "nav_menu": {},
   "number_sections": true,
   "sideBar": true,
   "skip_h1_title": false,
   "title_cell": "Table of Contents",
   "title_sidebar": "Contents",
   "toc_cell": false,
   "toc_position": {},
   "toc_section_display": true,
   "toc_window_display": false
  }
 },
 "nbformat": 4,
 "nbformat_minor": 1
}
