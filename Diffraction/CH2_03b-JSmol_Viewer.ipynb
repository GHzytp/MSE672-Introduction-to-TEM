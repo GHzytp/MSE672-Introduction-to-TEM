{
 "cells": [
  {
   "cell_type": "markdown",
   "metadata": {
    "slideshow": {
     "slide_type": "slide"
    }
   },
   "source": [
    "\n",
    "<font size = \"5\"> **Chapter 2: [Diffraction](CH2_00-Diffraction.ipynb)** </font>\n",
    "\n",
    "\n",
    "<hr style=\"height:1px;border-top:4px solid #FF8200\" />\n",
    "\n",
    "\n",
    "# Plotting Atomic Structures\n",
    "\n",
    "\n",
    "<font size = \"5\"> with JSmol</font>\n",
    "\n",
    "\n",
    "[Download](https://raw.githubusercontent.com/gduscher/MSE672-Introduction-to-TEM//main/Diffraction/CH2_03b-FourierTransformLaboratory.ipynb)\n",
    "\n",
    "part of \n",
    "\n",
    "<font size = \"5\"> **[MSE672:  Introduction to Transmission Electron Microscopy](../_MSE672_Intro_TEM.ipynb)**</font>\n",
    "\n",
    "by Gerd Duscher, Spring 2022\n",
    "\n",
    "Microscopy Facilities<br>\n",
    "Institute of Advanced Materials & Manufacturing<br>\n",
    "Materials Science & Engineering<br>\n",
    "The University of Tennessee, Knoxville\n",
    "\n",
    "Background and methods to analysis and quantification of data acquired with transmission electron microscopes.\n",
    "\n"
   ]
  },
  {
   "cell_type": "markdown",
   "metadata": {},
   "source": [
    "## Import numerical and plotting python packages\n",
    "### Check Installed Packages"
   ]
  },
  {
   "cell_type": "code",
   "execution_count": 4,
   "metadata": {},
   "outputs": [
    {
     "name": "stdout",
     "output_type": "stream",
     "text": [
      "done\n"
     ]
    }
   ],
   "source": [
    "import sys\n",
    "from pkg_resources import get_distribution, DistributionNotFound\n",
    "\n",
    "def test_package(package_name):\n",
    "    \"\"\"Test if package exists and returns version or -1\"\"\"\n",
    "    try:\n",
    "        version = get_distribution(package_name).version\n",
    "    except (DistributionNotFound, ImportError) as err:\n",
    "        version = '-1'\n",
    "    return version\n",
    "\n",
    "if test_package('pyTEMlib') < '0.2021.1.9':\n",
    "    print('installing pyTEMlib')\n",
    "    !{sys.executable} -m pip install  --upgrade pyTEMlib -q\n",
    "\n",
    "if test_package('jupyter-jsmol') < '2022.1.0':\n",
    "    print('installing jupyter-jsmol')\n",
    "    !conda install --yes --prefix {sys.prefix} -c conda-forge jupyter-jsmol\n",
    "print('done')"
   ]
  },
  {
   "cell_type": "markdown",
   "metadata": {
    "slideshow": {
     "slide_type": "slide"
    }
   },
   "source": [
    "### Load the plotting and ase packages"
   ]
  },
  {
   "cell_type": "code",
   "execution_count": 20,
   "metadata": {
    "slideshow": {
     "slide_type": "-"
    }
   },
   "outputs": [
    {
     "name": "stdout",
     "output_type": "stream",
     "text": [
      "pyTEMlib version:  0.2022.1.1\n"
     ]
    }
   ],
   "source": [
    "import ase\n",
    "import ase.build\n",
    "import itertools\n",
    "import numpy as np\n",
    "\n",
    "import sys\n",
    "sys.path.insert(0, '../../pyTEMlib')\n",
    "\n",
    "import pyTEMlib\n",
    "import pyTEMlib.crystal_tools \n",
    "\n",
    "print('pyTEMlib version: ', pyTEMlib.__version__)"
   ]
  },
  {
   "cell_type": "markdown",
   "metadata": {
    "slideshow": {
     "slide_type": "slide"
    }
   },
   "source": [
    "## Make Crystal Structure of Intermetallic Al$_2$Cu"
   ]
  },
  {
   "cell_type": "code",
   "execution_count": 2,
   "metadata": {},
   "outputs": [
    {
     "data": {
      "text/plain": [
       "Atoms(symbols='Cu4Al8', pbc=True, cell=[5.76911, 5.76911, 5.76911])"
      ]
     },
     "execution_count": 2,
     "metadata": {},
     "output_type": "execute_result"
    }
   ],
   "source": [
    "atoms = ase.build.bulk('Cu', 'fcc', a=5.76911, cubic=True)\n",
    "for pos in list(itertools.product([0.25, .75], repeat=3)):\n",
    "    atoms += ase.Atom('Al', atoms.cell.lengths()*pos)\n",
    "atoms"
   ]
  },
  {
   "cell_type": "markdown",
   "metadata": {
    "slideshow": {
     "slide_type": "slide"
    }
   },
   "source": [
    "##  View Crystal Structure\n",
    "\n",
    "This very nice plot that apears is fully interactive: use your mouse or touchscreen."
   ]
  },
  {
   "cell_type": "code",
   "execution_count": 22,
   "metadata": {},
   "outputs": [
    {
     "data": {
      "application/vnd.jupyter.widget-view+json": {
       "model_id": "61658e89d55148dfb4004e48490bf77d",
       "version_major": 2,
       "version_minor": 0
      },
      "text/plain": [
       "JsmolView(layout=Layout(align_self='stretch', height='400px'))"
      ]
     },
     "metadata": {},
     "output_type": "display_data"
    }
   ],
   "source": [
    "# --- Input ----\n",
    "size = 3\n",
    "# --------------\n",
    "\n",
    "view = pyTEMlib.crystal_tools.jmol_viewer(atoms, size=size)"
   ]
  },
  {
   "cell_type": "markdown",
   "metadata": {},
   "source": [
    "### Modify the plot\n",
    ">Try some of the comands here:\n",
    "\n",
    "switch unit cell off"
   ]
  },
  {
   "cell_type": "code",
   "execution_count": 4,
   "metadata": {},
   "outputs": [],
   "source": [
    "view.script('unitcell off')"
   ]
  },
  {
   "cell_type": "markdown",
   "metadata": {},
   "source": [
    "reset view"
   ]
  },
  {
   "cell_type": "code",
   "execution_count": 6,
   "metadata": {},
   "outputs": [],
   "source": [
    "view.script('moveto 0 1 0 0 -90;')"
   ]
  },
  {
   "cell_type": "markdown",
   "metadata": {},
   "source": [
    "save to file"
   ]
  },
  {
   "cell_type": "code",
   "execution_count": 18,
   "metadata": {},
   "outputs": [],
   "source": [
    "view.script('write IMAGE 1000 1000 JPG 100 \"image.jpg\"')"
   ]
  },
  {
   "cell_type": "markdown",
   "metadata": {},
   "source": [
    "### Close the plot"
   ]
  },
  {
   "cell_type": "code",
   "execution_count": 21,
   "metadata": {},
   "outputs": [],
   "source": [
    "view.close_all()"
   ]
  },
  {
   "cell_type": "markdown",
   "metadata": {},
   "source": [
    "## Navigation\n",
    "- <font size = \"3\">  **Back Chapter 1: [Introduction](CH1_00-Introduction.ipynb)** </font>\n",
    "- <font size = \"3\">  **Next: [Atomic Form Factor](CH2_02-Atomic_Form_Factor.ipynb)** </font>\n",
    "- <font size = \"3\">  **Chapter 2: [Diffraction](CH2_00-_Diffraction.ipynb)** </font>\n",
    "- <font size = \"3\">  **List of Content: [Front](../_MSE672_Intro_TEM.ipynb)** </font>"
   ]
  },
  {
   "cell_type": "markdown",
   "metadata": {
    "slideshow": {
     "slide_type": "slide"
    }
   },
   "source": [
    "## Appendix: Code for Plotting"
   ]
  },
  {
   "cell_type": "code",
   "execution_count": 11,
   "metadata": {},
   "outputs": [],
   "source": [
    "def jmol_viewer(atoms, size=2):\n",
    "    \"\"\"\n",
    "    jmol viewer of ase .Atoms object\n",
    "    requires jupyter-jsmol to be installed (available through conda or pip)\n",
    "    \n",
    "    Parameter\n",
    "    ---------\n",
    "    atoms: ase.Atoms\n",
    "        structure info\n",
    "    size: int, list, or np.array of size 3; default 1\n",
    "        size of unit_cell; maximum = 8\n",
    "        \n",
    "    Returns\n",
    "    -------\n",
    "    view: JsmolView object\n",
    "    \n",
    "    Example\n",
    "    -------\n",
    "    from jupyter_jsmol import JsmolView\n",
    "    import ase\n",
    "    import ase.build\n",
    "    import itertools\n",
    "    import numpy as np\n",
    "    import pyTEMlib.crystal_tools \n",
    "    \n",
    "    atoms = ase.build.bulk('Cu', 'fcc', a=5.76911, cubic=True)\n",
    "    for pos in list(itertools.product([0.25, .75], repeat=3)):\n",
    "        atoms += ase.Atom('Al', al2cu.cell.lengths()*pos)\n",
    "        \n",
    "    view = pyTEMlib.crystal_tools.jmol_viewer(atoms, size=3)\n",
    "    display(view)\n",
    "    \"\"\"\n",
    "    try:\n",
    "        from jupyter_jsmol import JsmolView\n",
    "    except ImportError:\n",
    "        print('this function is based on jupyter-jsmol, please install with conda install -c conda-forge jupyter-jsmol')\n",
    "        return\n",
    "    \n",
    "    \n",
    "    if isinstance(size, int):\n",
    "        size = [size]*3\n",
    "        \n",
    "    [a, b, c] = atoms.cell.lengths()\n",
    "    [alpha, beta, gamma] = atoms.cell.angles()\n",
    "\n",
    "    view = JsmolView.from_ase(atoms, f\"{{{size[0]} {size[1]} {size[2]}}}\"\n",
    "                                     f\" unitcell {{{a:.3f} {b:.3f} {c:.3f} {alpha:.3f} {beta:.3f} {gamma:.3f}}}\")\n",
    "\n",
    "    display(view)\n",
    "    \n",
    "    return view"
   ]
  },
  {
   "cell_type": "code",
   "execution_count": null,
   "metadata": {},
   "outputs": [],
   "source": []
  }
 ],
 "metadata": {
  "kernelspec": {
   "display_name": "Python 3 (ipykernel)",
   "language": "python",
   "name": "python3"
  },
  "language_info": {
   "codemirror_mode": {
    "name": "ipython",
    "version": 3
   },
   "file_extension": ".py",
   "mimetype": "text/x-python",
   "name": "python",
   "nbconvert_exporter": "python",
   "pygments_lexer": "ipython3",
   "version": "3.9.7"
  },
  "toc": {
   "base_numbering": "3",
   "nav_menu": {},
   "number_sections": true,
   "sideBar": true,
   "skip_h1_title": false,
   "title_cell": "Table of Contents",
   "title_sidebar": "Contents",
   "toc_cell": false,
   "toc_position": {},
   "toc_section_display": true,
   "toc_window_display": true
  }
 },
 "nbformat": 4,
 "nbformat_minor": 1
}
