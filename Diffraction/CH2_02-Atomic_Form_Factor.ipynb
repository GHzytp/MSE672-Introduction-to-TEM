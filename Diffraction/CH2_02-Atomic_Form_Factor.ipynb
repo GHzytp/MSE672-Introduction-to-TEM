{
 "cells": [
  {
   "cell_type": "markdown",
   "metadata": {
    "slideshow": {
     "slide_type": "slide"
    }
   },
   "source": [
    "<font size = \"5\"> **Chapter 2: [Diffraction](CH2_00-Diffraction.ipynb)** </font>\n",
    "\n",
    "\n",
    "<hr style=\"height:1px;border-top:4px solid #FF8200\" />\n",
    "\n",
    "\n",
    "# Atomic Form Factor\n",
    "\n",
    "[Download](https://raw.githubusercontent.com/gduscher/MSE672-Introduction-to-TEM//main/Diffraction/CH2_02-Atomic_Form_Factor.ipynb)\n",
    " \n",
    "[![Open In Colab](https://colab.research.google.com/assets/colab-badge.svg)](\n",
    "    https://colab.research.google.com/github/gduscher/MSE672-Introduction-to-TEM/blob/main/Diffraction/CH2_02-Atomic_Form_Factor.ipynb)\n",
    "\n",
    "\n",
    "\n",
    "part of \n",
    "\n",
    "<font size = \"5\"> **[MSE672:  Introduction to Transmission Electron Microscopy](../_MSE672_Intro_TEM.ipynb)**</font>\n",
    "\n",
    "by Gerd Duscher, Spring 2021\n",
    "\n",
    "Microscopy Facilities<br>\n",
    "Joint Institute of Advanced Materials<br>\n",
    "Materials Science & Engineering<br>\n",
    "The University of Tennessee, Knoxville\n",
    "\n",
    "Background and methods to analysis and quantification of data acquired with transmission electron microscopes.\n"
   ]
  },
  {
   "cell_type": "markdown",
   "metadata": {
    "slideshow": {
     "slide_type": "slide"
    }
   },
   "source": [
    "## Import numerical and plotting python packages\n",
    "### Check Installed Packages"
   ]
  },
  {
   "cell_type": "code",
   "execution_count": null,
   "metadata": {},
   "outputs": [],
   "source": [
    "import sys\n",
    "from pkg_resources import get_distribution, DistributionNotFound\n",
    "\n",
    "def test_package(package_name):\n",
    "    \"\"\"Test if package exists and returns version or -1\"\"\"\n",
    "    try:\n",
    "        version = get_distribution(package_name).version\n",
    "    except (DistributionNotFound, ImportError) as err:\n",
    "        version = '-1'\n",
    "    return version\n",
    "\n",
    "# Colab setup ------------------\n",
    "if 'google.colab' in sys.modules:\n",
    "    !pip install pyTEMlib -q\n",
    "# pyTEMlib setup ------------------\n",
    "else:\n",
    "    if test_package('pyTEMlib') < '0.2021.1.9':\n",
    "        print('installing pyTEMlib')\n",
    "        !{sys.executable} -m pip install  --upgrade pyTEMlib -q\n",
    "# ------------------------------\n",
    "print('done')"
   ]
  },
  {
   "cell_type": "markdown",
   "metadata": {},
   "source": [
    "### Load the plotting and figure packages"
   ]
  },
  {
   "cell_type": "code",
   "execution_count": null,
   "metadata": {},
   "outputs": [],
   "source": [
    "import sys\n",
    "if 'google.colab' in sys.modules:\n",
    "    %pylab --no-import-all inline\n",
    "else:\n",
    "    %pylab --no-import-all notebook\n",
    "\n",
    "# additional package \n",
    "import scipy.constants as const\n",
    "\n",
    "# Import libraries from the pyTEMlib\n",
    "import pyTEMlib.KinsCat as ks         # Kinematic sCattering Library\n",
    "                             # with Atomic form factors from Kirklands book"
   ]
  },
  {
   "cell_type": "code",
   "execution_count": null,
   "metadata": {
    "slideshow": {
     "slide_type": "-"
    }
   },
   "outputs": [],
   "source": [
    "# import matplotlib and numpy\n",
    "#                       use \"inline\" instead of \"notebook\" for non-interactive plots\n",
    "#                       use widget for jupyter lab\n",
    "%pylab --no-import-all notebook \n",
    "\n",
    "# additional package \n",
    "import scipy.constants as const\n",
    "\n",
    "# Import libraries from the pyTEMlib\n",
    "import pyTEMlib.KinsCat as ks         # Kinematic sCattering Library\n",
    "                             # with Atomic form factors from Kirklands book"
   ]
  },
  {
   "cell_type": "markdown",
   "metadata": {},
   "source": [
    "## Coulomb Force\n",
    "\n",
    "The electron scatters at the Coulomb force of the screened nucleus of an atom. This force is:\n",
    "\n",
    "$\\mathbf{F} = \\frac{1}{4\\pi\\varepsilon_0}\\frac{Qq}{r^2}\\mathbf{\\hat{e}}_r \n",
    "=  k_\\text{e}\\frac{Qq}{r^2}\\mathbf{\\hat{e}}_r $\n",
    "\n",
    "$k_\\text{e} = \\frac{1}{4\\pi\\varepsilon_0}= 8.987\\,551\\,787\\,368\\,1764\\times 10^9~\\mathrm{N\\ m^2\\ C^{-2}}$\n"
   ]
  },
  {
   "cell_type": "code",
   "execution_count": null,
   "metadata": {},
   "outputs": [],
   "source": [
    "Z = 79 # gold\n",
    "\n",
    "k_e = 1/(4* const.pi * const.epsilon_0)\n",
    "F_r_m = k_e * Z* const.e**2 /const.m_e\n",
    "print(f\" k_e   = {k_e:.1f} N m\\u00b2C\\u207B\\u00b2\")\n",
    "print(f\" F_r_m = {F_r_m:.1f} N m\\u00b2 kg\\u207B\\u00B9 = {F_r_m:.1f} m\\u00b3s\\u207B\\u00B2\")"
   ]
  },
  {
   "cell_type": "code",
   "execution_count": null,
   "metadata": {},
   "outputs": [],
   "source": [
    "def coulomb_plot(impact_param = 1.0, Z = 79, v_c = 0.5):\n",
    "    # all length are in m\n",
    "    #time interval for each iteration. Should be chosen small enough so that\n",
    "    #the velocity change and position change in this interval is relatively\n",
    "    #small. If too small this calculation will take a while\n",
    "    dt = 1e-20 # s\n",
    "    \n",
    "    x = -50.0*1e-9 # starting x in m\n",
    "    y = impact_param*1e-9  #in m\n",
    "    #starting y\n",
    "    x_coords=[x] #array for the x coordinates of the plot\n",
    "    y_coords=[y] #array for the y coordinates of the plot\n",
    "    vx = v_c * const.c #initial x velocity in m/s\n",
    "    vy = 0.0 #initial y velocity\n",
    "    \n",
    "    r = np.sqrt(x*x + y*y)\n",
    "    rold = r*2 # an arbitrary value more than r\n",
    "\n",
    "    k_e = 1/(4* const.pi * const.epsilon_0) #[N m^2 C^-2]\n",
    "    F_r_m = -k_e * Z* const.e**2/const.m_e # [ N m^2 / kg]\n",
    "    \n",
    "    # The plot coordinates are generated as long as the incident particle\n",
    "    # is going towards the origin( which means that r < rold )\n",
    "    # or\n",
    "    # if it is coming out, as long as r < 50.0 nm. You can choose this to be\n",
    "    # something else.\n",
    "    while (r < rold) or ( r < 50.0*1e-9) :\n",
    "        rold = r # old r is changed to the current r\n",
    "        x = x + vx*dt# calculate new x\n",
    "        y = y + vy*dt# calculate new y\n",
    "        # add x and y to the plotting coordinates for x and y\n",
    "        x_coords.append(x)\n",
    "        y_coords.append(y)\n",
    "        r = np.sqrt(x*x + y*y)\n",
    "        \n",
    "        #vx = vx + x-acceleration*dt = vx + Fx/m*dt \n",
    "        #Fx = x component of Coulomb force = (magnitude of F)*cos(theta) =\n",
    "        #(magnitude of F)*x/r = \n",
    "        #vx = vx + (F_r/m/r^2)*x/r = F_r_m * x/r^3,\n",
    "        vx = vx + F_r_m*x/r**3*dt\n",
    "        #as for vx\n",
    "        vy = vy + F_r_m*y/r**3*dt\n",
    "        \n",
    "    return np.array(x_coords), np.array(y_coords)\n",
    "\n",
    "\n",
    "#plotting trajectories for 4 impact parameters\n",
    "plt.figure()\n",
    "for b in [-1e-5, -0.001, -0.1, -1.0, -2.0, -4.0, -6.0]:\n",
    "    xc, yc = coulomb_plot(b, Z= 79, v_c = 0.7)\n",
    "    plt.plot(xc*1e9,yc*1e9, label = str(b))\n",
    "\n",
    "plt.xlabel('distance [nm]')\n",
    "plt.ylabel('impact parameter [nm]')\n",
    "plt.legend();"
   ]
  },
  {
   "cell_type": "markdown",
   "metadata": {},
   "source": [
    "Above graph was calulated for 200keV electrons.\n",
    "What changes if you change the v_c = v/c parameter to higher or lower speeds?\n",
    "\n",
    "|E (keV)|$\\lambda$ (pm) | M/m$_0$ | v/c|\n",
    "--------|---------------|---------|----|\n",
    "|10 |  12.2 | 1.0796 | 0.1950 |\n",
    "|30 | 6.02 | 1.129 | 0.3284 |\n",
    "|100 | 3.70 | 1.1957 | 0.5482|\n",
    "|200 | 2.51 | 1.3914 |  0.6953|\n",
    "|400 | 1.64 | 1.7828 | 0.8275 |\n",
    "|1000 | 0.87 | 2.9569 | 0.9411|\n",
    "\n",
    "You can also change the atom number."
   ]
  },
  {
   "cell_type": "code",
   "execution_count": null,
   "metadata": {},
   "outputs": [],
   "source": [
    "#plotting trajectories for 7 impact parameters\n",
    "plt.figure()\n",
    "for b in [-1e-5, -0.001, -0.1, -1.0, -2.0, -4.0, -6.0]:\n",
    "    xc, yc = coulomb_plot(b, Z= 6, v_c = 0.7)\n",
    "    plt.plot(xc*1e9,yc*1e9, label = str(b))\n",
    "\n",
    "plt.xlabel('distance [nm]')\n",
    "plt.ylabel('impact parameter [nm]')\n",
    "plt.legend()\n",
    "plt.show()"
   ]
  },
  {
   "cell_type": "markdown",
   "metadata": {},
   "source": [
    "If we look at the scattering power of a single atom that deflects an electron:\n",
    "    \n",
    "![Single Electron Scattering](images/scattering_single_atom.jpg)\n",
    "\n",
    "The scattering power is dependent on the so-called atomic form factor $f_e$ ( the subscript $_e$ means this is for electrons).\n",
    "\n",
    "99\n",
    "Since an electron scatters through the coulomb force of the (screend) nucleus, the form factor is the inner potential.\n",
    "We can 9\n",
    "\n"
   ]
  },
  {
   "cell_type": "markdown",
   "metadata": {},
   "source": [
    "## Atomic Form Factor\n",
    "\n",
    "$$ |f(\\theta)|^2 = \\frac{d\\sigma(\\theta)}{d\\Omega} $$\n",
    "\n",
    "What does that mean for us:\n",
    "\n",
    "- The atomic structure factor gives the amplitude of an electron wave\n",
    "\tscattered from an isolated atom.\n",
    "- $|f(\\theta)|^2$ is proportional to the scattered intensity.\n",
    "- The atomic scattering factor depends on atomic number $Z$, wavelength $\\lambda$ and scattering angle $\\theta$.  \n",
    "- The atomic structure factors for each element are tabulated.\n"
   ]
  },
  {
   "cell_type": "markdown",
   "metadata": {},
   "source": [
    "## Tabulated Atomic Form Factors\n",
    "The calculated form factors are tabulated and can be plotted according to the momentum transfer.\n",
    "\n",
    "Here we use the values from Appendix C of Kirkland, \"Advanced Computing in Electron Microscopy\", 2nd ed.\n",
    "\n",
    "The calculation of electron form factor for specific $q$ perfommed by the KinsCat function *feq* using equation Kirkland C.17"
   ]
  },
  {
   "cell_type": "code",
   "execution_count": null,
   "metadata": {
    "scrolled": true
   },
   "outputs": [],
   "source": [
    "# recreating figure 5.8 of Kirkland, \"Advanced Computing in Electron Microscopy\" 2nd ed.   \n",
    "x = []\n",
    "ySi = []\n",
    "yC = []\n",
    "yCu =[]\n",
    "yAu =[]\n",
    "yU = []\n",
    "for i in range(100):\n",
    "    x.append(i/5)\n",
    "    ySi.append(ks.feq('Si', i/5))\n",
    "    yC.append(ks.feq('C', i/5))\n",
    "    yCu.append(ks.feq('Cu', i/5))\n",
    "    yAu.append(ks.feq('Au', i/5))\n",
    "    yU.append(ks.feq('U', i/5))\n",
    "fig = plt.figure()\n",
    "plt.plot(x,ySi,label='Si')\n",
    "plt.plot(x,yC,label='C')\n",
    "plt.plot(x,yCu,label='Cu')\n",
    "plt.plot(x,yAu,label='Au')\n",
    "plt.plot(x,yU,label='U')\n",
    "plt.legend()\n",
    "plt.ylabel('scattering factor (in Ang.)')\n",
    "plt.xlabel('scattering angle q (in 1/nm)')\n",
    "plt.show()\n"
   ]
  },
  {
   "cell_type": "markdown",
   "metadata": {},
   "source": [
    "Adding atoms in a row makes the atom just look heavier:\n",
    "\n",
    "![Structure Factor](images/form_factor.jpg)\n",
    "\n",
    "Similar effects appear if atoms are periodically arranged. That is discussed in more detail in the \n",
    "[Structure Factors](CH2_04-Structure_Factors.ipynb) notebook."
   ]
  },
  {
   "cell_type": "markdown",
   "metadata": {},
   "source": [
    "## Conclusion\n",
    "The scattering power of an atom is given by the tabulated scattering factors. As long as there are no dynamic effects the scattering factors can be combined linearly.\n",
    "\n",
    "Next we need to transfer out knowledge into a  diffraction pattern."
   ]
  },
  {
   "cell_type": "markdown",
   "metadata": {},
   "source": [
    "## Navigation\n",
    "- <font size = \"3\">  **Back [The Electron](CH2_01-Electron.ipynb)** </font>\n",
    "- <font size = \"3\">  **Next: [Basic Crystallography](CH2_03-Basic_Crystallography.ipynb)** </font>\n",
    "- <font size = \"3\">  **Chapter 2: [Diffraction](CH2_00-Diffraction.ipynb)** </font>\n",
    "- <font size = \"3\">  **List of Content: [Front](../_MSE672_Intro_TEM.ipynb_.ipynb)** </font>\n"
   ]
  },
  {
   "cell_type": "code",
   "execution_count": null,
   "metadata": {},
   "outputs": [],
   "source": []
  }
 ],
 "metadata": {
  "celltoolbar": "Slideshow",
  "kernelspec": {
   "display_name": "Python 3",
   "language": "python",
   "name": "python3"
  },
  "language_info": {
   "codemirror_mode": {
    "name": "ipython",
    "version": 3
   },
   "file_extension": ".py",
   "mimetype": "text/x-python",
   "name": "python",
   "nbconvert_exporter": "python",
   "pygments_lexer": "ipython3",
   "version": "3.8.6"
  },
  "livereveal": {
   "height": 768,
   "theme": "sky",
   "transition": "zoom",
   "width": 1024
  },
  "toc": {
   "base_numbering": "2",
   "nav_menu": {},
   "number_sections": true,
   "sideBar": true,
   "skip_h1_title": false,
   "title_cell": "Table of Contents",
   "title_sidebar": "Contents",
   "toc_cell": false,
   "toc_position": {
    "height": "calc(100% - 180px)",
    "left": "10px",
    "top": "150px",
    "width": "240px"
   },
   "toc_section_display": true,
   "toc_window_display": true
  }
 },
 "nbformat": 4,
 "nbformat_minor": 4
}
